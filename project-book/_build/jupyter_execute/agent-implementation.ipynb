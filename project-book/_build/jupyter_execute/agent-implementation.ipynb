{
 "cells": [
  {
   "cell_type": "markdown",
   "metadata": {},
   "source": [
    "# Agent Implementation\n",
    "\n",
    "## Villagers\n",
    "\n",
    "## Werewolves"
   ]
  }
 ],
 "metadata": {
  "language_info": {
   "name": "python"
  }
 },
 "nbformat": 4,
 "nbformat_minor": 2
}