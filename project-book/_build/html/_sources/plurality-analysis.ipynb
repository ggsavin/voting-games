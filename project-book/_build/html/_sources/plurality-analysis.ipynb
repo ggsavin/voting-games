{
 "cells": [
  {
   "cell_type": "code",
   "execution_count": 13,
   "metadata": {
    "tags": [
     "hide-cell"
    ]
   },
   "outputs": [],
   "source": [
    "import numpy as np\n",
    "import torch\n",
    "import sys\n",
    "sys.path.append('../')\n",
    "from voting_games.werewolf_env_v0 import plurality_env, Roles, Phase\n",
    "from notebooks.learning_agents.models import ActorCriticAgent\n",
    "from notebooks.learning_agents.utils import play_static_game, play_recurrent_game\n",
    "from notebooks.learning_agents.static_agents import (\n",
    "    random_plurality_villager, \n",
    "    random_coordinated_plurality_villager, \n",
    "    random_agent,\n",
    "    random_plurality_wolf,\n",
    "    revenge_plurality_wolf,\n",
    "    coordinated_revenge_plurality_wolf)\n",
    "import notebooks.learning_agents.stats as indicators\n",
    "import random\n",
    "import copy\n",
    "from matplotlib import pyplot as plt\n",
    "from tqdm import tqdm\n",
    "from tabulate import tabulate"
   ]
  },
  {
   "cell_type": "markdown",
   "metadata": {},
   "source": [
    "# Plurality Voting\n",
    "\n",
    "Plurality is a voting method where each voter picks a single candidate, and the candidate with the most votes is selected. It's simplicity has lead to wide adoption, however there are quite a few drawbacks, one of which being the limited expressibility of a voter.\n",
    "\n",
    "In our Werewolf plurality implementation, an agent can only select a single target, and cannot express their beliefs towards the remaining agents. This is also the voting mechanism used in every paper involving the Werewolf game up to now, so we want to see how our trained agents compare.\n"
   ]
  },
  {
   "cell_type": "markdown",
   "metadata": {},
   "source": [
    "## Win Rates\n",
    "\n",
    "We want to see how our hand-crafted agents play against eachother, with special interest given to coordinated random villagers and wolves. \n",
    "\n",
    "As expected, the coordinated random villagers and wolves performed the best out of the static policies {cite}`braverman2008mafia`.\n",
    "Our agent, trained against coordinated random wolves, performed better than all of our hand-crafted villager policies. They also generalized well against our other wolf policies, and actually had the highest win rates across the board.\n",
    "\n",
    "Below is code to generate the following table of 1000 runs between each villager policy and each werewolf policy. We base our discussion around this markdown table.\n",
    "\n",
    "Villager Strategy vs. | Totally Random Wolves | Coordinated Random Wolves | Revenge Wolves | Coordinated Revenge Wolves\n",
    "| --- | --- | --- | --- | --- | \n",
    "Totally Random | 0.597 | 0.042 | 0.076 | 0.074 |\n",
    "Random Targetting of living villagers | 0.705 | 0.125 | 0.192 | 0.244 |\n",
    "Coorindated random targetting | 0.653 | 0.314 | 0.304 | 0.281 |\n",
    "Trained villagers | 0.83 | 0.473| 0.45 | 0.503 |"
   ]
  },
  {
   "cell_type": "code",
   "execution_count": 6,
   "metadata": {
    "tags": [
     "hide-input"
    ]
   },
   "outputs": [
    {
     "name": "stdout",
     "output_type": "stream",
     "text": [
      "10 players, with 2 wolves - number of games played : 1000 \n",
      "\n",
      "Villager Strategy                        Totally Random Wolves    Coordinated Random Wolves    Revenge Wolves    Coordinated Revenge Wolves\n",
      "-------------------------------------  -----------------------  ---------------------------  ----------------  ----------------------------\n",
      "Totally Random                                           0.597                        0.042             0.076                         0.074\n",
      "Random Targetting of living villagers                    0.705                        0.125             0.192                         0.244\n",
      "Coorindated random targetting                            0.653                        0.314             0.304                         0.281\n",
      "Trained villagers                                        0.83                         0.473             0.45                          0.503\n"
     ]
    }
   ],
   "source": [
    "env = plurality_env(num_agents=10, werewolves=2, num_accusations=2)\n",
    "observations, _, _, _, _ = env.reset()\n",
    "\n",
    "obs_size= env.convert_obs(observations['player_0']['observation']).shape[-1]\n",
    "\n",
    "trained_plurality_agent = ActorCriticAgent({\"rec_hidden_size\": 128,\n",
    "                                        \"rec_layers\": 1, \n",
    "                                        \"joint_mlp_size\": 128,\n",
    "                                        \"split_mlp_size\": 128,\n",
    "                                        \"num_votes\": 1,\n",
    "                                        \"approval_states\": 10},\n",
    "                                        num_players=10,\n",
    "                                        obs_size=obs_size)\n",
    "trained_plurality_agent.load_state_dict(torch.load(\"../notebooks/stored_agents/lstm_first_no_one_hot_128_128/plurality_agent_10_score_46\"))\n",
    "\n",
    "num_games = 1000\n",
    "print(f'10 players, with 2 wolves - number of games played : {num_games} \\n')\n",
    "\n",
    "rv_wins = []\n",
    "rv_replays = []\n",
    "for wolf_policy in [random_agent, random_plurality_wolf, revenge_plurality_wolf, coordinated_revenge_plurality_wolf]:\n",
    "    wins, replays = play_static_game(env, wolf_policy, random_agent, num_times=num_games)\n",
    "    rv_wins.append(wins/float(num_games))\n",
    "    rv_replays.append(replays)\n",
    "\n",
    "rpv_wins = []\n",
    "rpv_replays = []\n",
    "for wolf_policy in [random_agent, random_plurality_wolf, revenge_plurality_wolf, coordinated_revenge_plurality_wolf]:\n",
    "    wins, replays = play_static_game(env, wolf_policy, random_plurality_villager, num_times=num_games)\n",
    "    rpv_wins.append(wins/float(num_games))\n",
    "    rpv_replays.append(replays)\n",
    "\n",
    "cpv_wins = []\n",
    "cpv_replays = []\n",
    "for wolf_policy in [random_agent, random_plurality_wolf, revenge_plurality_wolf, coordinated_revenge_plurality_wolf]:\n",
    "    wins, replays = play_static_game(env, wolf_policy, random_coordinated_plurality_villager, num_times=num_games)\n",
    "    cpv_wins.append(wins/float(num_games))\n",
    "    cpv_replays.append(replays)\n",
    "\n",
    "tpv_wins = []\n",
    "tpv_replays = []\n",
    "for wolf_policy in [random_agent, random_plurality_wolf, revenge_plurality_wolf, coordinated_revenge_plurality_wolf]:\n",
    "    # wins, replays = play_static_game(env, wolf_policy, random_agent, num_times=num_games)[0]/float(num_games)\n",
    "    wins, replays = play_recurrent_game(env, wolf_policy, trained_plurality_agent, num_times=num_games, hidden_state_size=128, voting_type=\"plurality\")\n",
    "    tpv_wins.append(wins/float(num_games))\n",
    "    tpv_replays.append(replays)\n",
    "\n",
    "print(tabulate([['Totally Random', *rv_wins], \n",
    "                ['Random Targetting of living villagers', *rpv_wins], \n",
    "                ['Coorindated random targetting', *cpv_wins], \n",
    "                ['Trained villagers', *tpv_wins]], \n",
    "               headers=[\"Villager Strategy\", \n",
    "                        \"Totally Random Wolves\", \n",
    "                        \"Coordinated Random Wolves\", \n",
    "                        \"Revenge Wolves\",\n",
    "                        \"Coordinated Revenge Wolves\"]))"
   ]
  },
  {
   "cell_type": "markdown",
   "metadata": {},
   "source": [
    "## Indicators\n",
    "\n",
    "We base our analysis overview "
   ]
  },
  {
   "cell_type": "markdown",
   "metadata": {},
   "source": [
    "### Days elapsed before a villager win"
   ]
  },
  {
   "cell_type": "code",
   "execution_count": 27,
   "metadata": {},
   "outputs": [
    {
     "name": "stdout",
     "output_type": "stream",
     "text": [
      "Average amount of days until a win is achieved by villagers in plurality games\n",
      "\t Trained villagers : 2.88\n",
      "\t Random Coordinated Villagers : 3.49\n",
      "\t Random Living Villagers : 3.50\n",
      "\t Totally Random Villagers : 3.36\n"
     ]
    }
   ],
   "source": [
    "tpv_win_replays = [r for r in tpv_replays[1] if r[-1][\"winners\"] == Roles.VILLAGER]\n",
    "rv_win_replays = [r for r in rv_replays[1] if r[-1][\"winners\"] == Roles.VILLAGER]\n",
    "rpv_win_replays = [r for r in rpv_replays[1] if r[-1][\"winners\"] == Roles.VILLAGER]\n",
    "cpv_win_replays = [r for r in cpv_replays[1] if r[-1][\"winners\"] == Roles.VILLAGER]\n",
    "\n",
    "print(\"Average amount of days until a win is achieved by villagers in plurality games\")\n",
    "print(f'\\t Trained villagers : {np.mean([villager_win[-1][\"day\"] for villager_win in tpv_win_replays]):.2f}')\n",
    "print(f'\\t Random Coordinated Villagers : {np.mean([villager_win[-1][\"day\"] for villager_win in cpv_win_replays]):.2f}')\n",
    "print(f'\\t Random Living Villagers : {np.mean([villager_win[-1][\"day\"] for villager_win in rpv_win_replays]):.2f}')\n",
    "print(f'\\t Totally Random Villagers : {np.mean([villager_win[-1][\"day\"] for villager_win in rv_win_replays]):.2f}')"
   ]
  },
  {
   "cell_type": "markdown",
   "metadata": {},
   "source": [
    "We had mentioned that this days elapsed indicator is a quick litmus test for any learned improvements, and we can see that the trained agent is quicker on average."
   ]
  },
  {
   "cell_type": "markdown",
   "metadata": {},
   "source": [
    "### Days between wolf executions"
   ]
  },
  {
   "cell_type": "code",
   "execution_count": 28,
   "metadata": {},
   "outputs": [
    {
     "name": "stdout",
     "output_type": "stream",
     "text": [
      "Average amount of days until the next wolf was killed in plurality games for 2 wolf environments\n",
      "\tDays between wolf kills for trained agents : 1.529\n",
      "\tDays between wolf kills for CPV agents : 1.640\n",
      "\tDays between wolf kills for RPV agents : 1.696\n",
      "\tDays between wolf kills for random agents : 1.857\n"
     ]
    }
   ],
   "source": [
    "print(\"Average amount of days until the next wolf was killed in plurality games for 2 wolf environments\")\n",
    "wolf_execution_days = \\\n",
    "    [indicators._when_did_wolves_get_killed(trained_villager_win) for trained_villager_win in tpv_win_replays]\n",
    "wolf_execution_duration_between = [b-a for a,b in wolf_execution_days]\n",
    "print(f'\\tDays between wolf kills for trained agents : {np.mean(wolf_execution_duration_between):.3f}')\n",
    "wolf_execution_days = \\\n",
    "    [indicators._when_did_wolves_get_killed(trained_villager_win) for trained_villager_win in cpv_win_replays]\n",
    "wolf_execution_duration_between = [b-a for a,b in wolf_execution_days]\n",
    "print(f'\\tDays between wolf kills for CPV agents : {np.mean(wolf_execution_duration_between):.3f}')\n",
    "wolf_execution_days = \\\n",
    "    [indicators._when_did_wolves_get_killed(trained_villager_win) for trained_villager_win in rpv_win_replays]\n",
    "wolf_execution_duration_between = [b-a for a,b in wolf_execution_days]\n",
    "print(f'\\tDays between wolf kills for RPV agents : {np.mean(wolf_execution_duration_between):.3f}')\n",
    "wolf_execution_days = \\\n",
    "    [indicators._when_did_wolves_get_killed(trained_villager_win) for trained_villager_win in rv_win_replays]\n",
    "wolf_execution_duration_between = [b-a for a,b in wolf_execution_days]\n",
    "print(f'\\tDays between wolf kills for random agents : {np.mean(wolf_execution_duration_between):.3f}')"
   ]
  },
  {
   "cell_type": "markdown",
   "metadata": {},
   "source": [
    "This number is one we also expected to be lower, but it won't be as drastic in a 10 player game due to the shortness of games. At most we have $5$ days. Regardless, a lower number means the agents are better at identifying duplicitous werewolf players."
   ]
  },
  {
   "cell_type": "markdown",
   "metadata": {},
   "source": [
    "### Ties"
   ]
  },
  {
   "cell_type": "code",
   "execution_count": 30,
   "metadata": {},
   "outputs": [
    {
     "name": "stdout",
     "output_type": "stream",
     "text": [
      "Plurality tie indicators\n",
      "trained agent tie indicators\n",
      "\tLikelihood of ties in accusation phases : 0.29\n",
      "\tLikelihood of ties in voting phases : 0.19\n",
      "\tLikelihood of a tie in a voting phase given a tie in the prior accusation phases 0.18\n",
      "\tLikelihood of a wolf getting targetting in a subsequent voting round if they survived a tie : 0.70\n",
      "\n",
      "\n",
      "cpv agent tie indicators\n",
      "\tLikelihood of ties in accusation phases : 0.00\n",
      "\tLikelihood of ties in voting phases : 0.00\n",
      "\tLikelihood of a tie in a voting phase given a tie in the prior accusation phases nan\n",
      "\tLikelihood of a wolf getting targetting in a subsequent voting round if they survived a tie : nan\n",
      "\n",
      "\n",
      "rpv agent tie indicators\n",
      "\tLikelihood of ties in accusation phases : 0.38\n",
      "\tLikelihood of ties in voting phases : 0.44\n",
      "\tLikelihood of a tie in a voting phase given a tie in the prior accusation phases 0.48\n",
      "\tLikelihood of a wolf getting targetting in a subsequent voting round if they survived a tie : 0.57\n",
      "\n",
      "\n",
      "random agent tie indicators\n",
      "\tLikelihood of ties in accusation phases : 0.41\n",
      "\tLikelihood of ties in voting phases : 0.51\n",
      "\tLikelihood of a tie in a voting phase given a tie in the prior accusation phases 0.51\n",
      "\tLikelihood of a wolf getting targetting in a subsequent voting round if they survived a tie : 0.50\n",
      "\n",
      "\n"
     ]
    },
    {
     "name": "stderr",
     "output_type": "stream",
     "text": [
      "/tmp/ipykernel_17947/2466167984.py:5: RuntimeWarning: Mean of empty slice\n",
      "  np.nanmean(np.stack([indicators._process_tie_info(indicators._game_tie_info(trained_villager_win, voting_type=\"plurality\")) for trained_villager_win in win_replays]),axis= 0)\n"
     ]
    }
   ],
   "source": [
    "print(\"Plurality tie indicators\")\n",
    "\n",
    "for names, win_replays in zip([\"trained\", \"cpv\", \"rpv\", \"random\"], [tpv_win_replays, cpv_win_replays, rpv_win_replays, rv_win_replays]):\n",
    "    tgps = \\\n",
    "        np.nanmean(np.stack([indicators._process_tie_info(indicators._game_tie_info(trained_villager_win, voting_type=\"plurality\")) for trained_villager_win in win_replays]),axis= 0)\n",
    "    print(f'{names} agent tie indicators')\n",
    "    print(f'\\tLikelihood of ties in accusation phases : {tgps[0]:.2f}')\n",
    "    print(f'\\tLikelihood of ties in voting phases : {tgps[1]:.2f}')\n",
    "    print(f'\\tLikelihood of a tie in a voting phase given a tie in the prior accusation phases {tgps[2]:.2f}')\n",
    "    print(f'\\tLikelihood of a wolf getting targetting in a subsequent voting round if they survived a tie : {tgps[3]:.2f}')\n",
    "    print(\"\\n\")\n",
    "\n"
   ]
  },
  {
   "cell_type": "markdown",
   "metadata": {},
   "source": [
    "Having less ties in accusation phases can indicate more coordination, and a lower number of ties in the voting phase can indicate synthesis of information over the accusation rounds. Learning agents also have a much lower chance of having a tie in a voting round if there was a tie in the accusation round, further solidifying this notion of accusation information synthesis. \n",
    "\n",
    "For follow up targetting of wolves who survived tie rounds, the higher the number, the better. Again we can see learning agents doing this much more often than random agents.\n",
    "\n"
   ]
  },
  {
   "cell_type": "markdown",
   "metadata": {},
   "source": [
    "### Targetting Indicators"
   ]
  },
  {
   "cell_type": "code",
   "execution_count": 22,
   "metadata": {},
   "outputs": [],
   "source": [
    "tpv_avg_records = indicators._game_avg_records(tpv_replays[1], indicators._plurality_target_indicators)\n",
    "cpv_avg_records = indicators._game_avg_records(cpv_replays[1], indicators._plurality_target_indicators)\n",
    "rv_avg_records = indicators._game_avg_records(rv_replays[1], indicators._plurality_target_indicators)\n",
    "\n",
    "tpv_stacked = np.stack(list(tpv_avg_records.values()))\n",
    "cpv_stacked = np.stack(list(cpv_avg_records.values()))\n",
    "rv_stacked = np.stack(list(rv_avg_records.values()))"
   ]
  },
  {
   "cell_type": "code",
   "execution_count": 23,
   "metadata": {},
   "outputs": [
    {
     "data": {
      "image/png": "[encoded data removed]",
      "text/plain": [
       "<Figure size 640x480 with 1 Axes>"
      ]
     },
     "metadata": {},
     "output_type": "display_data"
    }
   ],
   "source": [
    "plt.style.use('ggplot')\n",
    "\n",
    "# make data\n",
    "x = [1,2,3]\n",
    "y = tpv_stacked[:,:,0][3]\n",
    "\n",
    "# plot\n",
    "fig, ax = plt.subplots()\n",
    "\n",
    "# ax.plot(x, y, linewidth=2.0)\n",
    "ax.plot(x, tpv_stacked[:,:,0][3], linewidth=2.0)\n",
    "ax.plot(x, cpv_stacked[:,:,0][3], linewidth=2.0)\n",
    "ax.plot(x, rv_stacked[:,:,0][3], linewidth=2.0)\n",
    "\n",
    "# ax.set(xlim=(0, 8), xticks=np.arange(1, 8),\n",
    "#        ylim=(0, 8), yticks=np.arange(1, 8))\n",
    "\n",
    "plt.show()"
   ]
  },
  {
   "cell_type": "markdown",
   "metadata": {},
   "source": []
  },
  {
   "cell_type": "code",
   "execution_count": null,
   "metadata": {},
   "outputs": [],
   "source": []
  }
 ],
 "metadata": {
  "kernelspec": {
   "display_name": "Python 3",
   "language": "python",
   "name": "python3"
  },
  "language_info": {
   "codemirror_mode": {
    "name": "ipython",
    "version": 3
   },
   "file_extension": ".py",
   "mimetype": "text/x-python",
   "name": "python",
   "nbconvert_exporter": "python",
   "pygments_lexer": "ipython3",
   "version": "3.10.9"
  },
  "orig_nbformat": 4
 },
 "nbformat": 4,
 "nbformat_minor": 2
}
