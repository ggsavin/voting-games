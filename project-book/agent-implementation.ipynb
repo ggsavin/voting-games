{
 "cells": [
  {
   "cell_type": "markdown",
   "metadata": {},
   "source": [
    "# Agent Implementation\n",
    "\n",
    "## Villagers\n",
    "\n",
    "### Hand-crafted Policies\n",
    "\n",
    "### Learning Agents\n",
    "\n",
    "## Werewolves\n",
    "\n",
    "Werewolf behavior for both plurality and approval environments used hand-crafted policies because the focus was on villager voting. These various wolf behaviors are reasonable and mimic other logical agents employed in AIWolf {cite}`toriumi2017ai` and RLupus {cite}`Brandizzi2021RLupusCT`.\n",
    "\n",
    "### Hand-crafted Policies"
   ]
  },
  {
   "cell_type": "markdown",
   "metadata": {},
   "source": []
  }
 ],
 "metadata": {
  "language_info": {
   "name": "python"
  },
  "orig_nbformat": 4
 },
 "nbformat": 4,
 "nbformat_minor": 2
}
