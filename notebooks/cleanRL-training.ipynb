{
 "cells": [
  {
   "attachments": {},
   "cell_type": "markdown",
   "metadata": {},
   "source": [
    "# Using CleanRL PPO to try and train Villagers"
   ]
  },
  {
   "cell_type": "code",
   "execution_count": 1,
   "metadata": {},
   "outputs": [
    {
     "name": "stderr",
     "output_type": "stream",
     "text": [
      "/root/.local/lib/python3.10/site-packages/tqdm/auto.py:22: TqdmWarning: IProgress not found. Please update jupyter and ipywidgets. See https://ipywidgets.readthedocs.io/en/stable/user_install.html\n",
      "  from .autonotebook import tqdm as notebook_tqdm\n"
     ]
    }
   ],
   "source": [
    "import numpy as np\n",
    "import torch\n",
    "import sys\n",
    "sys.path.append('../')\n",
    "from voting_games.werewolf_env_v0 import raw_env\n",
    "import random\n",
    "from tqdm import tqdm"
   ]
  },
  {
   "attachments": {},
   "cell_type": "markdown",
   "metadata": {},
   "source": [
    "Slightly based on [this](https://pettingzoo.farama.org/tutorials/cleanrl/implementing_PPO/), and the [following blogpost](https://iclr-blog-track.github.io/2022/03/25/ppo-implementation-details/). Another PZ implementation referenced is [here](https://github.com/vwxyzjn/cleanrl/blob/master/cleanrl/ppo_pettingzoo_ma_atari.py)\n",
    "\n",
    "One more link I plan on reading, at least for PPO is [here](https://towardsdatascience.com/elegantrl-mastering-the-ppo-algorithm-part-i-9f36bc47b791)"
   ]
  },
  {
   "cell_type": "code",
   "execution_count": 2,
   "metadata": {},
   "outputs": [],
   "source": [
    "env = raw_env(num_agents=10, werewolves=2)\n",
    "env.reset()"
   ]
  },
  {
   "cell_type": "code",
   "execution_count": 3,
   "metadata": {},
   "outputs": [],
   "source": [
    "num_actions = env.action_spaces['player_1'].n\n",
    "observation_size = env.observation_spaces['player_1']['observation']"
   ]
  },
  {
   "cell_type": "code",
   "execution_count": 4,
   "metadata": {},
   "outputs": [],
   "source": [
    "env.observation_spaces['player_1']['observation'].shape"
   ]
  },
  {
   "cell_type": "code",
   "execution_count": 5,
   "metadata": {},
   "outputs": [
    {
     "data": {
      "text/plain": [
       "OrderedDict([('action_mask',\n",
       "              array([ True,  True,  True,  True,  True,  True,  True,  True,  True,\n",
       "                      True])),\n",
       "             ('observation',\n",
       "              OrderedDict([('day', 5),\n",
       "                           ('phase', 0),\n",
       "                           ('player_status',\n",
       "                            array([ True,  True,  True,  True,  True,  True,  True,  True,  True,\n",
       "                                    True])),\n",
       "                           ('roles', array([1, 1, 1, 1, 0, 1, 0, 1, 0, 0])),\n",
       "                           ('votes',\n",
       "                            array([ 6.978397 ,  7.0205984,  7.6711574,  2.0655217,  9.694451 ,\n",
       "                                    2.2381415,  3.993107 , 10.417962 , 10.78285  , 10.3780365],\n",
       "                                  dtype=float32))]))])"
      ]
     },
     "execution_count": 5,
     "metadata": {},
     "output_type": "execute_result"
    }
   ],
   "source": [
    "env.observation_spaces['player_1'].sample()"
   ]
  },
  {
   "cell_type": "code",
   "execution_count": 6,
   "metadata": {},
   "outputs": [
    {
     "data": {
      "text/plain": [
       "odict_values([2, 1, array([ True,  True,  True,  True,  True,  True,  True,  True,  True,\n",
       "        True]), array([0, 0, 1, 0, 1, 1, 0, 1, 0, 1]), array([1.1784745, 6.6172085, 4.434359 , 2.475156 , 3.2237024, 3.2628539,\n",
       "       7.9956994, 6.5257916, 4.5016713, 6.69284  ], dtype=float32)])"
      ]
     },
     "execution_count": 6,
     "metadata": {},
     "output_type": "execute_result"
    }
   ],
   "source": [
    "env.observation_spaces['player_1'].sample()['observation'].values()"
   ]
  },
  {
   "cell_type": "code",
   "execution_count": 7,
   "metadata": {},
   "outputs": [],
   "source": [
    "def flat_obs(observation):\n",
    "    return  np.asarray([observation['day']] + \\\n",
    "            [observation['phase']] + \\\n",
    "            [int(status) for status in observation['player_status']] + \\\n",
    "            [role for role in observation['roles']] + \\\n",
    "            [vote for vote in observation['votes']])"
   ]
  },
  {
   "cell_type": "code",
   "execution_count": 8,
   "metadata": {},
   "outputs": [
    {
     "data": {
      "text/plain": [
       "32"
      ]
     },
     "execution_count": 8,
     "metadata": {},
     "output_type": "execute_result"
    }
   ],
   "source": [
    "flat_obs(env.observation_spaces['player_1'].sample()['observation']).shape[-1]"
   ]
  },
  {
   "cell_type": "code",
   "execution_count": null,
   "metadata": {},
   "outputs": [],
   "source": []
  },
  {
   "attachments": {},
   "cell_type": "markdown",
   "metadata": {},
   "source": [
    "## PPO Training"
   ]
  },
  {
   "cell_type": "code",
   "execution_count": 9,
   "metadata": {},
   "outputs": [],
   "source": [
    "class Agent(torch.nn.Module):\n",
    "    def __init__(self, num_actions, obs_size):\n",
    "        super().__init__()\n",
    "\n",
    "        self.critic = torch.nn.Sequential(\n",
    "            self._layer_init(torch.nn.Linear(obs_size, 64)),\n",
    "            torch.nn.Tanh(),\n",
    "            self._layer_init(torch.nn.Linear(64,64)),\n",
    "            torch.nn.Tanh(),\n",
    "            self._layer_init(torch.nn.Linear(64,1), std=1.0),\n",
    "        )\n",
    "\n",
    "        self.actor = torch.nn.Sequential(\n",
    "            self._layer_init(torch.nn.Linear(obs_size, 64)),\n",
    "            torch.nn.Tanh(),\n",
    "            self._layer_init(torch.nn.Linear(64,64)),\n",
    "            torch.nn.Tanh(),\n",
    "            self._layer_init(torch.nn.Linear(64, num_actions), std=0.01),\n",
    "        )\n",
    "    \n",
    "    def get_value(self, x):\n",
    "        return self.critic(x)\n",
    "    \n",
    "    def get_action_and_value(self, x, action=None):\n",
    "        logits = self.actor(x)\n",
    "\n",
    "        probs = torch.distributions.categorical.Categorical(logits=logits)\n",
    "        if action is None:\n",
    "            action = probs.sample()\n",
    "        return action, probs.log_prob(action), probs.entropy(), self.critic(x)\n",
    "\n",
    "    def _layer_init(self, layer, std=np.sqrt(2), bias_const=0.0):\n",
    "        torch.nn.init.orthogonal_(layer.weight, std)\n",
    "        torch.nn.init.constant_(layer.bias, bias_const)\n",
    "        return layer\n",
    "\n",
    "def batchify_obs(obs, device):\n",
    "    \"\"\"Converts PZ style observations to batch of torch arrays.\"\"\"\n",
    "    # convert to list of np arrays\n",
    "    obs = np.stack([obs[a] for a in obs], axis=0)\n",
    "    obs = torch.tensor(obs).to(device)\n",
    "\n",
    "def batchify(x, device):\n",
    "    \"\"\"Converts PZ style returns to batch of torch arrays.\"\"\"\n",
    "    # convert to list of np arrays\n",
    "    x = np.stack([x[a] for a in x], axis=0)\n",
    "    # convert to torch\n",
    "    x = torch.tensor(x).to(device)\n",
    "\n",
    "    return x\n",
    "\n",
    "def unbatchify(x, env):\n",
    "    \"\"\"Converts np array to PZ style arguments.\"\"\"\n",
    "    x = x.cpu().numpy()\n",
    "    x = {a: x[i] for i, a in enumerate(env.possible_agents)}\n",
    "\n",
    "    return x\n"
   ]
  },
  {
   "cell_type": "code",
   "execution_count": 10,
   "metadata": {},
   "outputs": [],
   "source": [
    "# ALGORITHM PARAMETERS\n",
    "# TODO: What is really necessary here?\n",
    "device = torch.device(\"cuda\" if torch.cuda.is_available() else \"cpu\")\n",
    "ent_coef = 0.1 #\n",
    "vf_coef = 0.1 #\n",
    "clip_coef = 0.1 #\n",
    "gamma = 0.99 #\n",
    "gae_lambda = 0.95\n",
    "batch_size = 32 #\n",
    "stack_size = 4 #\n",
    "frame_size = (64, 64) #\n",
    "max_cycles = 125 #\n",
    "total_episodes = 2 #"
   ]
  },
  {
   "cell_type": "code",
   "execution_count": 11,
   "metadata": {},
   "outputs": [],
   "source": [
    "### Env Setup\n",
    "env = raw_env(num_agents=10, werewolves=2)\n",
    "# env.reset()\n",
    "num_agents = 10\n",
    "num_actions = env.action_spaces['player_1'].n\n",
    "observation_size = flat_obs(env.observation_spaces['player_1'].sample()['observation']).shape[-1]\n",
    "\n",
    "# Learner Setup\n",
    "agent = Agent(num_actions=num_actions, obs_size=observation_size)\n",
    "optimizer = torch.optim.Adam(agent.parameters(), lr=0.001, eps=1e-5)\n",
    "# for agents in \n",
    "# # Algorithm Logic : Episode Storage\n",
    "\n",
    "# # rb = rollback\n",
    "# end_step = 0\n",
    "# total_episodic_return = 0\n",
    "# rb_obs = \n",
    "# rb_actions =\n",
    "# rb_logprobs = \n",
    "# rb_rewards = \n",
    "# rb_terms = \n",
    "# rb_values =\n"
   ]
  },
  {
   "cell_type": "code",
   "execution_count": 12,
   "metadata": {},
   "outputs": [],
   "source": [
    "def random_policy(observation, agent):\n",
    "    # these are the other wolves. we cannot vote for them either\n",
    "    available_actions = list(range(len(observation['observation']['player_status'])))\n",
    "    # dead players\n",
    "    action_mask = observation['action_mask']\n",
    "\n",
    "    legal_actions = [action for action,is_alive,is_wolf in zip(available_actions, action_mask, observation['observation']['roles']) if is_alive and not is_wolf]\n",
    "    # wolves don't vote for other wolves. will select another villager at random\n",
    "    action = random.choice(legal_actions)\n",
    "    return action"
   ]
  },
  {
   "cell_type": "code",
   "execution_count": 52,
   "metadata": {},
   "outputs": [
    {
     "name": "stdout",
     "output_type": "stream",
     "text": [
      "player_1\n",
      "[5, 4, 8]\n",
      "[False, False, True]\n",
      "[0, 0, -33]\n",
      "[2, 1, 0]\n",
      "player_2\n",
      "[2, 1, 6, 2, 3, 1, 4, 3, 7]\n",
      "[False, False, False, False, False, False, False, False, True]\n",
      "[0, -4, -1, 0, 0, -1, 0, -6, -31]\n",
      "[8, 7, 6, 5, 4, 3, 2, 1, 0]\n",
      "player_3\n",
      "[5, 4, 9, 5, 4, 9, 6, 5, 5, 1, 7, 5]\n",
      "[False, False, False, False, False, False, False, False, False, False, False, True]\n",
      "[0, 0, -1, 0, -6, -1, 0, 0, -1, 0, 0, -25]\n",
      "[11, 10, 9, 8, 7, 6, 5, 4, 3, 2, 1, 0]\n",
      "player_4\n",
      "[4, 5, 5, 6, 4]\n",
      "[False, False, False, False, True]\n",
      "[0, -1, -1, 0, -37]\n",
      "[4, 3, 2, 1, 0]\n",
      "player_6\n",
      "[8, 2, 1, 1, 2, 0, 1, 9]\n",
      "[False, False, False, False, False, False, False, True]\n",
      "[0, -1, -1, 0, -1, -1, 0, -31]\n",
      "[7, 6, 5, 4, 3, 2, 1, 0]\n",
      "player_7\n",
      "[7, 6, 8, 8, 4, 1]\n",
      "[False, False, False, False, False, True]\n",
      "[0, -4, -1, 0, -6, -32]\n",
      "[5, 4, 3, 2, 1, 0]\n",
      "player_8\n",
      "[7, 3, 1, 5, 9, 4, 5, 5, 2, 8, 4]\n",
      "[False, False, False, False, False, False, False, False, False, False, True]\n",
      "[0, -1, -1, 0, -1, -1, 0, 0, -1, 0, -35]\n",
      "[10, 9, 8, 7, 6, 5, 4, 3, 2, 1, 0]\n",
      "player_9\n",
      "[7, 5, 1, 0, 9, 1, 8, 3, 2, 2, 3, 9]\n",
      "[False, False, False, False, False, False, False, False, False, False, False, True]\n",
      "[0, -1, -1, 0, -1, -1, 0, -6, -1, 0, -6, -30]\n",
      "[11, 10, 9, 8, 7, 6, 5, 4, 3, 2, 1, 0]\n"
     ]
    }
   ],
   "source": [
    "# Training Logic\n",
    "total_episodes = 1\n",
    "for episode in range(total_episodes):\n",
    "    with torch.no_grad():\n",
    "        env.reset()\n",
    "\n",
    "        # magent_list = {agent: [] for agent in env.agents}\n",
    "        magent_list = {agent : [] for agent in env.agents if not env.agent_roles[agent]}\n",
    "\n",
    "        # print(magent_list.keys())\n",
    "        for magent in env.agent_iter():\n",
    "            observation, reward, termination, truncation, info = env.last()\n",
    "\n",
    "            # werewolves have full role TODO: add logic for wolves herevisibility\n",
    "            if sum(observation['observation']['roles']):\n",
    "                # TODO: find a cleaner way to identify a wolf\n",
    "                action = random_policy(observation, magent) if not termination or truncation else None\n",
    "            else:\n",
    "                obs = torch.Tensor(flat_obs(observation['observation']))\n",
    "                if not termination or truncation:\n",
    "                    action, logprobs, _, value = agent.get_action_and_value(obs)\n",
    "                else:\n",
    "                    action = None\n",
    "\n",
    "                magent_list[magent].append({\n",
    "                    \"obs\": obs, \n",
    "                    \"action\": action,\n",
    "                    \"prev_reward\": reward,\n",
    "                    \"logprobs\": logprobs,\n",
    "                    \"term\": termination,\n",
    "                    \"value\": value\n",
    "                    })\n",
    "\n",
    "            env.step(action)\n",
    "        \n",
    "        # take the sequential observations of each agent, and store them appropriately\n",
    "        magent_obs = {agent: {'obs': [], 'rewards': [], 'actions': [], 'logprobs': [], 'values': [], 'terms': []} for agent in magent_list}\n",
    "        for key, value in magent_list.items():\n",
    "            # print(f'-- {key} --')\n",
    "            for s1, s2 in zip(value, value[1:]):\n",
    "                magent_obs[key]['obs'].append(s1['obs'])\n",
    "                magent_obs[key]['rewards'].append(s2['prev_reward'])\n",
    "                magent_obs[key]['actions'].append(s1['action'])\n",
    "                magent_obs[key]['logprobs'].append(s1['logprobs'])\n",
    "                magent_obs[key]['values'].append(s1['value'])\n",
    "                magent_obs[key]['terms'].append(s2['term'])\n",
    "\n",
    "    # We will do this for each agent in the episode\n",
    "    # essentially we are calculating advantages and returns\n",
    "    with torch.no_grad():\n",
    "        for player, records in magent_obs.items():\n",
    "            print(f'{player}')\n",
    "            # print(f'{records}')\n",
    "            advantages = torch.zeros_like(torch.tensor(records['rewards']))\n",
    "            print(f'{[v.item() for v in records[\"actions\"]]}')\n",
    "            print(f'{[v for v in records[\"terms\"]]}')\n",
    "            print(f'{[v for v in records[\"rewards\"]]}')\n",
    "\n",
    "            print(list(reversed(range(len(records['obs'])))))\n",
    "            for t in reversed(range(len(records['obs']))):\n",
    "                # print(f'T: {t+1} - Rewards : {torch.tensor(records[\"rewards\"])[t+1]} ')\n",
    "                # not using terms, as these are episodic\n",
    "\n",
    "                ## this was the last one. We are not using any terminal states in a good way\n",
    "\n",
    "                if t == len(records['obs']) - 1:\n",
    "                    #print(f'T: {t} - Rewards at end : {torch.tensor(records[\"rewards\"])[t]} ')\n",
    "                    #print(f'T: {t} - Actions at end : {torch.tensor(records[\"actions\"])[t]} ')\n",
    "                    delta = records[\"rewards\"][t] - records[\"values\"][t]\n",
    "                    advantages[t]  = delta\n",
    "                else:\n",
    "                    #print(f'T: {t} - Rewards : {torch.tensor(records[\"rewards\"])[t]} ')\n",
    "                    #print(f'T: {t} - Actions : {torch.tensor(records[\"actions\"])[t]} ')                    \n",
    "                    delta = records[\"rewards\"][t] + gamma * records[\"values\"][t+1] - records[\"values\"][t]\n",
    "                    advantages[t]  = delta + gamma * gamma * advantages[t+1]\n",
    "\n",
    "                #delta = records['rewards'][t] + gamma * records['values'][t+1] - records['values'][t]\n",
    "            magent_obs[player][\"advantages\"] = advantages\n",
    "            magent_obs[player][\"returns\"] = advantages + torch.tensor(records[\"values\"])\n",
    "                #advantages[t] = delta + gamma * gamma * advantages[t+1]\n",
    "    \n",
    "    \n",
    "    # optimize the policy and the value network now\n",
    "            \n",
    "        "
   ]
  },
  {
   "cell_type": "code",
   "execution_count": 21,
   "metadata": {},
   "outputs": [
    {
     "data": {
      "text/plain": [
       "False"
      ]
     },
     "execution_count": 21,
     "metadata": {},
     "output_type": "execute_result"
    }
   ],
   "source": [
    "None == 0"
   ]
  },
  {
   "cell_type": "code",
   "execution_count": 28,
   "metadata": {},
   "outputs": [
    {
     "data": {
      "text/plain": [
       "tensor(9)"
      ]
     },
     "execution_count": 28,
     "metadata": {},
     "output_type": "execute_result"
    }
   ],
   "source": [
    "magent_obs['player_4']['actions'][-2]"
   ]
  },
  {
   "cell_type": "code",
   "execution_count": 15,
   "metadata": {},
   "outputs": [
    {
     "data": {
      "text/plain": [
       "[{'obs': tensor([1., 0., 1., 1., 1., 1., 1., 1., 1., 1., 1., 1., 0., 0., 0., 0., 0., 0.,\n",
       "          0., 0., 0., 0., 0., 0., 0., 0., 0., 0., 0., 0., 0., 0.]),\n",
       "  'action': tensor(4),\n",
       "  'prev_reward': 0,\n",
       "  'logprobs': tensor(-2.3014),\n",
       "  'value': tensor([0.8297])},\n",
       " {'obs': tensor([1., 0., 1., 1., 1., 1., 1., 1., 1., 1., 1., 1., 0., 0., 0., 0., 0., 0.,\n",
       "          0., 0., 0., 0., 6., 4., 7., 3., 1., 1., 7., 1., 4., 2.]),\n",
       "  'action': tensor(0),\n",
       "  'prev_reward': 0,\n",
       "  'logprobs': tensor(-2.2969),\n",
       "  'value': tensor([1.4532])},\n",
       " {'obs': tensor([1., 1., 1., 1., 1., 0., 1., 1., 1., 1., 1., 1., 0., 0., 0., 0., 0., 0.,\n",
       "          0., 0., 0., 0., 3., 0., 3., 1., 6., 5., 7., 2., 7., 2.]),\n",
       "  'action': tensor(5),\n",
       "  'prev_reward': -1,\n",
       "  'logprobs': tensor(-2.3052),\n",
       "  'value': tensor([0.6734])},\n",
       " {'obs': tensor([1., 2., 1., 1., 1., 0., 1., 1., 0., 1., 1., 1., 0., 0., 0., 0., 0., 0.,\n",
       "          0., 0., 0., 0., 0., 0., 0., 0., 0., 0., 0., 0., 0., 0.]),\n",
       "  'action': tensor(2),\n",
       "  'prev_reward': -1,\n",
       "  'logprobs': tensor(-2.3045),\n",
       "  'value': tensor([0.2058])},\n",
       " {'obs': tensor([2., 0., 1., 1., 1., 0., 1., 1., 0., 1., 1., 1., 0., 0., 0., 0., 0., 0.,\n",
       "          0., 0., 0., 0., 1., 2., 9., 0., 3., 6., 0., 6., 2., 2.]),\n",
       "  'action': tensor(3),\n",
       "  'prev_reward': 0,\n",
       "  'logprobs': tensor(-2.2929),\n",
       "  'value': tensor([0.7987])},\n",
       " {'obs': tensor([3., 2., 1., 0., 1., 0., 0., 1., 0., 1., 0., 0., 0., 0., 0., 0., 0., 0.,\n",
       "          0., 0., 0., 0., 0., 0., 0., 0., 0., 0., 0., 0., 0., 0.]),\n",
       "  'action': None,\n",
       "  'prev_reward': -36,\n",
       "  'logprobs': tensor(-2.3134),\n",
       "  'value': tensor([0.6216])}]"
      ]
     },
     "execution_count": 15,
     "metadata": {},
     "output_type": "execute_result"
    }
   ],
   "source": [
    "magent_list['player_2']"
   ]
  },
  {
   "cell_type": "code",
   "execution_count": null,
   "metadata": {},
   "outputs": [],
   "source": []
  },
  {
   "cell_type": "code",
   "execution_count": null,
   "metadata": {},
   "outputs": [],
   "source": []
  },
  {
   "cell_type": "code",
   "execution_count": null,
   "metadata": {},
   "outputs": [],
   "source": [
    "random.seed(args.seed)\n",
    "np.random.seed(args.seed)\n",
    "torch.manual_seed(args.seed)\n",
    "torch.backends.cudnn.deterministic = args.torch_deterministic\n",
    "\n",
    "device = torch.device(\"cuda\" if torch.cuda.is_available() and args.cuda else \"cpu\")"
   ]
  }
 ],
 "metadata": {
  "kernelspec": {
   "display_name": "Python 3",
   "language": "python",
   "name": "python3"
  },
  "language_info": {
   "codemirror_mode": {
    "name": "ipython",
    "version": 3
   },
   "file_extension": ".py",
   "mimetype": "text/x-python",
   "name": "python",
   "nbconvert_exporter": "python",
   "pygments_lexer": "ipython3",
   "version": "3.10.9"
  },
  "orig_nbformat": 4,
  "vscode": {
   "interpreter": {
    "hash": "949777d72b0d2535278d3dc13498b2535136f6dfe0678499012e853ee9abcab1"
   }
  }
 },
 "nbformat": 4,
 "nbformat_minor": 2
}
