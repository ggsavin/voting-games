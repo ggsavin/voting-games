{
 "cells": [
  {
   "attachments": {},
   "cell_type": "markdown",
   "metadata": {},
   "source": [
    "# Using CleanRL PPO to try and train Villagers"
   ]
  },
  {
   "cell_type": "code",
   "execution_count": 1,
   "metadata": {},
   "outputs": [
    {
     "name": "stderr",
     "output_type": "stream",
     "text": [
      "/usr/local/lib/python3.10/site-packages/tqdm/auto.py:22: TqdmWarning: IProgress not found. Please update jupyter and ipywidgets. See https://ipywidgets.readthedocs.io/en/stable/user_install.html\n",
      "  from .autonotebook import tqdm as notebook_tqdm\n"
     ]
    }
   ],
   "source": [
    "import numpy as np\n",
    "import torch\n",
    "import sys\n",
    "sys.path.append('../')\n",
    "from voting_games.werewolf_env_v0 import raw_env\n",
    "import random\n",
    "from tqdm import tqdm"
   ]
  },
  {
   "cell_type": "code",
   "execution_count": 2,
   "metadata": {},
   "outputs": [],
   "source": [
    "env = raw_env(num_agents=10, werewolves=2)\n",
    "env.reset()"
   ]
  },
  {
   "cell_type": "code",
   "execution_count": 3,
   "metadata": {},
   "outputs": [],
   "source": [
    "num_actions = env.action_spaces['player_1'].n\n",
    "observation_size = env.observation_spaces['player_1']['observation']"
   ]
  },
  {
   "cell_type": "code",
   "execution_count": 4,
   "metadata": {},
   "outputs": [],
   "source": [
    "env.observation_spaces['player_1']['observation'].shape"
   ]
  },
  {
   "cell_type": "code",
   "execution_count": 6,
   "metadata": {},
   "outputs": [
    {
     "data": {
      "text/plain": [
       "OrderedDict([('action_mask',\n",
       "              array([ True,  True,  True,  True,  True,  True,  True,  True,  True,\n",
       "                      True])),\n",
       "             ('observation',\n",
       "              OrderedDict([('day', 2),\n",
       "                           ('phase', 2),\n",
       "                           ('player_status',\n",
       "                            array([ True,  True,  True,  True,  True,  True,  True,  True,  True,\n",
       "                                    True])),\n",
       "                           ('roles', array([1, 1, 0, 1, 1, 1, 0, 0, 1, 0])),\n",
       "                           ('votes',\n",
       "                            array([4.7560782, 4.1142387, 3.356251 , 6.512478 , 2.2719352, 4.3874006,\n",
       "                                   6.4364295, 7.793982 , 7.5660954, 4.355758 ], dtype=float32))]))])"
      ]
     },
     "execution_count": 6,
     "metadata": {},
     "output_type": "execute_result"
    }
   ],
   "source": [
    "env.observation_spaces['player_1'].sample()"
   ]
  },
  {
   "cell_type": "code",
   "execution_count": 7,
   "metadata": {},
   "outputs": [
    {
     "data": {
      "text/plain": [
       "odict_values([3, 2, array([ True,  True,  True,  True,  True,  True,  True,  True,  True,\n",
       "        True]), array([0, 1, 0, 0, 0, 1, 1, 1, 0, 0]), array([3.8632665, 1.7954935, 6.4708276, 9.651167 , 7.759436 , 2.4337952,\n",
       "       3.148949 , 1.946332 , 4.701349 , 4.30324  ], dtype=float32)])"
      ]
     },
     "execution_count": 7,
     "metadata": {},
     "output_type": "execute_result"
    }
   ],
   "source": [
    "env.observation_spaces['player_1'].sample()['observation'].values()"
   ]
  },
  {
   "cell_type": "code",
   "execution_count": 33,
   "metadata": {},
   "outputs": [],
   "source": [
    "def flat_obs(observation):\n",
    "    return  [observation['day']] + \\\n",
    "            [observation['phase']] + \\\n",
    "            [int(status) for status in observation['player_status']] + \\\n",
    "            [role for role in observation['roles']] + \\\n",
    "            [vote for vote in observation['votes']]"
   ]
  },
  {
   "cell_type": "code",
   "execution_count": 34,
   "metadata": {},
   "outputs": [
    {
     "data": {
      "text/plain": [
       "[2,\n",
       " 0,\n",
       " 1,\n",
       " 1,\n",
       " 1,\n",
       " 1,\n",
       " 1,\n",
       " 1,\n",
       " 1,\n",
       " 1,\n",
       " 1,\n",
       " 1,\n",
       " 0,\n",
       " 1,\n",
       " 1,\n",
       " 1,\n",
       " 1,\n",
       " 0,\n",
       " 1,\n",
       " 0,\n",
       " 1,\n",
       " 0,\n",
       " 6.659124,\n",
       " 3.6401567,\n",
       " 7.3678255,\n",
       " 9.407521,\n",
       " 1.4717635,\n",
       " 0.13030477,\n",
       " 3.8706512,\n",
       " 5.379664,\n",
       " 9.285832,\n",
       " 0.37486723]"
      ]
     },
     "execution_count": 34,
     "metadata": {},
     "output_type": "execute_result"
    }
   ],
   "source": [
    "flat_obs(env.observation_spaces['player_1'].sample()['observation'])"
   ]
  },
  {
   "cell_type": "code",
   "execution_count": null,
   "metadata": {},
   "outputs": [],
   "source": []
  },
  {
   "cell_type": "code",
   "execution_count": null,
   "metadata": {},
   "outputs": [],
   "source": [
    "class Agent(torch.nn.Module):\n",
    "    def __init__(self, num_actions):\n",
    "        super().__init__()\n",
    "\n",
    "        self.network = torch.nn.Sequential(\n",
    "            self._layer_init(torch.nn.Linear(obs_size, 64)),\n",
    "            torch.nn.ReLU(),\n",
    "            self._layer_init(torch.nn.Linear(64, 64)),\n",
    "            torch.nn.ReLU(),\n",
    "        )\n",
    "\n",
    "        self.actor = self._layer_init(torch.nn.Linear(512, num_actions))\n",
    "        self.critic = self._layer_init(torch.nn.Linear(512, 1))\n",
    "    \n",
    "    def _layer_init(self, layer, std=np.sqrt(2), bias_const=0.0):\n",
    "        torch.nn.orthogonal_(layer.weight, std)\n",
    "        torch.nn.constant_(layer.bias, bias_const)\n",
    "        return layer"
   ]
  },
  {
   "attachments": {},
   "cell_type": "markdown",
   "metadata": {},
   "source": [
    "## PPO Self rolled"
   ]
  },
  {
   "cell_type": "code",
   "execution_count": null,
   "metadata": {},
   "outputs": [],
   "source": [
    "class ActorCriticNetworkt(torch.nn.Module):\n",
    "  def __init__(self, obs_space_size, action_space_size):\n",
    "    super().__init__()\n",
    "\n",
    "    self.shared_layers = torch.nn.Sequential(\n",
    "        torch.nn.Linear(obs_space_size, 64),\n",
    "        torch.nn.ReLU(),\n",
    "        torch.nn.Linear(64, 64),\n",
    "        torch.nn.ReLU())\n",
    "    \n",
    "    self.policy_layers = torch.nn.Sequential(\n",
    "        torch.nn.Linear(64, 64),\n",
    "        torch.nn.ReLU(),\n",
    "        torch.nn.Linear(64, action_space_size))\n",
    "    \n",
    "    self.value_layers = torch.nn.Sequential(\n",
    "        torch.nn.Linear(64, 64),\n",
    "        torch.nn.ReLU(),\n",
    "        torch.nn.Linear(64, 1))\n",
    "    \n",
    "  def value(self, obs):\n",
    "    z = self.shared_layers(obs)\n",
    "    value = self.value_layers(z)\n",
    "    return value\n",
    "        \n",
    "  def policy(self, obs):\n",
    "    z = self.shared_layers(obs)\n",
    "    policy_logits = self.policy_layers(z)\n",
    "    return policy_logits\n",
    "\n",
    "  def forward(self, obs):\n",
    "    z = self.shared_layers(obs)\n",
    "    policy_logits = self.policy_layers(z)\n",
    "    value = self.value_layers(z)\n",
    "    return policy_logits, value"
   ]
  },
  {
   "cell_type": "code",
   "execution_count": null,
   "metadata": {},
   "outputs": [],
   "source": [
    "def rollout(model, env, max_steps=100):\n",
    "\n",
    "    train_data = [[], [], [], [], []] # obs, action, reward, values, act_log_probs\n",
    "    obs = env.reset()\n",
    "\n",
    "    ep_reward = 0\n",
    "    for _ in range(max_steps):\n",
    "        logits, val = model(torch.tensor([obs], dtype=torch.float32, device=DEVICE))\n",
    "\n",
    "        # action distribution, grab one, get next stuff\n",
    "        act_distribution = Categorical(logits=logits)\n",
    "        act = act_distribution.sample()\n",
    "        act_log_prob = act_distribution.log_prob(act).item()\n",
    "\n",
    "        next_obs, reward, done, _ = env.step(act.item())\n",
    "\n",
    "        for i, item in enumerate((obs, act, reward, val, act_log_prob)):\n",
    "            train_data[i].append(item)\n",
    "            \n",
    "        # record data for training\n",
    "\n",
    "        obs = next_obs\n",
    "        ep_reward += reward\n",
    "        if done:\n",
    "            break\n",
    "    \n",
    "    # do train data filtering\n",
    "    return train_data, ep_reward"
   ]
  },
  {
   "cell_type": "code",
   "execution_count": null,
   "metadata": {},
   "outputs": [],
   "source": [
    "class PPOTrainer():\n",
    "    def __init__(self, actor_critic, ppo_clip_val=0.2, target_kl_div=0.01, max_policy_train_iters=80, value_train_iters=80, policy_lr=3e-4, value_lr=1e-2):\n",
    "        self.ac = actor_critic\n",
    "        self.ppo_clip_val = ppo_clip_val\n",
    "        self.target_kl_div = target_kl_div\n",
    "        self.max_policy_train_iters = max_policy_train_iters\n",
    "        self.value_train_iters = value_train_iters\n",
    "\n",
    "        # different optimizers for policy and value fucntions\n",
    "        policy_params = list(self.ac.shared_layers.parameters()) + list(self.ac.policy_layers.parameters())\n",
    "        self.policy_optim = torch.optim.Adam(policy_params, lr=policy_lr)\n",
    "\n",
    "        value_params = list(self.ac.shared_layers.parameters()) + list(self.ac.value_layers.parameters())\n",
    "        self.value_optim = torch.optim.Adam(value_params, lr=value_lr)\n",
    "\n",
    "    def train_policy(self, obs, act, old_log_probs, gaes):\n",
    "        self.policy_optim.zero_grad()\n",
    "\n",
    "        new_logits = self.ac.policy(obs)\n",
    "\n"
   ]
  }
 ],
 "metadata": {
  "kernelspec": {
   "display_name": "Python 3",
   "language": "python",
   "name": "python3"
  },
  "language_info": {
   "codemirror_mode": {
    "name": "ipython",
    "version": 3
   },
   "file_extension": ".py",
   "mimetype": "text/x-python",
   "name": "python",
   "nbconvert_exporter": "python",
   "pygments_lexer": "ipython3",
   "version": "3.10.9"
  },
  "orig_nbformat": 4,
  "vscode": {
   "interpreter": {
    "hash": "949777d72b0d2535278d3dc13498b2535136f6dfe0678499012e853ee9abcab1"
   }
  }
 },
 "nbformat": 4,
 "nbformat_minor": 2
}
