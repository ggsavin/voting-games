{
 "cells": [
  {
   "attachments": {},
   "cell_type": "markdown",
   "metadata": {},
   "source": [
    "# Using CleanRL PPO to try and train Villagers"
   ]
  },
  {
   "cell_type": "code",
   "execution_count": 1,
   "metadata": {},
   "outputs": [
    {
     "name": "stderr",
     "output_type": "stream",
     "text": [
      "/root/.local/lib/python3.10/site-packages/tqdm/auto.py:22: TqdmWarning: IProgress not found. Please update jupyter and ipywidgets. See https://ipywidgets.readthedocs.io/en/stable/user_install.html\n",
      "  from .autonotebook import tqdm as notebook_tqdm\n"
     ]
    }
   ],
   "source": [
    "import numpy as np\n",
    "import torch\n",
    "import sys\n",
    "sys.path.append('../')\n",
    "from voting_games.werewolf_env_v0 import raw_env\n",
    "import random\n",
    "from tqdm import tqdm"
   ]
  },
  {
   "attachments": {},
   "cell_type": "markdown",
   "metadata": {},
   "source": [
    "Slightly based on [this](https://pettingzoo.farama.org/tutorials/cleanrl/implementing_PPO/), and the [following blogpost](https://iclr-blog-track.github.io/2022/03/25/ppo-implementation-details/). Another PZ implementation referenced is [here](https://github.com/vwxyzjn/cleanrl/blob/master/cleanrl/ppo_pettingzoo_ma_atari.py)\n",
    "\n",
    "One more link I plan on reading, at least for PPO is [here](https://towardsdatascience.com/elegantrl-mastering-the-ppo-algorithm-part-i-9f36bc47b791)"
   ]
  },
  {
   "cell_type": "code",
   "execution_count": 2,
   "metadata": {},
   "outputs": [],
   "source": [
    "env = raw_env(num_agents=10, werewolves=2)\n",
    "env.reset()"
   ]
  },
  {
   "cell_type": "code",
   "execution_count": 6,
   "metadata": {},
   "outputs": [
    {
     "data": {
      "text/plain": [
       "odict_values([2, 1, array([ True,  True,  True,  True,  True,  True,  True,  True,  True,\n",
       "        True]), array([0, 0, 1, 0, 1, 1, 0, 1, 0, 1]), array([1.1784745, 6.6172085, 4.434359 , 2.475156 , 3.2237024, 3.2628539,\n",
       "       7.9956994, 6.5257916, 4.5016713, 6.69284  ], dtype=float32)])"
      ]
     },
     "execution_count": 6,
     "metadata": {},
     "output_type": "execute_result"
    }
   ],
   "source": [
    "env.observation_spaces['player_1'].sample()['observation'].values()"
   ]
  },
  {
   "cell_type": "code",
   "execution_count": 122,
   "metadata": {},
   "outputs": [],
   "source": [
    "def flat_obs(observation):\n",
    "    return  np.asarray([observation['day']] + \\\n",
    "            [observation['phase']] + \\\n",
    "            [int(status) for status in observation['player_status']] + \\\n",
    "            [role for role in observation['roles']] + \\\n",
    "            [vote for vote in observation['votes']])"
   ]
  },
  {
   "cell_type": "code",
   "execution_count": 123,
   "metadata": {},
   "outputs": [],
   "source": [
    "def random_policy(observation, agent):\n",
    "    # these are the other wolves. we cannot vote for them either\n",
    "    available_actions = list(range(len(observation['observation']['player_status'])))\n",
    "    # dead players\n",
    "    action_mask = observation['action_mask']\n",
    "\n",
    "    legal_actions = [action for action,is_alive,is_wolf in zip(available_actions, action_mask, observation['observation']['roles']) if is_alive and not is_wolf]\n",
    "    # wolves don't vote for other wolves. will select another villager at random\n",
    "    action = random.choice(legal_actions)\n",
    "    return action"
   ]
  },
  {
   "cell_type": "code",
   "execution_count": 8,
   "metadata": {},
   "outputs": [
    {
     "data": {
      "text/plain": [
       "32"
      ]
     },
     "execution_count": 8,
     "metadata": {},
     "output_type": "execute_result"
    }
   ],
   "source": [
    "flat_obs(env.observation_spaces['player_1'].sample()['observation']).shape[-1]"
   ]
  },
  {
   "cell_type": "code",
   "execution_count": 124,
   "metadata": {},
   "outputs": [
    {
     "name": "stderr",
     "output_type": "stream",
     "text": [
      "100%|██████████| 1000/1000 [00:01<00:00, 932.83it/s]"
     ]
    },
    {
     "name": "stdout",
     "output_type": "stream",
     "text": [
      "Average game length = 4.20\n",
      "Wolf wins : 895\n",
      "Villager wins: 105\n"
     ]
    },
    {
     "name": "stderr",
     "output_type": "stream",
     "text": [
      "\n"
     ]
    }
   ],
   "source": [
    "ten_player_env = raw_env(num_agents=10, werewolves=2)\n",
    "\n",
    "avg_game_length = 0\n",
    "wolf_wins = 0\n",
    "villager_wins = 0\n",
    "\n",
    "num_games = 1000\n",
    "\n",
    "ten_player_env.reset()\n",
    "\n",
    "for _ in tqdm(range(num_games)):\n",
    "\n",
    "    for agent in ten_player_env.agent_iter():\n",
    "        observation, reward, termination, truncation, info = ten_player_env.last()\n",
    "        action = random_policy(observation, agent) if not termination or truncation else None\n",
    "        ten_player_env.step(action)\n",
    "    \n",
    "    # get some stats\n",
    "    winner = ten_player_env.world_state['winners']\n",
    "    day = ten_player_env.world_state['day']\n",
    "\n",
    "    if winner:\n",
    "        wolf_wins += 1\n",
    "    else:\n",
    "        villager_wins += 1\n",
    "    \n",
    "    avg_game_length += (day * 1.0)/num_games \n",
    "\n",
    "    # reset \n",
    "    ten_player_env.reset()\n",
    "\n",
    "print(f'Average game length = {avg_game_length:.2f}')\n",
    "print(f'Wolf wins : {wolf_wins}')\n",
    "print(f'Villager wins: {villager_wins}')"
   ]
  },
  {
   "attachments": {},
   "cell_type": "markdown",
   "metadata": {},
   "source": [
    "## PPO Training"
   ]
  },
  {
   "cell_type": "code",
   "execution_count": 131,
   "metadata": {},
   "outputs": [],
   "source": [
    "class Agent(torch.nn.Module):\n",
    "    def __init__(self, num_actions, obs_size):\n",
    "        super().__init__()\n",
    "\n",
    "        self.critic = torch.nn.Sequential(\n",
    "            self._layer_init(torch.nn.Linear(obs_size, 64)),\n",
    "            torch.nn.Tanh(),\n",
    "            self._layer_init(torch.nn.Linear(64,64)),\n",
    "            torch.nn.Tanh(),\n",
    "            self._layer_init(torch.nn.Linear(64,1), std=1.0),\n",
    "        )\n",
    "\n",
    "        self.actor = torch.nn.Sequential(\n",
    "            self._layer_init(torch.nn.Linear(obs_size, 64)),\n",
    "            torch.nn.Tanh(),\n",
    "            self._layer_init(torch.nn.Linear(64,64)),\n",
    "            torch.nn.Tanh(),\n",
    "            self._layer_init(torch.nn.Linear(64, num_actions), std=0.01),\n",
    "        )\n",
    "    \n",
    "    def get_value(self, x):\n",
    "        return self.critic(x)\n",
    "    \n",
    "    def get_action_and_value(self, x, action=None):\n",
    "        logits = self.actor(x)\n",
    "\n",
    "        probs = torch.distributions.categorical.Categorical(logits=logits)\n",
    "        if action is None:\n",
    "            action = probs.sample()\n",
    "        return action, probs.log_prob(action), probs.entropy(), self.critic(x)\n",
    "\n",
    "    def _layer_init(self, layer, std=np.sqrt(2), bias_const=0.0):\n",
    "        torch.nn.init.orthogonal_(layer.weight, std)\n",
    "        torch.nn.init.constant_(layer.bias, bias_const)\n",
    "        return layer\n",
    "\n",
    "def batchify_obs(obs, device):\n",
    "    \"\"\"Converts PZ style observations to batch of torch arrays.\"\"\"\n",
    "    # convert to list of np arrays\n",
    "    obs = np.stack([obs[a] for a in obs], axis=0)\n",
    "    obs = torch.tensor(obs).to(device)\n",
    "\n",
    "def batchify(x, device):\n",
    "    \"\"\"Converts PZ style returns to batch of torch arrays.\"\"\"\n",
    "    # convert to list of np arrays\n",
    "    x = np.stack([x[a] for a in x], axis=0)\n",
    "    # convert to torch\n",
    "    x = torch.tensor(x).to(device)\n",
    "\n",
    "    return x\n",
    "\n",
    "def unbatchify(x, env):\n",
    "    \"\"\"Converts np array to PZ style arguments.\"\"\"\n",
    "    x = x.cpu().numpy()\n",
    "    x = {a: x[i] for i, a in enumerate(env.possible_agents)}\n",
    "\n",
    "    return x\n"
   ]
  },
  {
   "cell_type": "code",
   "execution_count": 138,
   "metadata": {},
   "outputs": [],
   "source": [
    "# ALGORITHM PARAMETERS\n",
    "# TODO: What is really necessary here?\n",
    "device = torch.device(\"cuda\" if torch.cuda.is_available() else \"cpu\")\n",
    "ent_coef = 0.1 #\n",
    "vf_coef = 0.1 #\n",
    "clip_coef = 0.1 #\n",
    "gamma = 0.99 #\n",
    "gae_lambda = 0.95\n",
    "batch_size = 16 #\n",
    "max_cycles = 125 #\n",
    "total_episodes = 100 #\n",
    "update_epochs = 3 #"
   ]
  },
  {
   "cell_type": "code",
   "execution_count": 139,
   "metadata": {},
   "outputs": [],
   "source": [
    "### Env Setup\n",
    "env = raw_env(num_agents=10, werewolves=2)\n",
    "# env.reset()\n",
    "num_agents = 10\n",
    "num_actions = env.action_spaces['player_1'].n\n",
    "observation_size = flat_obs(env.observation_spaces['player_1'].sample()['observation']).shape[-1]\n",
    "\n",
    "# Learner Setup\n",
    "ppo_agent = Agent(num_actions=num_actions, obs_size=observation_size)\n",
    "optimizer = torch.optim.Adam(ppo_agent.parameters(), lr=0.001, eps=1e-5)\n",
    "# for agents in \n",
    "# # Algorithm Logic : Episode Storage\n",
    "\n",
    "# # rb = rollback\n",
    "# end_step = 0\n",
    "# total_episodic_return = 0\n",
    "# rb_obs = \n",
    "# rb_actions =\n",
    "# rb_logprobs = \n",
    "# rb_rewards = \n",
    "# rb_terms = \n",
    "# rb_values =\n"
   ]
  },
  {
   "cell_type": "code",
   "execution_count": 140,
   "metadata": {},
   "outputs": [
    {
     "name": "stderr",
     "output_type": "stream",
     "text": [
      "  5%|▌         | 5/100 [00:00<00:04, 20.32it/s]"
     ]
    },
    {
     "name": "stdout",
     "output_type": "stream",
     "text": [
      "Training episode 0\n",
      "\n",
      "Value Loss: 492.10736083984375\n",
      "Policy Loss: -0.06477343291044235\n",
      "Old Approx KL: 0.03851878643035889\n",
      "Approx KL: 0.006988584995269775\n",
      "Clip Fraction: 0.21875000248352686\n",
      "Explained Variance: -0.029214859008789062\n",
      "\n",
      "-------------------------------------------\n",
      "\n"
     ]
    },
    {
     "name": "stderr",
     "output_type": "stream",
     "text": [
      " 25%|██▌       | 25/100 [00:01<00:03, 20.14it/s]"
     ]
    },
    {
     "name": "stdout",
     "output_type": "stream",
     "text": [
      "Training episode 20\n",
      "\n",
      "Value Loss: 160.55172729492188\n",
      "Policy Loss: 0.037208061665296555\n",
      "Old Approx KL: -0.0072841644287109375\n",
      "Approx KL: 0.001181522966362536\n",
      "Clip Fraction: 0.07291666666666667\n",
      "Explained Variance: -0.0002262592315673828\n",
      "\n",
      "-------------------------------------------\n",
      "\n"
     ]
    },
    {
     "name": "stderr",
     "output_type": "stream",
     "text": [
      " 43%|████▎     | 43/100 [00:02<00:02, 19.49it/s]"
     ]
    },
    {
     "name": "stdout",
     "output_type": "stream",
     "text": [
      "Training episode 40\n",
      "\n",
      "Value Loss: 63.47903823852539\n",
      "Policy Loss: -0.02607208490371704\n",
      "Old Approx KL: -0.016108814626932144\n",
      "Approx KL: 0.004397149663418531\n",
      "Clip Fraction: 0.12708333445092043\n",
      "Explained Variance: -0.00024628639221191406\n",
      "\n",
      "-------------------------------------------\n",
      "\n"
     ]
    },
    {
     "name": "stderr",
     "output_type": "stream",
     "text": [
      " 64%|██████▍   | 64/100 [00:03<00:01, 21.12it/s]"
     ]
    },
    {
     "name": "stdout",
     "output_type": "stream",
     "text": [
      "Training episode 60\n",
      "\n",
      "Value Loss: 37.77366638183594\n",
      "Policy Loss: 0.018477117642760277\n",
      "Old Approx KL: 0.16878294944763184\n",
      "Approx KL: 0.014280001632869244\n",
      "Clip Fraction: 0.19791666666666666\n",
      "Explained Variance: -2.1338462829589844e-05\n",
      "\n",
      "-------------------------------------------\n",
      "\n"
     ]
    },
    {
     "name": "stderr",
     "output_type": "stream",
     "text": [
      " 85%|████████▌ | 85/100 [00:04<00:00, 20.59it/s]"
     ]
    },
    {
     "name": "stdout",
     "output_type": "stream",
     "text": [
      "Training episode 80\n",
      "\n",
      "Value Loss: 39.60499572753906\n",
      "Policy Loss: 0.0\n",
      "Old Approx KL: -0.025804996490478516\n",
      "Approx KL: 0.000391542911529541\n",
      "Clip Fraction: 0.10416666666666667\n",
      "Explained Variance: -1.4424324035644531e-05\n",
      "\n",
      "-------------------------------------------\n",
      "\n"
     ]
    },
    {
     "name": "stderr",
     "output_type": "stream",
     "text": [
      "100%|██████████| 100/100 [00:04<00:00, 20.26it/s]\n"
     ]
    }
   ],
   "source": [
    "# Training Logic\n",
    "for episode in tqdm(range(total_episodes)):\n",
    "    with torch.no_grad():\n",
    "        env.reset()\n",
    "\n",
    "        # magent_list = {agent: [] for agent in env.agents}\n",
    "        magent_list = {agent : [] for agent in env.agents if not env.agent_roles[agent]}\n",
    "\n",
    "        # print(magent_list.keys())\n",
    "        for magent in env.agent_iter():\n",
    "            observation, reward, termination, truncation, info = env.last()\n",
    "\n",
    "            # werewolves have full role TODO: add logic for wolves herevisibility\n",
    "            if sum(observation['observation']['roles']):\n",
    "                # TODO: find a cleaner way to identify a wolf\n",
    "                action = random_policy(observation, magent) if not termination or truncation else None\n",
    "            else:\n",
    "                obs = torch.Tensor(flat_obs(observation['observation']))\n",
    "                if not termination or truncation:\n",
    "                    action, logprobs, _, value = ppo_agent.get_action_and_value(obs)\n",
    "                else:\n",
    "                    action = None\n",
    "\n",
    "                magent_list[magent].append({\n",
    "                    \"obs\": obs, \n",
    "                    \"action\": action,\n",
    "                    \"prev_reward\": reward,\n",
    "                    \"logprobs\": logprobs,\n",
    "                    \"term\": termination,\n",
    "                    \"value\": value\n",
    "                    })\n",
    "\n",
    "            env.step(action)\n",
    "        \n",
    "        # take the sequential observations of each agent, and store them appropriately\n",
    "        magent_obs = {agent: {'obs': [], 'rewards': [], 'actions': [], 'logprobs': [], 'values': [], 'terms': []} for agent in magent_list}\n",
    "        for key, value in magent_list.items():\n",
    "            # print(f'-- {key} --')\n",
    "            for s1, s2 in zip(value, value[1:]):\n",
    "                magent_obs[key]['obs'].append(s1['obs'])\n",
    "                magent_obs[key]['rewards'].append(s2['prev_reward'])\n",
    "                magent_obs[key]['actions'].append(s1['action'])\n",
    "                magent_obs[key]['logprobs'].append(s1['logprobs'])\n",
    "                magent_obs[key]['values'].append(s1['value'])\n",
    "                magent_obs[key]['terms'].append(s2['term'])\n",
    "\n",
    "    # We will do this for each agent in the episode\n",
    "    # essentially we are calculating advantages and returns\n",
    "    with torch.no_grad():\n",
    "        for player, records in magent_obs.items():\n",
    "            # print(f'{records}')\n",
    "            advantages = torch.zeros_like(torch.tensor(records['rewards']))\n",
    "\n",
    "            for t in reversed(range(len(records['obs']))):\n",
    "                # print(f'T: {t+1} - Rewards : {torch.tensor(records[\"rewards\"])[t+1]} ')\n",
    "                # not using terms, as these are episodic\n",
    "\n",
    "                ## this was the last one. We are not using any terminal states in a good way\n",
    "\n",
    "                if t == len(records['obs']) - 1:\n",
    "                    #print(f'T: {t} - Rewards at end : {torch.tensor(records[\"rewards\"])[t]} ')\n",
    "                    #print(f'T: {t} - Actions at end : {torch.tensor(records[\"actions\"])[t]} ')\n",
    "                    delta = records[\"rewards\"][t] - records[\"values\"][t]\n",
    "                    advantages[t]  = delta\n",
    "                else:\n",
    "                    #print(f'T: {t} - Rewards : {torch.tensor(records[\"rewards\"])[t]} ')\n",
    "                    #print(f'T: {t} - Actions : {torch.tensor(records[\"actions\"])[t]} ')                    \n",
    "                    delta = records[\"rewards\"][t] + gamma * records[\"values\"][t+1] - records[\"values\"][t]\n",
    "                    advantages[t]  = delta + gamma * gamma * advantages[t+1]\n",
    "\n",
    "                #delta = records['rewards'][t] + gamma * records['values'][t+1] - records['values'][t]\n",
    "            magent_obs[player][\"advantages\"] = advantages\n",
    "            magent_obs[player][\"returns\"] = advantages + torch.tensor(records[\"values\"])\n",
    "                #advantages[t] = delta + gamma * gamma * advantages[t+1]\n",
    "    \n",
    "\n",
    "    # optimize the policy and the value network now\n",
    "    # we can take all our observations now and flatten them into one bigger list of individual transitions\n",
    "    # TODO: could make this setting into a single loop, but maybe this is clearer. ALso could make all these tensors earlier\n",
    "\n",
    "    # rec = list(magent_obs.values())[0]['obs']\n",
    "    # # print(rec)\n",
    "    # # print(torch.stack(rec))\n",
    "    # # print([item['actions'] for item in magent_obs.values()])\n",
    "    # # print(torch.cat([item['advantages'] for item in magent_obs.values()]))\n",
    "    # # rec = torch.cat([item['advantages'] for item in magent_obs.values()])\n",
    "    # # print(f'Length of {len(rec)} \\n{rec}')\n",
    "    # # rec = torch.cat([torch.stack(item['logprobs']) for item in magent_obs.values()])\n",
    "    # # print(f'Length of {len(rec)} \\n{rec}')\n",
    "    # # rec = torch.cat([torch.stack(item['obs']) for item in magent_obs.values()])\n",
    "    # # print(f'Length of {len(rec)}')\n",
    "\n",
    "    #print(torch.stack(list(magent_obs.values())[0])\n",
    "    b_observations = torch.cat([torch.stack(item['obs']) for item in magent_obs.values()])\n",
    "    b_logprobs = torch.cat([torch.stack(item['logprobs']) for item in magent_obs.values()])\n",
    "    b_actions = torch.cat([torch.stack(item['actions']) for item in magent_obs.values()])\n",
    "    b_returns = torch.cat([item['returns'] for item in magent_obs.values()])\n",
    "    b_values = torch.cat([torch.stack(item['values']) for item in magent_obs.values()])\n",
    "    b_advantages =  torch.cat([item['advantages'] for item in magent_obs.values()])\n",
    "\n",
    "\n",
    "\n",
    "    # b_index stands for batch index\n",
    "    b_index = np.arange(len(b_observations))\n",
    "    clip_fracs = []\n",
    "    for epoch in range(update_epochs):\n",
    "        np.random.shuffle(b_index)\n",
    "        for start in range(0, len(b_observations), batch_size):\n",
    "            end = start + batch_size\n",
    "            batch_index = b_index[start:end]\n",
    "\n",
    "            _, newlogprob, entropy, value = ppo_agent.get_action_and_value(\n",
    "                b_observations[batch_index], b_actions.long()[batch_index])\n",
    "            \n",
    "            logratio = newlogprob - b_logprobs[batch_index]\n",
    "            ratio = logratio.exp()\n",
    "\n",
    "            with torch.no_grad():\n",
    "                # calculate approx_kl http://joschu.net/blog/kl-approx.html\n",
    "                old_approx_kl = (-logratio).mean()\n",
    "                approx_kl = ((ratio - 1) - logratio).mean()\n",
    "                clip_fracs += [\n",
    "                    ((ratio - 1.0).abs() > clip_coef).float().mean().item()\n",
    "                ]\n",
    "            \n",
    "            # normalizing advantages\n",
    "            advantages = b_advantages[batch_index]\n",
    "            advantages = advantages.float()\n",
    "            advantages = (advantages - advantages.mean()) / (advantages.std() + 1e-8)\n",
    "\n",
    "            # policy loss\n",
    "            pg_loss1 = -advantages * ratio\n",
    "            pg_loss2 = -advantages * torch.clamp(ratio, 1 - clip_coef, 1 + clip_coef)\n",
    "            pg_loss = torch.max(pg_loss1, pg_loss2).mean()\n",
    "\n",
    "            # value loss\n",
    "            value = value.flatten()\n",
    "            v_loss_unclipped = (value - b_returns[batch_index]) ** 2\n",
    "            v_clipped = b_values[batch_index] + torch.clamp(\n",
    "                value - b_values[batch_index],\n",
    "                -clip_coef,\n",
    "                clip_coef,\n",
    "            )\n",
    "            v_loss_clipped = (v_clipped - b_returns[batch_index]) ** 2\n",
    "            v_loss_max = torch.max(v_loss_unclipped, v_loss_clipped)\n",
    "            v_loss = 0.5 * v_loss_max.mean()\n",
    "\n",
    "            entropy_loss = entropy.mean()\n",
    "            loss = pg_loss - ent_coef * entropy_loss + v_loss * vf_coef\n",
    "\n",
    "            optimizer.zero_grad()\n",
    "            loss.backward()\n",
    "            optimizer.step()\n",
    "    \n",
    "    # could move them from GPU here\n",
    "    y_pred, y_true = b_values.numpy(), b_returns.numpy()\n",
    "    var_y = np.var(y_true)\n",
    "    explained_var = np.nan if var_y == 0 else 1 - np.var(y_true - y_pred) / var_y\n",
    "    \n",
    "    if episode % 20 == 0:\n",
    "        print(f\"Training episode {episode}\")\n",
    "        #print(f\"Episodic Return: {np.mean(total_episodic_return)}\")\n",
    "        #print(f\"Episode Length: {end_step}\")\n",
    "        print(\"\")\n",
    "        print(f\"Value Loss: {v_loss.item()}\")\n",
    "        print(f\"Policy Loss: {pg_loss.item()}\")\n",
    "        print(f\"Old Approx KL: {old_approx_kl.item()}\")\n",
    "        print(f\"Approx KL: {approx_kl.item()}\")\n",
    "        print(f\"Clip Fraction: {np.mean(clip_fracs)}\")\n",
    "        print(f\"Explained Variance: {explained_var.item()}\")\n",
    "        print(\"\\n-------------------------------------------\\n\")\n",
    "\n",
    "\n",
    "            \n",
    "        "
   ]
  },
  {
   "cell_type": "code",
   "execution_count": 141,
   "metadata": {},
   "outputs": [
    {
     "name": "stderr",
     "output_type": "stream",
     "text": [
      "100%|██████████| 1000/1000 [00:25<00:00, 38.84it/s]"
     ]
    },
    {
     "name": "stdout",
     "output_type": "stream",
     "text": [
      "Average game length = 4.21\n",
      "Wolf wins : 909\n",
      "Villager wins: 91\n"
     ]
    },
    {
     "name": "stderr",
     "output_type": "stream",
     "text": [
      "\n"
     ]
    }
   ],
   "source": [
    "ten_player_env = raw_env(num_agents=10, werewolves=2)\n",
    "\n",
    "avg_game_length = 0\n",
    "wolf_wins = 0\n",
    "villager_wins = 0\n",
    "\n",
    "num_games = 1000\n",
    "\n",
    "ten_player_env.reset()\n",
    "\n",
    "for _ in tqdm(range(num_games)):\n",
    "\n",
    "    for agent in ten_player_env.agent_iter():\n",
    "        observation, reward, termination, truncation, info = ten_player_env.last()\n",
    "        action = random_policy(observation, agent) if not termination or truncation else None\n",
    "\n",
    "\n",
    "        if sum(observation['observation']['roles']):\n",
    "            # TODO: find a cleaner way to identify a wolf\n",
    "            action = random_policy(observation, magent) if not termination or truncation else None\n",
    "        else:\n",
    "            ## villagers act according to a trained policy\n",
    "            obs = torch.Tensor(flat_obs(observation['observation']))\n",
    "            if not termination or truncation:\n",
    "                action, logprobs, _, value = ppo_agent.get_action_and_value(obs)\n",
    "            else:\n",
    "                action = None\n",
    "\n",
    "        ten_player_env.step(action)\n",
    "    \n",
    "    # get some stats\n",
    "    winner = ten_player_env.world_state['winners']\n",
    "    day = ten_player_env.world_state['day']\n",
    "\n",
    "    if winner:\n",
    "        wolf_wins += 1\n",
    "    else:\n",
    "        villager_wins += 1\n",
    "    \n",
    "    avg_game_length += (day * 1.0)/num_games \n",
    "\n",
    "    # reset \n",
    "    ten_player_env.reset()\n",
    "\n",
    "print(f'Average game length = {avg_game_length:.2f}')\n",
    "print(f'Wolf wins : {wolf_wins}')\n",
    "print(f'Villager wins: {villager_wins}')"
   ]
  },
  {
   "cell_type": "markdown",
   "metadata": {},
   "source": [
    "https://andyljones.com/posts/rl-debugging.html"
   ]
  }
 ],
 "metadata": {
  "kernelspec": {
   "display_name": "Python 3",
   "language": "python",
   "name": "python3"
  },
  "language_info": {
   "codemirror_mode": {
    "name": "ipython",
    "version": 3
   },
   "file_extension": ".py",
   "mimetype": "text/x-python",
   "name": "python",
   "nbconvert_exporter": "python",
   "pygments_lexer": "ipython3",
   "version": "3.10.9"
  },
  "orig_nbformat": 4,
  "vscode": {
   "interpreter": {
    "hash": "949777d72b0d2535278d3dc13498b2535136f6dfe0678499012e853ee9abcab1"
   }
  }
 },
 "nbformat": 4,
 "nbformat_minor": 2
}
