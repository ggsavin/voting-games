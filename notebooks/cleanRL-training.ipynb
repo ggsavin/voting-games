{
 "cells": [
  {
   "attachments": {},
   "cell_type": "markdown",
   "metadata": {},
   "source": [
    "# Using CleanRL PPO to try and train Villagers"
   ]
  },
  {
   "cell_type": "code",
   "execution_count": 1,
   "metadata": {},
   "outputs": [
    {
     "name": "stderr",
     "output_type": "stream",
     "text": [
      "/usr/local/lib/python3.10/site-packages/tqdm/auto.py:22: TqdmWarning: IProgress not found. Please update jupyter and ipywidgets. See https://ipywidgets.readthedocs.io/en/stable/user_install.html\n",
      "  from .autonotebook import tqdm as notebook_tqdm\n"
     ]
    }
   ],
   "source": [
    "import numpy as np\n",
    "import torch\n",
    "import sys\n",
    "sys.path.append('../')\n",
    "from voting_games.werewolf_env_v0 import raw_env\n",
    "import random\n",
    "from tqdm import tqdm"
   ]
  },
  {
   "cell_type": "code",
   "execution_count": 4,
   "metadata": {},
   "outputs": [],
   "source": [
    "env = raw_env(num_agents=10, werewolves=2)\n",
    "env.reset()"
   ]
  },
  {
   "cell_type": "code",
   "execution_count": 19,
   "metadata": {},
   "outputs": [
    {
     "data": {
      "text/plain": [
       "6"
      ]
     },
     "execution_count": 19,
     "metadata": {},
     "output_type": "execute_result"
    }
   ],
   "source": [
    "env.action_spaces['player_1'].sample()"
   ]
  },
  {
   "cell_type": "code",
   "execution_count": 24,
   "metadata": {},
   "outputs": [
    {
     "data": {
      "text/plain": [
       "OrderedDict([('action_mask',\n",
       "              array([ True,  True,  True,  True,  True,  True,  True,  True,  True,\n",
       "                      True])),\n",
       "             ('observation',\n",
       "              OrderedDict([('day', 4),\n",
       "                           ('phase', 0),\n",
       "                           ('player_status',\n",
       "                            array([ True,  True,  True,  True,  True,  True,  True,  True,  True,\n",
       "                                    True])),\n",
       "                           ('roles', array([1, 0, 0, 1, 0, 0, 1, 1, 0, 1])),\n",
       "                           ('votes',\n",
       "                            array([ 9.839711 ,  2.3241622,  2.1457787,  0.1778076, 10.52     ,\n",
       "                                    9.540108 ,  6.323592 ,  3.98267  ,  1.2211397,  8.895571 ],\n",
       "                                  dtype=float32))]))])"
      ]
     },
     "execution_count": 24,
     "metadata": {},
     "output_type": "execute_result"
    }
   ],
   "source": [
    "env.observation_spaces['player_1'].sample()"
   ]
  },
  {
   "cell_type": "code",
   "execution_count": null,
   "metadata": {},
   "outputs": [],
   "source": [
    "class Agent(torch.nn.Module):\n",
    "    def __init__(self, num_actions):\n",
    "        super().__init__()\n",
    "\n",
    "        self.network = torch.nn.Sequential(\n",
    "            self._layer_init(torch.nn.Linear(obs_size, 64)),\n",
    "            torch.nn.ReLU(),\n",
    "            self._layer_init(torch.nn.Linear(64, 64)),\n",
    "            torch.nn.ReLU(),\n",
    "        )\n",
    "\n",
    "        self.actor = self._layer_init(torch.nn.Linear(512, num_actions))\n",
    "        self.critic = self._layer_init(torch.nn.Linear(512, 1))\n",
    "    \n",
    "    def _layer_init(self, layer, std=np.sqrt(2), bias_const=0.0):\n",
    "        torch.nn.orthogonal_(layer.weight, std)\n",
    "        torch.nn.constant_(layer.bias, bias_const)\n",
    "        return layer"
   ]
  }
 ],
 "metadata": {
  "kernelspec": {
   "display_name": "Python 3",
   "language": "python",
   "name": "python3"
  },
  "language_info": {
   "codemirror_mode": {
    "name": "ipython",
    "version": 3
   },
   "file_extension": ".py",
   "mimetype": "text/x-python",
   "name": "python",
   "nbconvert_exporter": "python",
   "pygments_lexer": "ipython3",
   "version": "3.10.9"
  },
  "orig_nbformat": 4,
  "vscode": {
   "interpreter": {
    "hash": "949777d72b0d2535278d3dc13498b2535136f6dfe0678499012e853ee9abcab1"
   }
  }
 },
 "nbformat": 4,
 "nbformat_minor": 2
}
