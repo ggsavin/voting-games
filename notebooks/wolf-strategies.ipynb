{
 "cells": [
  {
   "cell_type": "code",
   "execution_count": 1,
   "metadata": {},
   "outputs": [
    {
     "name": "stderr",
     "output_type": "stream",
     "text": [
      "/root/.local/lib/python3.10/site-packages/tqdm/auto.py:22: TqdmWarning: IProgress not found. Please update jupyter and ipywidgets. See https://ipywidgets.readthedocs.io/en/stable/user_install.html\n",
      "  from .autonotebook import tqdm as notebook_tqdm\n"
     ]
    }
   ],
   "source": [
    "import numpy as np\n",
    "import torch\n",
    "import sys\n",
    "sys.path.append('../')\n",
    "from voting_games.werewolf_env_v0 import raw_env, Roles\n",
    "import random\n",
    "from tqdm import tqdm\n",
    "import enum"
   ]
  },
  {
   "cell_type": "code",
   "execution_count": 2,
   "metadata": {},
   "outputs": [],
   "source": [
    "# class Roles(enum.IntEnum):\n",
    "#     VILLAGER = 0\n",
    "#     WEREWOLF = 1"
   ]
  },
  {
   "cell_type": "code",
   "execution_count": 2,
   "metadata": {},
   "outputs": [],
   "source": [
    "class Agent(torch.nn.Module):\n",
    "    def __init__(self, num_actions, obs_size):\n",
    "        super().__init__()\n",
    "\n",
    "        self.critic = torch.nn.Sequential(\n",
    "            self._layer_init(torch.nn.Linear(obs_size, 64)),\n",
    "            torch.nn.Tanh(),\n",
    "            self._layer_init(torch.nn.Linear(64,64)),\n",
    "            torch.nn.Tanh(),\n",
    "            self._layer_init(torch.nn.Linear(64,1), std=1.0),\n",
    "        )\n",
    "\n",
    "        self.actor = torch.nn.Sequential(\n",
    "            self._layer_init(torch.nn.Linear(obs_size, 64)),\n",
    "            torch.nn.Tanh(),\n",
    "            self._layer_init(torch.nn.Linear(64,64)),\n",
    "            torch.nn.Tanh(),\n",
    "            self._layer_init(torch.nn.Linear(64, num_actions), std=0.01),\n",
    "        )\n",
    "    \n",
    "    def get_value(self, x):\n",
    "        return self.critic(x)\n",
    "    \n",
    "    def get_action_and_value(self, x, action=None):\n",
    "        logits = self.actor(x)\n",
    "\n",
    "        probs = torch.distributions.categorical.Categorical(logits=logits)\n",
    "        if action is None:\n",
    "            action = probs.sample()\n",
    "        return action, probs.log_prob(action), probs.entropy(), self.critic(x)\n",
    "\n",
    "    def _layer_init(self, layer, std=np.sqrt(2), bias_const=0.0):\n",
    "        torch.nn.init.orthogonal_(layer.weight, std)\n",
    "        torch.nn.init.constant_(layer.bias, bias_const)\n",
    "        return layer\n",
    "\n",
    "def batchify_obs(obs, device):\n",
    "    \"\"\"Converts PZ style observations to batch of torch arrays.\"\"\"\n",
    "    # convert to list of np arrays\n",
    "    obs = np.stack([obs[a] for a in obs], axis=0)\n",
    "    obs = torch.tensor(obs).to(device)\n",
    "\n",
    "def batchify(x, device):\n",
    "    \"\"\"Converts PZ style returns to batch of torch arrays.\"\"\"\n",
    "    # convert to list of np arrays\n",
    "    x = np.stack([x[a] for a in x], axis=0)\n",
    "    # convert to torch\n",
    "    x = torch.tensor(x).to(device)\n",
    "\n",
    "    return x\n",
    "\n",
    "def unbatchify(x, env):\n",
    "    \"\"\"Converts np array to PZ style arguments.\"\"\"\n",
    "    x = x.cpu().numpy()\n",
    "    x = {a: x[i] for i, a in enumerate(env.possible_agents)}\n",
    "\n",
    "    return x"
   ]
  },
  {
   "cell_type": "code",
   "execution_count": 124,
   "metadata": {},
   "outputs": [],
   "source": [
    "def random_policy(observation, agent):\n",
    "    # these are the other wolves. we cannot vote for them either\n",
    "    available_actions = list(range(len(observation['observation']['player_status'])))\n",
    "    # dead players\n",
    "    action_mask = observation['action_mask']\n",
    "\n",
    "    legal_actions = [action for action,is_alive,is_wolf in zip(available_actions, action_mask, observation['observation']['roles']) if is_alive and not is_wolf]\n",
    "    # wolves don't vote for other wolves. will select another villager at random\n",
    "    action = random.choice(legal_actions)\n",
    "    return action\n",
    "\n",
    "def true_random_policy(observation, agent):\n",
    "    return random.choice(list(range(len(observation['observation']['player_status']))))\n",
    "\n",
    "\n",
    "def revenge_wolf_policy(observation, agent, action=None):\n",
    "    # we already know the agent is a werewolf\n",
    "    me = observation['observation']['self_id']\n",
    "\n",
    "    # who voted for me \n",
    "    votes_against_me = [i for i, x in enumerate(observation['observation']['votes']) if x == me and i != me]\n",
    "\n",
    "    # remove any wolves who voted for me (they should not have)\n",
    "    wolf_ids = [i for i, x in enumerate(observation['observation']['roles']) if x == 1 and i != me]\n",
    "    votes_against_me = list(set(votes_against_me)^set(wolf_ids))\n",
    "\n",
    "    # remove any players who voted for me but are dead now\n",
    "    votes_against_me = [i for i in votes_against_me if observation['observation']['player_status'][i] == True]\n",
    "\n",
    "    villagers_alive = [i for i, x in enumerate(observation['observation']['roles']) \\\n",
    "        if observation['observation']['player_status'][i] == True and x == 0]\n",
    "\n",
    "    # if there are no votes against me, pick a random villager that is alive\n",
    "    choice = random.choice(votes_against_me) if len(votes_against_me) > 0 else random.choice(villagers_alive)\n",
    "\n",
    "    return action if action != None else choice\n",
    "\n",
    "def random_wolf_policy(observation, agent, action=None):\n",
    "    # pick a villager to vote for that is alive\n",
    "    villagers_alive = [i for i, x in enumerate(observation['observation']['roles']) \\\n",
    "        if observation['observation']['player_status'][i] == True and x == 0]\n",
    "    return action if action != None else random.choice(villagers_alive)\n",
    "\n",
    "class RandomAgent():\n",
    "    def __init__(self, num_actions, obs_size):\n",
    "        self.num_actions = num_actions\n",
    "        self.obs_size = obs_size\n",
    "\n",
    "    def get_action_and_value(self, x, action=None):\n",
    "        return torch.tensor(random.choice(list(range(self.num_actions)))), None, None, None\n",
    "    \n",
    "class RandomAwareAgent():\n",
    "    def __init__(self, num_actions, obs_size):\n",
    "        self.num_actions = num_actions\n",
    "        self.obs_size = obs_size\n",
    "\n",
    "    def get_action_and_value(self, x, action=None):\n",
    "\n",
    "        # x is the flatten observation. the players still alive are\n",
    "        #         return  np.asarray([observation['day']] + \\\n",
    "        # [observation['phase']] + \\\n",
    "        # [observation['self_id']] + \\\n",
    "        # [int(status) for status in observation['player_status']] + \\\n",
    "        # [role for role in observation['roles']] + \\\n",
    "        # [vote for vote in observation['votes']])\n",
    "\n",
    "        # TODO: FIX BUG - the list only gives us \n",
    "        return torch.tensor(int(random.choice([i for i,v in enumerate(x[3: 3+ self.num_actions]) if v > 0.]))), None, None, None\n",
    "\n"
   ]
  },
  {
   "attachments": {},
   "cell_type": "markdown",
   "metadata": {},
   "source": [
    "## Setting up our mlflow tracking"
   ]
  },
  {
   "cell_type": "code",
   "execution_count": 4,
   "metadata": {},
   "outputs": [],
   "source": [
    "import mlflow\n",
    "\n",
    "mlflow.set_tracking_uri(\"http://mlflow:5000\")\n",
    "\n",
    "# with mlflow.start_run(run_name='Wolf Experiment'):"
   ]
  },
  {
   "attachments": {},
   "cell_type": "markdown",
   "metadata": {},
   "source": [
    "### Coordinate wolf revenge"
   ]
  },
  {
   "cell_type": "code",
   "execution_count": 5,
   "metadata": {},
   "outputs": [
    {
     "name": "stderr",
     "output_type": "stream",
     "text": [
      "100%|██████████| 1000/1000 [00:14<00:00, 70.78it/s]"
     ]
    },
    {
     "name": "stdout",
     "output_type": "stream",
     "text": [
      "Average game length = 4.59\n",
      "Wolf wins : 793\n",
      "Villager wins: 207\n",
      "Avg amount of self votes a game across villagers: 6.413\n",
      "Avg amount of dead votes a game across villagers: 14.828\n"
     ]
    },
    {
     "name": "stderr",
     "output_type": "stream",
     "text": [
      "\n"
     ]
    }
   ],
   "source": [
    "env = raw_env(num_agents=10, werewolves=2)\n",
    "env.reset()\n",
    "\n",
    "num_games = 1000\n",
    "avg_game_length = 0\n",
    "wolf_wins = 0\n",
    "villager_wins = 0\n",
    "\n",
    "def revenge_wolf_policy(observation, agent, action=None):\n",
    "    # we already know the agent is a werewolf\n",
    "    me = observation['observation']['self_id']\n",
    "\n",
    "    # who voted for me \n",
    "    votes_against_me = [i for i, x in enumerate(observation['observation']['votes']) if x == me and i != me]\n",
    "\n",
    "    # remove any wolves who voted for me (they should not have)\n",
    "    wolf_ids = [i for i, x in enumerate(observation['observation']['roles']) if x == 1 and i != me]\n",
    "    votes_against_me = list(set(votes_against_me)^set(wolf_ids))\n",
    "\n",
    "    # remove any players who voted for me but are dead now\n",
    "    votes_against_me = [i for i in votes_against_me if observation['observation']['player_status'][i] == True]\n",
    "\n",
    "    villagers_alive = [i for i, x in enumerate(observation['observation']['roles']) \\\n",
    "        if observation['observation']['player_status'][i] == True and x == 0]\n",
    "\n",
    "    # if there are no votes against me, pick a random villager that is alive\n",
    "    choice = random.choice(votes_against_me) if len(votes_against_me) > 0 else random.choice(villagers_alive)\n",
    "\n",
    "    return action if action != None else choice\n",
    "\n",
    "\n",
    "self_voting = []\n",
    "dead_voting = []\n",
    "\n",
    "with mlflow.start_run(run_name='Coordinated Wolf Revenge'):\n",
    "    for _ in tqdm(range(num_games)):\n",
    "        env.reset()\n",
    "        wolf_brain = {'day': 1, 'phase': 0, 'action': None}\n",
    "        \n",
    "        self_votes = 0\n",
    "        dead_votes = 0\n",
    "\n",
    "        for agent in env.agent_iter():\n",
    "            observation, reward, termination, truncation, info = env.last()\n",
    "            \n",
    "            day = observation['observation']['day']\n",
    "            phase = observation['observation']['phase']\n",
    "\n",
    "            if wolf_brain['day'] != day or wolf_brain['phase'] != phase:\n",
    "                wolf_brain = {'day': day, 'phase': phase, 'action': None}\n",
    "\n",
    "            role = observation['observation']['roles'][observation['observation']['self_id']]\n",
    "\n",
    "            if role == Roles.WEREWOLF:\n",
    "                action = revenge_wolf_policy(observation, agent, action=wolf_brain['action']) if not termination or truncation else None\n",
    "                wolf_brain['action'] = action\n",
    "            else:\n",
    "                action = true_random_policy(observation, agent) if not termination or truncation else None\n",
    "\n",
    "                # check how many times the action lines up with the agent\n",
    "                if action == observation['observation']['self_id']:\n",
    "                    self_votes += 1\n",
    "                \n",
    "                if action in [i for i, status in enumerate(observation['observation']['player_status']) if status == False]:\n",
    "                    dead_votes += 1\n",
    "\n",
    "            env.step(action)\n",
    "\n",
    "        # get some stats\n",
    "        winner = env.world_state['winners']\n",
    "        day = env.world_state['day']\n",
    "\n",
    "        self_voting.append(self_votes)\n",
    "        dead_voting.append(dead_votes)\n",
    "\n",
    "        if winner:\n",
    "            wolf_wins += 1\n",
    "        else:\n",
    "            villager_wins += 1\n",
    "        \n",
    "        avg_game_length += (day * 1.0)/num_games\n",
    "\n",
    "        if num_games % 20 == 0:\n",
    "            mlflow.log_metric(\"avg_game_len\", f'{avg_game_length:.2f}')\n",
    "            mlflow.log_metric(\"avg_self_votes\", f'{sum(self_voting)/len(self_voting)}')\n",
    "            mlflow.log_metric(\"avg_dead_votes\", f'{sum(dead_voting)/len(dead_voting)}')\n",
    "            # mlflow.log_param(\"avg_game_len\", f'{avg_game_length:.2f}')\n",
    "            # mlflow.log_param(\"avg_self_votes\", f'{sum(self_voting)/len(self_voting)}')\n",
    "            # mlflow.log_param(\"avg_dead_votes\", f'{sum(dead_voting)/len(dead_voting)}')\n",
    "\n",
    "\n",
    "print(f'Average game length = {avg_game_length:.2f}')\n",
    "print(f'Wolf wins : {wolf_wins}')\n",
    "print(f'Villager wins: {villager_wins}')\n",
    "print(f'Avg amount of self votes a game across villagers: {sum(self_voting)/len(self_voting)}')\n",
    "print(f'Avg amount of dead votes a game across villagers: {sum(dead_voting)/len(dead_voting)}')"
   ]
  },
  {
   "attachments": {},
   "cell_type": "markdown",
   "metadata": {},
   "source": [
    "Lets train a policy on the given reward structure we currently have, and see what happens"
   ]
  },
  {
   "cell_type": "code",
   "execution_count": 6,
   "metadata": {},
   "outputs": [],
   "source": [
    "env = raw_env(num_agents=10, werewolves=2)\n",
    "env.reset()\n",
    "num_agents = 10\n",
    "num_actions = env.action_spaces['player_1'].n\n",
    "observation_size = env.convert_obs(env.observation_spaces['player_1'].sample()['observation']).shape[-1]\n",
    "\n",
    "# Learner Setup\n",
    "ppo_agent = Agent(num_actions=num_actions, obs_size=observation_size)\n",
    "optimizer = torch.optim.Adam(ppo_agent.parameters(), lr=0.001, eps=1e-5)"
   ]
  },
  {
   "cell_type": "code",
   "execution_count": 7,
   "metadata": {},
   "outputs": [],
   "source": [
    "ent_coef = 0.1 #\n",
    "vf_coef = 0.1 #\n",
    "clip_coef = 0.1 #\n",
    "gamma = 0.99 #\n",
    "gae_lambda = 0.95\n",
    "batch_size = 16 #\n",
    "max_cycles = 125 #\n",
    "total_episodes = 9000 #\n",
    "update_epochs = 3 #"
   ]
  },
  {
   "cell_type": "code",
   "execution_count": 15,
   "metadata": {},
   "outputs": [
    {
     "name": "stdout",
     "output_type": "stream",
     "text": [
      "Wolf wins : 8, Villager wins : 2\n"
     ]
    }
   ],
   "source": [
    "def play_and_return_stats(env, wolf_policy, agent_policy, num_games=1000):\n",
    "    wolf_wins = 0\n",
    "    villager_wins = 0\n",
    "\n",
    "    game_replays = []\n",
    "    for _ in range(num_games):\n",
    "        with torch.no_grad():\n",
    "            env.reset()\n",
    "\n",
    "            # brain and extra stats \n",
    "            wolf_brain = {'day': 1, 'phase': 0, 'action': None}\n",
    "            \n",
    "            # magent_list = {agent: [] for agent in env.agents}\n",
    "            magent_list = {agent : {\"self_votes\": 0, \"dead_votes\": 0, \"lasted_for\": 0} for agent in env.agents if not env.agent_roles[agent]}\n",
    "\n",
    "            # print(magent_list.keys())\n",
    "            for magent in env.agent_iter():\n",
    "                observation, reward, termination, truncation, info = env.last()\n",
    "\n",
    "                day = observation['observation']['day']\n",
    "                phase = observation['observation']['phase']\n",
    "\n",
    "                if wolf_brain['day'] != day or wolf_brain['phase'] != phase:\n",
    "                    wolf_brain = {'day': day, 'phase': phase, 'action': None}\n",
    "\n",
    "                role = observation['observation']['roles'][observation['observation']['self_id']]\n",
    "\n",
    "                # werewolves have full role TODO: add logic for wolves herevisibility\n",
    "                if role == Roles.WEREWOLF:\n",
    "                    # action = revenge_wolf_policy(observation, magent, action=wolf_brain['action']) if not termination or truncation else None\n",
    "                    # wolf_brain['action'] = action\n",
    "                    # action = random_policy(observation, magent) if not termination or truncation else None\n",
    "\n",
    "                    action = wolf_policy(observation, None, action=wolf_brain['action']) if not termination or truncation else None\n",
    "                    wolf_brain['action'] = action\n",
    "                else:\n",
    "                    # action = true_random_policy(observation, agent) if not termination or truncation else None\n",
    "                    obs = torch.Tensor(env.convert_obs(observation['observation']))\n",
    "                    if not termination or truncation:\n",
    "                        action, logprobs, _, value = agent_policy.get_action_and_value(obs)\n",
    "                        action = action.item()\n",
    "                    else:\n",
    "                        action = None\n",
    "\n",
    "                    # grab some villager stats we think are useful\n",
    "                    # TODO : maybe make these callbacks?\n",
    "                    if action == observation['observation']['self_id']:\n",
    "                        magent_list[magent]['self_votes'] += 1\n",
    "                \n",
    "                    if action in [i for i, status in enumerate(observation['observation']['player_status']) if status == False]:\n",
    "                        magent_list[magent]['dead_votes'] += 1\n",
    "                        \n",
    "                env.step(action)\n",
    "            \n",
    "        game_replays.append(env.history)\n",
    "\n",
    "\n",
    "        # POST GAME STATS #\n",
    "        winner = env.world_state['winners']\n",
    "        day = env.world_state['day']\n",
    "\n",
    "        if winner:\n",
    "            wolf_wins += 1\n",
    "        else:\n",
    "            villager_wins += 1\n",
    "        \n",
    "    return wolf_wins, villager_wins, game_replays\n",
    "\n",
    "\n",
    "env = raw_env(num_agents=10, werewolves=2)\n",
    "env.reset()\n",
    "num_agents = 10\n",
    "num_actions = env.action_spaces['player_1'].n\n",
    "observation_size = env.convert_obs(env.observation_spaces['player_1'].sample()['observation']).shape[-1]\n",
    "\n",
    "# Learner Setup\n",
    "ppo_agent = Agent(num_actions=num_actions, obs_size=observation_size)\n",
    "# ppo_agent = torch.load(\"ppo_agent\")\n",
    "\n",
    "wwins, vwins, game_replay = play_and_return_stats(env, random_wolf_policy, ppo_agent, num_games=10)\n",
    "print(f'Wolf wins : {wwins}, Villager wins : {vwins}')\n",
    "\n",
    "    "
   ]
  },
  {
   "cell_type": "code",
   "execution_count": 134,
   "metadata": {},
   "outputs": [
    {
     "name": "stderr",
     "output_type": "stream",
     "text": [
      "100%|██████████| 200000/200000 [5:18:40<00:00, 10.46it/s]  "
     ]
    },
    {
     "name": "stdout",
     "output_type": "stream",
     "text": [
      "Average game length = 4.00\n",
      "Wolf wins : 200000\n",
      "Villager wins: 0\n",
      "Avg amount of self votes a game across villagers: 3.60159\n",
      "Avg amount of dead votes a game across villagers: 5.70916\n"
     ]
    },
    {
     "name": "stderr",
     "output_type": "stream",
     "text": [
      "\n"
     ]
    }
   ],
   "source": [
    "ent_coef = 0.1 #\n",
    "vf_coef = 0.1 #\n",
    "clip_coef = 0.1 #\n",
    "gamma = 0.99 #\n",
    "gae_lambda = 0.95\n",
    "batch_size = 32 #\n",
    "max_cycles = 125 #\n",
    "total_episodes = 200000 #\n",
    "update_epochs = 3 #\n",
    "\n",
    "# stats to keep track of for custom metrics\n",
    "self_voting = []\n",
    "dead_voting = []\n",
    "\n",
    "avg_game_length = 0\n",
    "wolf_wins = 0\n",
    "villager_wins = 0\n",
    "\n",
    "env = raw_env(num_agents=10, werewolves=2)\n",
    "env.reset()\n",
    "num_agents = 10\n",
    "num_actions = env.action_spaces['player_1'].n\n",
    "observation_size = env.convert_obs(env.observation_spaces['player_1'].sample()['observation']).shape[-1]\n",
    "\n",
    "# Learner Setup\n",
    "ppo_agent = Agent(num_actions=num_actions, obs_size=observation_size)\n",
    "optimizer = torch.optim.Adam(ppo_agent.parameters(), lr=0.001, eps=1e-5)\n",
    "\n",
    "\n",
    "with mlflow.start_run(run_name='Random Wolf behavior'):\n",
    "    for episode in tqdm(range(total_episodes)):\n",
    "        with torch.no_grad():\n",
    "            env.reset()\n",
    "\n",
    "            # brain and extra stats \n",
    "            wolf_brain = {'day': 1, 'phase': 0, 'action': None}\n",
    "            self_votes = 0\n",
    "            dead_votes = 0\n",
    "            \n",
    "            # magent_list = {agent: [] for agent in env.agents}\n",
    "            magent_list = {agent : [] for agent in env.agents if not env.agent_roles[agent]}\n",
    "\n",
    "            # print(magent_list.keys())\n",
    "            for magent in env.agent_iter():\n",
    "                observation, reward, termination, truncation, info = env.last()\n",
    "\n",
    "                day = observation['observation']['day']\n",
    "                phase = observation['observation']['phase']\n",
    "\n",
    "                if wolf_brain['day'] != day or wolf_brain['phase'] != phase:\n",
    "                    wolf_brain = {'day': day, 'phase': phase, 'action': None}\n",
    "\n",
    "                role = observation['observation']['roles'][observation['observation']['self_id']]\n",
    "\n",
    "                # werewolves have full role TODO: add logic for wolves herevisibility\n",
    "                if role == Roles.WEREWOLF:\n",
    "                    # action = revenge_wolf_policy(observation, magent, action=wolf_brain['action']) if not termination or truncation else None\n",
    "                    # wolf_brain['action'] = action\n",
    "                    # action = random_policy(observation, magent) if not termination or truncation else None\n",
    "\n",
    "                    action = random_wolf_policy(observation, agent, action=wolf_brain['action']) if not termination or truncation else None\n",
    "                    wolf_brain['action'] = action\n",
    "                else:\n",
    "                    obs = torch.Tensor(env.convert_obs(observation['observation']))\n",
    "                    if not termination or truncation:\n",
    "                        action, logprobs, _, value = ppo_agent.get_action_and_value(obs)\n",
    "                    else:\n",
    "                        action = None\n",
    "\n",
    "                    # grab some villager stats we think are useful\n",
    "                    # TODO : maybe make these callbacks?\n",
    "                    if action == observation['observation']['self_id']:\n",
    "                        self_votes += 1\n",
    "                \n",
    "                    if action in [i for i, status in enumerate(observation['observation']['player_status']) if status == False]:\n",
    "                        dead_votes += 1\n",
    "\n",
    "                    magent_list[magent].append({\n",
    "                        \"obs\": obs, \n",
    "                        \"action\": action,\n",
    "                        \"prev_reward\": reward,\n",
    "                        \"logprobs\": logprobs,\n",
    "                        \"term\": termination,\n",
    "                        \"value\": value\n",
    "                        })\n",
    "\n",
    "                env.step(action)\n",
    "            \n",
    "            # take the sequential observations of each agent, and store them appropriately\n",
    "            magent_obs = {agent: {'obs': [], 'rewards': [], 'actions': [], 'logprobs': [], 'values': [], 'terms': []} for agent in magent_list}\n",
    "            for key, value in magent_list.items():\n",
    "                # print(f'-- {key} --')\n",
    "                for s1, s2 in zip(value, value[1:]):\n",
    "                    magent_obs[key]['obs'].append(s1['obs'])\n",
    "                    magent_obs[key]['rewards'].append(s2['prev_reward'])\n",
    "                    magent_obs[key]['actions'].append(s1['action'])\n",
    "                    magent_obs[key]['logprobs'].append(s1['logprobs'])\n",
    "                    magent_obs[key]['values'].append(s1['value'])\n",
    "                    magent_obs[key]['terms'].append(s2['term'])\n",
    "\n",
    "\n",
    "        # POST GAME STATS #\n",
    "        winner = env.world_state['winners']\n",
    "        day = env.world_state['day']\n",
    "\n",
    "        self_voting.append(self_votes)\n",
    "        dead_voting.append(dead_votes)\n",
    "\n",
    "        if winner:\n",
    "            wolf_wins += 1\n",
    "        else:\n",
    "            villager_wins += 1\n",
    "        \n",
    "        avg_game_length += (day * 1.0)/total_episodes\n",
    "        # END OF POST GAME STATS #\n",
    "\n",
    "        mlflow.log_metric(\"avg_game_len\", f'{avg_game_length:.2f}')\n",
    "        mlflow.log_metric(\"avg_self_votes\", f'{sum(self_voting)/len(self_voting)}')\n",
    "        mlflow.log_metric(\"avg_dead_votes\", f'{sum(dead_voting)/len(dead_voting)}')\n",
    "        mlflow.log_metric(\"wolf wins\", wolf_wins)\n",
    "        mlflow.log_metric(\"villager wins\", villager_wins)\n",
    "        if episode % 50 == 0:\n",
    "            #wwins, vwins = play_and_return_stats(env, random_wolf_policy, ppo_agent, num_games=100)\n",
    "            #mlflow.log_metric(\"wwins\", wwins)\n",
    "            #mlflow.log_metric(\"vwins\", vwins)\n",
    "            continue\n",
    "        \n",
    "        \n",
    "\n",
    "        # We will do this for each agent in the episode\n",
    "        # essentially we are calculating advantages and returns\n",
    "        with torch.no_grad():\n",
    "            for player, records in magent_obs.items():\n",
    "                # print(f'{records}')\n",
    "                advantages = torch.zeros_like(torch.tensor(records['rewards']))\n",
    "\n",
    "                for t in reversed(range(len(records['obs']))):\n",
    "                    # print(f'T: {t+1} - Rewards : {torch.tensor(records[\"rewards\"])[t+1]} ')\n",
    "                    # not using terms, as these are episodic\n",
    "\n",
    "                    ## this was the last one. We are not using any terminal states in a good way\n",
    "\n",
    "                    if t == len(records['obs']) - 1:\n",
    "                        #print(f'T: {t} - Rewards at end : {torch.tensor(records[\"rewards\"])[t]} ')\n",
    "                        #print(f'T: {t} - Actions at end : {torch.tensor(records[\"actions\"])[t]} ')\n",
    "                        delta = records[\"rewards\"][t] - records[\"values\"][t]\n",
    "                        advantages[t]  = delta\n",
    "                    else:\n",
    "                        #print(f'T: {t} - Rewards : {torch.tensor(records[\"rewards\"])[t]} ')\n",
    "                        #print(f'T: {t} - Actions : {torch.tensor(records[\"actions\"])[t]} ')                    \n",
    "                        delta = records[\"rewards\"][t] + gamma * records[\"values\"][t+1] - records[\"values\"][t]\n",
    "                        advantages[t]  = delta + gamma * gamma * advantages[t+1]\n",
    "\n",
    "                    #delta = records['rewards'][t] + gamma * records['values'][t+1] - records['values'][t]\n",
    "                magent_obs[player][\"advantages\"] = advantages\n",
    "                magent_obs[player][\"returns\"] = advantages + torch.tensor(records[\"values\"])\n",
    "                    #advantages[t] = delta + gamma * gamma * advantages[t+1]\n",
    "        \n",
    "\n",
    "        # new logic, maybe we do this after a couple of games, so we get more data overall?\n",
    "        \n",
    "\n",
    "        # optimize the policy and the value network now\n",
    "        # we can take all our observations now and flatten them into one bigger list of individual transitions\n",
    "        # TODO: could make this setting into a single loop, but maybe this is clearer. ALso could make all these tensors earlier\n",
    "        b_observations = torch.cat([torch.stack(item['obs']) for item in magent_obs.values()])\n",
    "        b_logprobs = torch.cat([torch.stack(item['logprobs']) for item in magent_obs.values()])\n",
    "        b_actions = torch.cat([torch.stack(item['actions']) for item in magent_obs.values()])\n",
    "        b_returns = torch.cat([item['returns'] for item in magent_obs.values()])\n",
    "        b_values = torch.cat([torch.stack(item['values']) for item in magent_obs.values()])\n",
    "        b_advantages =  torch.cat([item['advantages'] for item in magent_obs.values()])\n",
    "\n",
    "\n",
    "\n",
    "        # b_index stands for batch index\n",
    "        b_index = np.arange(len(b_observations))\n",
    "        clip_fracs = []\n",
    "        for epoch in range(update_epochs):\n",
    "            np.random.shuffle(b_index)\n",
    "            for start in range(0, len(b_observations), batch_size):\n",
    "                end = start + batch_size\n",
    "                batch_index = b_index[start:end]\n",
    "\n",
    "                _, newlogprob, entropy, value = ppo_agent.get_action_and_value(\n",
    "                    b_observations[batch_index], b_actions.long()[batch_index])\n",
    "                \n",
    "                logratio = newlogprob - b_logprobs[batch_index]\n",
    "                ratio = logratio.exp()\n",
    "\n",
    "                with torch.no_grad():\n",
    "                    # calculate approx_kl http://joschu.net/blog/kl-approx.html\n",
    "                    old_approx_kl = (-logratio).mean()\n",
    "                    approx_kl = ((ratio - 1) - logratio).mean()\n",
    "                    clip_fracs += [\n",
    "                        ((ratio - 1.0).abs() > clip_coef).float().mean().item()\n",
    "                    ]\n",
    "                \n",
    "                # normalizing advantages\n",
    "                advantages = b_advantages[batch_index]\n",
    "                advantages = advantages.float()\n",
    "                advantages = (advantages - advantages.mean()) / (advantages.std() + 1e-8)\n",
    "\n",
    "                # policy loss\n",
    "                pg_loss1 = -advantages * ratio\n",
    "                pg_loss2 = -advantages * torch.clamp(ratio, 1 - clip_coef, 1 + clip_coef)\n",
    "                pg_loss = torch.max(pg_loss1, pg_loss2).mean()\n",
    "\n",
    "                # value loss\n",
    "                value = value.flatten()\n",
    "                v_loss_unclipped = (value - b_returns[batch_index]) ** 2\n",
    "                v_clipped = b_values[batch_index] + torch.clamp(\n",
    "                    value - b_values[batch_index],\n",
    "                    -clip_coef,\n",
    "                    clip_coef,\n",
    "                )\n",
    "                v_loss_clipped = (v_clipped - b_returns[batch_index]) ** 2\n",
    "                v_loss_max = torch.max(v_loss_unclipped, v_loss_clipped)\n",
    "                v_loss = 0.5 * v_loss_max.mean()\n",
    "\n",
    "                entropy_loss = entropy.mean()\n",
    "                loss = pg_loss - ent_coef * entropy_loss + v_loss * vf_coef\n",
    "\n",
    "                optimizer.zero_grad()\n",
    "                loss.backward()\n",
    "                optimizer.step()\n",
    "        \n",
    "        # could move them from GPU here\n",
    "        y_pred, y_true = b_values.numpy(), b_returns.numpy()\n",
    "        var_y = np.var(y_true)\n",
    "        explained_var = np.nan if var_y == 0 else 1 - np.var(y_true - y_pred) / var_y\n",
    "        \n",
    "        # if episode % 20 == 0:\n",
    "            # print(f\"Training episode {episode}\")\n",
    "            # #print(f\"Episodic Return: {np.mean(total_episodic_return)}\")\n",
    "            # #print(f\"Episode Length: {end_step}\")\n",
    "            # print(\"\")\n",
    "            # print(f\"Value Loss: {v_loss.item()}\")\n",
    "            # print(f\"Policy Loss: {pg_loss.item()}\")\n",
    "            # print(f\"Old Approx KL: {old_approx_kl.item()}\")\n",
    "            # print(f\"Approx KL: {approx_kl.item()}\")\n",
    "            # print(f\"Clip Fraction: {np.mean(clip_fracs)}\")\n",
    "            # print(f\"Explained Variance: {explained_var.item()}\")\n",
    "            # print(\"\\n-------------------------------------------\\n\")\n",
    "\n",
    "            # also check some stats and try to log these\n",
    "\n",
    "    # At the end, print some stuff here for overall stats\n",
    "\n",
    "    print(f'Average game length = {avg_game_length:.2f}')\n",
    "    print(f'Wolf wins : {wolf_wins}')\n",
    "    print(f'Villager wins: {villager_wins}')\n",
    "    print(f'Avg amount of self votes a game across villagers: {sum(self_voting)/len(self_voting)}')\n",
    "    print(f'Avg amount of dead votes a game across villagers: {sum(dead_voting)/len(dead_voting)}')\n",
    "\n",
    "torch.save(ppo_agent, \"long_agent\")"
   ]
  },
  {
   "cell_type": "code",
   "execution_count": 127,
   "metadata": {},
   "outputs": [
    {
     "name": "stdout",
     "output_type": "stream",
     "text": [
      "Wolf wins : 1766, Villager wins : 234\n"
     ]
    }
   ],
   "source": [
    "env = raw_env(num_agents=10, werewolves=2)\n",
    "env.reset()\n",
    "num_agents = 5\n",
    "num_actions = env.action_spaces['player_1'].n\n",
    "observation_size = env.convert_obs(env.observation_spaces['player_1'].sample()['observation']).shape[-1]\n",
    "\n",
    "# Learner Setup\n",
    "#ppo_agent = Agent(num_actions=num_actions, obs_size=observation_size)\n",
    "ppo_agent = torch.load(\"agent_with_id\")\n",
    "\n",
    "wwins, vwins, replay = play_and_return_stats(env, random_wolf_policy, ppo_agent, num_games=2000)\n",
    "print(f'Wolf wins : {wwins}, Villager wins : {vwins}')"
   ]
  },
  {
   "cell_type": "code",
   "execution_count": 81,
   "metadata": {},
   "outputs": [
    {
     "name": "stdout",
     "output_type": "stream",
     "text": [
      "Wolf wins : 1913, Villager wins : 87\n"
     ]
    }
   ],
   "source": [
    "random_agent = RandomAgent(num_actions, observation_size)\n",
    "wwins, vwins, replay = play_and_return_stats(env, random_wolf_policy, random_agent, num_games=2000)\n",
    "print(f'Wolf wins : {wwins}, Villager wins : {vwins}')"
   ]
  },
  {
   "cell_type": "code",
   "execution_count": 125,
   "metadata": {},
   "outputs": [
    {
     "name": "stdout",
     "output_type": "stream",
     "text": [
      "Wolf wins : 1849, Villager wins : 151\n"
     ]
    }
   ],
   "source": [
    "random_aware_agent = RandomAwareAgent(num_actions, observation_size)\n",
    "wwins, vwins, replay = play_and_return_stats(env, random_wolf_policy, random_aware_agent, num_games=2000)\n",
    "print(f'Wolf wins : {wwins}, Villager wins : {vwins}')"
   ]
  },
  {
   "cell_type": "code",
   "execution_count": 136,
   "metadata": {},
   "outputs": [
    {
     "name": "stdout",
     "output_type": "stream",
     "text": [
      "Wolf wins : 1695, Villager wins : 305\n"
     ]
    }
   ],
   "source": [
    "env = raw_env(num_agents=10, werewolves=2)\n",
    "env.reset()\n",
    "num_agents = 5\n",
    "num_actions = env.action_spaces['player_1'].n\n",
    "observation_size = env.convert_obs(env.observation_spaces['player_1'].sample()['observation']).shape[-1]\n",
    "\n",
    "# Learner Setup\n",
    "#ppo_agent = Agent(num_actions=num_actions, obs_size=observation_size)\n",
    "ppo_agent = torch.load(\"long_agent\")\n",
    "\n",
    "wwins, vwins, replay = play_and_return_stats(env, random_wolf_policy, ppo_agent, num_games=2000)\n",
    "print(f'Wolf wins : {wwins}, Villager wins : {vwins}')"
   ]
  },
  {
   "cell_type": "code",
   "execution_count": 144,
   "metadata": {},
   "outputs": [
    {
     "name": "stdout",
     "output_type": "stream",
     "text": [
      "Wolves \t : [] \t\t Villagers : []\n",
      "Wolves \t : [('p_2', 4), ('p_9', 4)] \t\t Villagers : [('p0', 2), ('p1', 8), ('p3', 8), ('p4', 6), ('p5', 0), ('p6', 2), ('p7', 5), ('p8', 2)]\n",
      "Wolves \t : [('p_2', 4), ('p_9', 4)] \t\t Villagers : [('p0', 8), ('p1', 8), ('p3', 6), ('p4', 2), ('p5', 8), ('p6', 8), ('p7', 8), ('p8', 4)]\n",
      "Wolves \t : [('p_2', 7), ('p_9', 7)] \t\t Villagers : []\n",
      "Wolves \t : [('p_2', 0), ('p_9', 0)] \t\t Villagers : [('p0', 4), ('p1', 0), ('p3', 2), ('p4', 0), ('p5', 4), ('p6', 5)]\n",
      "Wolves \t : [('p_2', 1), ('p_9', 1)] \t\t Villagers : [('p0', 9), ('p1', 9), ('p3', 0), ('p4', 0), ('p5', 0), ('p6', 0)]\n",
      "Wolves \t : [('p_2', 5), ('p_9', 5)] \t\t Villagers : []\n",
      "Wolves \t : [('p_2', 6), ('p_9', 6)] \t\t Villagers : [('p1', 6), ('p3', 6), ('p4', 2), ('p6', 1)]\n",
      "Wolves \t : [('p_2', 4), ('p_9', 4)] \t\t Villagers : [('p1', 9), ('p3', 9), ('p4', 9), ('p6', 9)]\n",
      "Wolves \t : [('p_2', 6)] \t\t Villagers : []\n",
      "Wolves \t : [('p_2', 4)] \t\t Villagers : [('p1', 1), ('p3', 5), ('p4', 0)]\n",
      "Wolves \t : [('p_2', 3)] \t\t Villagers : [('p1', 7), ('p3', 2), ('p4', 2)]\n"
     ]
    }
   ],
   "source": [
    "def print_replay(replay):\n",
    "    #[wolf for wolf in stage[\"werewolves\"]]\n",
    "    #print(\"Werewolves \\tVillagers\")\n",
    "    for stage in replay:\n",
    "        wolf_votes = [(f'p_{wolf.split(\"_\")[-1]}', stage[\"votes\"][wolf]) for wolf in stage[\"werewolves\"] if wolf in stage[\"votes\"]]\n",
    "        villager_votes = [(f'p{villager.split(\"_\")[-1]}', stage[\"votes\"][villager]) for villager in stage[\"villagers\"] if villager in stage[\"votes\"]]\n",
    "        print(f'Wolves \\t : {wolf_votes} \\t\\t Villagers : {villager_votes}')\n",
    "        #print([f'{wolf.split(\"_\")[-1]} : {stage[\"votes\"][\"player\"_{wolf.split(\"_\")[-1]}]}]' for wolf in stage[\"werewolves\"]])\n",
    "        # for wolf in stage['werewolves']:\n",
    "        #     wid = wolf.split(\"_\")[-1]\n",
    "        #     pid = f\"player_{wid}\"\n",
    "        #     stage[\"votes\"][pid]\n",
    "        #     print(f'p_{wid} : {stage[\"votes\"][pid]}')\n",
    "        # print(stage['votes'])\n",
    "\n",
    "print_replay(replay[4])"
   ]
  },
  {
   "cell_type": "code",
   "execution_count": 90,
   "metadata": {},
   "outputs": [
    {
     "data": {
      "text/plain": [
       "{'day': 3,\n",
       " 'phase': 2,\n",
       " 'alive': ['player_3', 'player_4', 'player_7', 'player_8'],\n",
       " 'killed': ['player_9', 'player_0', 'player_2'],\n",
       " 'executed': ['player_1', 'player_5', 'player_6'],\n",
       " 'werewolves': ['player_3', 'player_4'],\n",
       " 'villagers': ['player_0',\n",
       "  'player_1',\n",
       "  'player_2',\n",
       "  'player_5',\n",
       "  'player_6',\n",
       "  'player_7',\n",
       "  'player_8',\n",
       "  'player_9'],\n",
       " 'votes': {'player_3': 2, 'player_4': 2},\n",
       " 'winners': <Roles.WEREWOLF: 1>}"
      ]
     },
     "execution_count": 90,
     "metadata": {},
     "output_type": "execute_result"
    }
   ],
   "source": [
    "replay[0][-1]"
   ]
  },
  {
   "cell_type": "code",
   "execution_count": 36,
   "metadata": {},
   "outputs": [],
   "source": [
    "# torch.save(ppo_agent, \"ppo_agent\")\n",
    "# torch.save(ppo_agent, \"agent_with_id\")"
   ]
  },
  {
   "attachments": {},
   "cell_type": "markdown",
   "metadata": {},
   "source": [
    "### Coordinated wolf execution"
   ]
  },
  {
   "cell_type": "code",
   "execution_count": 31,
   "metadata": {},
   "outputs": [
    {
     "name": "stderr",
     "output_type": "stream",
     "text": [
      "100%|██████████| 1000/1000 [00:01<00:00, 843.99it/s]"
     ]
    },
    {
     "name": "stdout",
     "output_type": "stream",
     "text": [
      "Average game length = 4.15\n",
      "Wolf wins : 925\n",
      "Villager wins: 75\n"
     ]
    },
    {
     "name": "stderr",
     "output_type": "stream",
     "text": [
      "\n"
     ]
    }
   ],
   "source": [
    "env = raw_env(num_agents=10, werewolves=2)\n",
    "env.reset()\n",
    "\n",
    "num_games = 1000\n",
    "avg_game_length = 0\n",
    "wolf_wins = 0\n",
    "villager_wins = 0\n",
    "\n",
    "for _ in tqdm(range(num_games)):\n",
    "    env.reset()\n",
    "    wolf_brain = {'day': 1, 'phase': 0, 'action': None}\n",
    "    \n",
    "    for agent in env.agent_iter():\n",
    "        observation, reward, termination, truncation, info = env.last()\n",
    "        \n",
    "        day = observation['observation']['day']\n",
    "        phase = observation['observation']['phase']\n",
    "\n",
    "        if wolf_brain['day'] != day or wolf_brain['phase'] != phase:\n",
    "            wolf_brain = {'day': day, 'phase': phase, 'action': None}\n",
    "\n",
    "        role = observation['observation']['roles'][observation['observation']['self_id']]\n",
    "\n",
    "        if role == Roles.WEREWOLF:\n",
    "            action = random_wolf_policy(observation, agent, action=wolf_brain['action']) if not termination or truncation else None\n",
    "            wolf_brain['action'] = action\n",
    "        else:\n",
    "            action = random_policy(observation, agent) if not termination or truncation else None\n",
    "\n",
    "        env.step(action)\n",
    "\n",
    "    # get some stats\n",
    "    winner = env.world_state['winners']\n",
    "    day = env.world_state['day']\n",
    "\n",
    "    if winner:\n",
    "        wolf_wins += 1\n",
    "    else:\n",
    "        villager_wins += 1\n",
    "    \n",
    "    avg_game_length += (day * 1.0)/num_games \n",
    "\n",
    "print(f'Average game length = {avg_game_length:.2f}')\n",
    "print(f'Wolf wins : {wolf_wins}')\n",
    "print(f'Villager wins: {villager_wins}')"
   ]
  },
  {
   "attachments": {},
   "cell_type": "markdown",
   "metadata": {},
   "source": [
    "### Random Wolves, not coordinated"
   ]
  },
  {
   "cell_type": "code",
   "execution_count": 48,
   "metadata": {},
   "outputs": [
    {
     "name": "stderr",
     "output_type": "stream",
     "text": [
      "100%|██████████| 20/20 [00:00<00:00, 497.82it/s]"
     ]
    },
    {
     "name": "stdout",
     "output_type": "stream",
     "text": [
      "Average game length = 4.05\n",
      "Wolf wins : 9\n",
      "Villager wins: 11\n"
     ]
    },
    {
     "name": "stderr",
     "output_type": "stream",
     "text": [
      "\n"
     ]
    }
   ],
   "source": [
    "ten_player_env = raw_env(num_agents=10, werewolves=1)\n",
    "\n",
    "avg_game_length = 0\n",
    "wolf_wins = 0\n",
    "villager_wins = 0\n",
    "\n",
    "num_games = 20\n",
    "\n",
    "ten_player_env.reset()\n",
    "\n",
    "for _ in tqdm(range(num_games)):\n",
    "\n",
    "    for agent in ten_player_env.agent_iter():\n",
    "        observation, reward, termination, truncation, info = ten_player_env.last()\n",
    "        action = random_policy(observation, agent) if not termination or truncation else None\n",
    "        ten_player_env.step(action)\n",
    "    \n",
    "    # get some stats\n",
    "    winner = ten_player_env.world_state['winners']\n",
    "    day = ten_player_env.world_state['day']\n",
    "\n",
    "    if winner:\n",
    "        wolf_wins += 1\n",
    "    else:\n",
    "        villager_wins += 1\n",
    "    \n",
    "    avg_game_length += (day * 1.0)/num_games \n",
    "\n",
    "    # reset \n",
    "    ten_player_env.reset()\n",
    "\n",
    "print(f'Average game length = {avg_game_length:.2f}')\n",
    "print(f'Wolf wins : {wolf_wins}')\n",
    "print(f'Villager wins: {villager_wins}')"
   ]
  },
  {
   "cell_type": "code",
   "execution_count": 1,
   "metadata": {},
   "outputs": [],
   "source": [
    "import mlflow"
   ]
  },
  {
   "cell_type": "code",
   "execution_count": 2,
   "metadata": {},
   "outputs": [
    {
     "name": "stderr",
     "output_type": "stream",
     "text": [
      "2023/02/26 01:02:02 INFO mlflow.tracking.fluent: Experiment with name 'mlflow-test' does not exist. Creating a new experiment.\n"
     ]
    }
   ],
   "source": [
    "mlflow.set_experiment(experiment_name=\"mlflow-test\")\n",
    "mlflow.log_metric(\"test\", 5)"
   ]
  }
 ],
 "metadata": {
  "kernelspec": {
   "display_name": "Python 3",
   "language": "python",
   "name": "python3"
  },
  "language_info": {
   "codemirror_mode": {
    "name": "ipython",
    "version": 3
   },
   "file_extension": ".py",
   "mimetype": "text/x-python",
   "name": "python",
   "nbconvert_exporter": "python",
   "pygments_lexer": "ipython3",
   "version": "3.10.9"
  },
  "orig_nbformat": 4,
  "vscode": {
   "interpreter": {
    "hash": "949777d72b0d2535278d3dc13498b2535136f6dfe0678499012e853ee9abcab1"
   }
  }
 },
 "nbformat": 4,
 "nbformat_minor": 2
}
