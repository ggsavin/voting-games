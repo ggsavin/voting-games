{
 "cells": [
  {
   "attachments": {},
   "cell_type": "markdown",
   "metadata": {},
   "source": [
    "## Training our Ultimate Werewolf Agents\n",
    "\n",
    "Our env currently has agents playing as werewolves or villagers.\n",
    "\n",
    "We will want to try training just the villager agents, just the werewolf agents, and both at the same time.\n",
    "\n",
    "\n",
    "We also want to explore different training environments\n"
   ]
  },
  {
   "attachments": {},
   "cell_type": "markdown",
   "metadata": {},
   "source": [
    "We will start by installing some additional dependencies, just for this purpose"
   ]
  },
  {
   "cell_type": "code",
   "execution_count": null,
   "metadata": {},
   "outputs": [],
   "source": [
    "%pip install git+https://github.com/WillDudley/tianshou.git"
   ]
  },
  {
   "cell_type": "code",
   "execution_count": null,
   "metadata": {},
   "outputs": [],
   "source": []
  }
 ],
 "metadata": {
  "language_info": {
   "name": "python"
  },
  "orig_nbformat": 4
 },
 "nbformat": 4,
 "nbformat_minor": 2
}
