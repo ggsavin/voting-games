{
 "cells": [
  {
   "cell_type": "code",
   "execution_count": 1,
   "metadata": {},
   "outputs": [
    {
     "name": "stderr",
     "output_type": "stream",
     "text": [
      "/root/.local/lib/python3.10/site-packages/gym/envs/registration.py:250: DeprecationWarning: SelectableGroups dict interface is deprecated. Use select.\n",
      "  for plugin in metadata.entry_points().get(entry_point, []):\n"
     ]
    }
   ],
   "source": [
    "import numpy as np\n",
    "import torch\n",
    "import sys\n",
    "sys.path.append('../')\n",
    "from voting_games.werewolf_env_v0 import friendly_env, Roles, Phase\n",
    "from notebooks.learning_agents.models import ActorCriticAgent\n",
    "from notebooks.learning_agents.utils import play_static_game, play_recurrent_game\n",
    "from notebooks.learning_agents.static_agents import (\n",
    "    random_plurality_villager, \n",
    "    random_coordinated_plurality_villager, \n",
    "    random_agent,\n",
    "    random_plurality_wolf,\n",
    "    revenge_plurality_wolf,\n",
    "    coordinated_revenge_plurality_wolf)\n",
    "from pettingzoo.utils.env import ParallelEnv\n",
    "from pettingzoo.utils.conversions import parallel_to_aec, aec_to_parallel\n",
    "\n",
    "from tianshou.data import Collector\n",
    "from tianshou.env import DummyVectorEnv, PettingZooEnv\n",
    "from tianshou.policy import RandomPolicy, MultiAgentPolicyManager\n",
    "\n"
   ]
  },
  {
   "cell_type": "markdown",
   "metadata": {},
   "source": [
    "## Tianshou RL\n",
    "\n",
    "Tianshou is an RL platform that has seen widespread usage, and is one of the adverstised frameworks on the Farama Foundation."
   ]
  },
  {
   "cell_type": "code",
   "execution_count": 2,
   "metadata": {},
   "outputs": [
    {
     "name": "stderr",
     "output_type": "stream",
     "text": [
      "/usr/local/lib/python3.10/site-packages/pettingzoo/utils/conversions.py:232: UserWarning: The base environment `werewolf_plurality_v1` does not have a `render_mode` defined.\n",
      "  warnings.warn(\n"
     ]
    }
   ],
   "source": [
    "env = parallel_to_aec(friendly_env(num_agents=10, werewolves=2))\n",
    "env = PettingZooEnv(env)\n",
    "\n",
    "# each agent needs a policy\n",
    "policies = MultiAgentPolicyManager([RandomPolicy() for _ in range(10)], env)\n",
    "\n",
    "# env needs to be converted to vector format\n",
    "env = DummyVectorEnv([lambda: env])\n",
    "\n",
    "#Construct the Collector, which interfaces the policies with the vectorised environment\n",
    "collector = Collector(policies, env)\n",
    "\n",
    "result = collector.collect(n_episode=1)"
   ]
  },
  {
   "cell_type": "code",
   "execution_count": null,
   "metadata": {},
   "outputs": [],
   "source": []
  },
  {
   "cell_type": "code",
   "execution_count": null,
   "metadata": {},
   "outputs": [],
   "source": []
  }
 ],
 "metadata": {
  "kernelspec": {
   "display_name": "Python 3",
   "language": "python",
   "name": "python3"
  },
  "language_info": {
   "codemirror_mode": {
    "name": "ipython",
    "version": 3
   },
   "file_extension": ".py",
   "mimetype": "text/x-python",
   "name": "python",
   "nbconvert_exporter": "python",
   "pygments_lexer": "ipython3",
   "version": "3.10.9"
  },
  "orig_nbformat": 4
 },
 "nbformat": 4,
 "nbformat_minor": 2
}
