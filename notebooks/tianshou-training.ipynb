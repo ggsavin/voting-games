{
 "cells": [
  {
   "cell_type": "code",
   "execution_count": 1,
   "metadata": {},
   "outputs": [
    {
     "name": "stderr",
     "output_type": "stream",
     "text": [
      "/usr/local/lib/python3.10/site-packages/tqdm/auto.py:22: TqdmWarning: IProgress not found. Please update jupyter and ipywidgets. See https://ipywidgets.readthedocs.io/en/stable/user_install.html\n",
      "  from .autonotebook import tqdm as notebook_tqdm\n"
     ]
    }
   ],
   "source": [
    "import numpy as np\n",
    "import torch\n",
    "import sys\n",
    "sys.path.append('../')\n",
    "from voting_games.werewolf_env_v0 import raw_env\n",
    "import random\n",
    "from tqdm import tqdm"
   ]
  },
  {
   "cell_type": "code",
   "execution_count": 2,
   "metadata": {},
   "outputs": [],
   "source": [
    "from tianshou.data import Collector\n",
    "from tianshou.env import DummyVectorEnv, PettingZooEnv\n",
    "from tianshou.policy import MultiAgentPolicyManager, RandomPolicy"
   ]
  },
  {
   "cell_type": "code",
   "execution_count": 6,
   "metadata": {},
   "outputs": [],
   "source": [
    "# env = raw_env(num_agents=10, werewolves=2)\n",
    "env = raw_env(num_agents=5, werewolves=1)\n",
    "env.reset()"
   ]
  },
  {
   "cell_type": "code",
   "execution_count": 7,
   "metadata": {},
   "outputs": [],
   "source": [
    "def flat_obs(observation):\n",
    "    return  [observation['day']] + \\\n",
    "            [observation['phase']] + \\\n",
    "            [int(status) for status in observation['player_status']] + \\\n",
    "            [role for role in observation['roles']] + \\\n",
    "            [vote for vote in observation['votes']]"
   ]
  },
  {
   "cell_type": "code",
   "execution_count": 8,
   "metadata": {},
   "outputs": [],
   "source": [
    "env = PettingZooEnv(env)"
   ]
  },
  {
   "cell_type": "code",
   "execution_count": 9,
   "metadata": {},
   "outputs": [],
   "source": [
    "policies = MultiAgentPolicyManager([RandomPolicy(), RandomPolicy(), RandomPolicy(), RandomPolicy(), RandomPolicy()], env)"
   ]
  },
  {
   "cell_type": "code",
   "execution_count": 10,
   "metadata": {},
   "outputs": [],
   "source": [
    "env = DummyVectorEnv([lambda: env])"
   ]
  },
  {
   "cell_type": "code",
   "execution_count": 11,
   "metadata": {},
   "outputs": [],
   "source": [
    "collector = Collector(policies, env)"
   ]
  },
  {
   "cell_type": "code",
   "execution_count": 14,
   "metadata": {},
   "outputs": [],
   "source": [
    "result = collector.collect(n_episode=20)"
   ]
  },
  {
   "cell_type": "code",
   "execution_count": 15,
   "metadata": {},
   "outputs": [
    {
     "data": {
      "text/plain": [
       "{'n/ep': 20,\n",
       " 'n/st': 352,\n",
       " 'rews': array([[ 24., -31.,  23.,  23.,  23.],\n",
       "        [ 22., -33.,  17.,  18.,  20.],\n",
       "        [-29., -32.,  21., -33., -32.],\n",
       "        [-32., -33.,  20., -32., -29.],\n",
       "        [ 24.,  23.,  24.,  23., -31.],\n",
       "        [ 18.,  22.,  21.,  17., -33.],\n",
       "        [ 17.,  21., -33.,  18.,  20.],\n",
       "        [-33.,  21., -32., -34., -29.],\n",
       "        [-31.,  24.,  24.,  23.,  24.],\n",
       "        [-31.,  19.,  24.,  23.,  23.],\n",
       "        [-33., -32.,  21., -29., -33.],\n",
       "        [ 24., -32.,  23.,  19.,  23.],\n",
       "        [ 21.,  21.,  18.,  17., -33.],\n",
       "        [ 19., -32.,  23.,  23.,  23.],\n",
       "        [ 17.,  22.,  21., -33.,  18.],\n",
       "        [ 21., -28., -33., -33., -32.],\n",
       "        [ 18.,  18.,  21.,  20., -34.],\n",
       "        [-33.,  21., -28., -33., -32.],\n",
       "        [-32.,  20., -32., -28., -34.],\n",
       "        [ 21., -33.,  17.,  18.,  20.]]),\n",
       " 'lens': array([10, 20, 20, 20, 10, 20, 20, 20, 10, 14, 20, 14, 20, 14, 20, 20, 20,\n",
       "        20, 20, 20]),\n",
       " 'idxs': array([0, 0, 0, 0, 0, 0, 0, 0, 0, 0, 0, 0, 0, 0, 0, 0, 0, 0, 0, 0]),\n",
       " 'rew': -0.73,\n",
       " 'len': 17.6,\n",
       " 'rew_std': 26.00686640101033,\n",
       " 'len_std': 3.826225293941798}"
      ]
     },
     "execution_count": 15,
     "metadata": {},
     "output_type": "execute_result"
    }
   ],
   "source": [
    "result"
   ]
  }
 ],
 "metadata": {
  "kernelspec": {
   "display_name": "Python 3",
   "language": "python",
   "name": "python3"
  },
  "language_info": {
   "codemirror_mode": {
    "name": "ipython",
    "version": 3
   },
   "file_extension": ".py",
   "mimetype": "text/x-python",
   "name": "python",
   "nbconvert_exporter": "python",
   "pygments_lexer": "ipython3",
   "version": "3.10.9"
  },
  "orig_nbformat": 4,
  "vscode": {
   "interpreter": {
    "hash": "949777d72b0d2535278d3dc13498b2535136f6dfe0678499012e853ee9abcab1"
   }
  }
 },
 "nbformat": 4,
 "nbformat_minor": 2
}
