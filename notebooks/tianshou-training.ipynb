{
 "cells": [
  {
   "cell_type": "code",
   "execution_count": 1,
   "metadata": {},
   "outputs": [
    {
     "name": "stderr",
     "output_type": "stream",
     "text": [
      "/root/.local/lib/python3.10/site-packages/tqdm/auto.py:22: TqdmWarning: IProgress not found. Please update jupyter and ipywidgets. See https://ipywidgets.readthedocs.io/en/stable/user_install.html\n",
      "  from .autonotebook import tqdm as notebook_tqdm\n"
     ]
    },
    {
     "name": "stdout",
     "output_type": "stream",
     "text": [
      "Done\n"
     ]
    }
   ],
   "source": [
    "import numpy as np\n",
    "import torch\n",
    "import sys\n",
    "sys.path.append('../')\n",
    "from voting_games.werewolf_env_v0 import raw_env\n",
    "import random\n",
    "from tqdm import tqdm"
   ]
  },
  {
   "cell_type": "code",
   "execution_count": 3,
   "metadata": {},
   "outputs": [],
   "source": [
    "import enum"
   ]
  },
  {
   "cell_type": "code",
   "execution_count": 4,
   "metadata": {},
   "outputs": [],
   "source": [
    "class Phase(enum.IntEnum):\n",
    "    ACCUSATION = 0\n",
    "    VOTING = 1\n",
    "    NIGHT = 2"
   ]
  },
  {
   "cell_type": "code",
   "execution_count": 13,
   "metadata": {},
   "outputs": [],
   "source": [
    "def get_game_phase():\n",
    "    phase = Phase(0)\n",
    "    total_phases = len(Phase)\n",
    "    while True:\n",
    "        yield phase\n",
    "        phase = Phase(phase+1)"
   ]
  },
  {
   "cell_type": "code",
   "execution_count": 14,
   "metadata": {},
   "outputs": [],
   "source": [
    "gen = get_game_phase()"
   ]
  },
  {
   "cell_type": "code",
   "execution_count": 18,
   "metadata": {},
   "outputs": [
    {
     "ename": "ValueError",
     "evalue": "3 is not a valid Phase",
     "output_type": "error",
     "traceback": [
      "\u001b[0;31m---------------------------------------------------------------------------\u001b[0m",
      "\u001b[0;31mValueError\u001b[0m                                Traceback (most recent call last)",
      "Cell \u001b[0;32mIn[18], line 1\u001b[0m\n\u001b[0;32m----> 1\u001b[0m \u001b[39mnext\u001b[39;49m(gen)\n",
      "Cell \u001b[0;32mIn[13], line 6\u001b[0m, in \u001b[0;36mget_game_phase\u001b[0;34m()\u001b[0m\n\u001b[1;32m      4\u001b[0m \u001b[39mwhile\u001b[39;00m \u001b[39mTrue\u001b[39;00m:\n\u001b[1;32m      5\u001b[0m     \u001b[39myield\u001b[39;00m phase\n\u001b[0;32m----> 6\u001b[0m     phase \u001b[39m=\u001b[39m Phase(phase\u001b[39m+\u001b[39;49m\u001b[39m1\u001b[39;49m)\n",
      "File \u001b[0;32m/usr/local/lib/python3.10/enum.py:385\u001b[0m, in \u001b[0;36mEnumMeta.__call__\u001b[0;34m(cls, value, names, module, qualname, type, start)\u001b[0m\n\u001b[1;32m    360\u001b[0m \u001b[39m\"\"\"\u001b[39;00m\n\u001b[1;32m    361\u001b[0m \u001b[39mEither returns an existing member, or creates a new enum class.\u001b[39;00m\n\u001b[1;32m    362\u001b[0m \n\u001b[0;32m   (...)\u001b[0m\n\u001b[1;32m    382\u001b[0m \u001b[39m`type`, if set, will be mixed in as the first base class.\u001b[39;00m\n\u001b[1;32m    383\u001b[0m \u001b[39m\"\"\"\u001b[39;00m\n\u001b[1;32m    384\u001b[0m \u001b[39mif\u001b[39;00m names \u001b[39mis\u001b[39;00m \u001b[39mNone\u001b[39;00m:  \u001b[39m# simple value lookup\u001b[39;00m\n\u001b[0;32m--> 385\u001b[0m     \u001b[39mreturn\u001b[39;00m \u001b[39mcls\u001b[39;49m\u001b[39m.\u001b[39;49m\u001b[39m__new__\u001b[39;49m(\u001b[39mcls\u001b[39;49m, value)\n\u001b[1;32m    386\u001b[0m \u001b[39m# otherwise, functional API: we're creating a new Enum type\u001b[39;00m\n\u001b[1;32m    387\u001b[0m \u001b[39mreturn\u001b[39;00m \u001b[39mcls\u001b[39m\u001b[39m.\u001b[39m_create_(\n\u001b[1;32m    388\u001b[0m         value,\n\u001b[1;32m    389\u001b[0m         names,\n\u001b[0;32m   (...)\u001b[0m\n\u001b[1;32m    393\u001b[0m         start\u001b[39m=\u001b[39mstart,\n\u001b[1;32m    394\u001b[0m         )\n",
      "File \u001b[0;32m/usr/local/lib/python3.10/enum.py:710\u001b[0m, in \u001b[0;36mEnum.__new__\u001b[0;34m(cls, value)\u001b[0m\n\u001b[1;32m    708\u001b[0m ve_exc \u001b[39m=\u001b[39m \u001b[39mValueError\u001b[39;00m(\u001b[39m\"\u001b[39m\u001b[39m%r\u001b[39;00m\u001b[39m is not a valid \u001b[39m\u001b[39m%s\u001b[39;00m\u001b[39m\"\u001b[39m \u001b[39m%\u001b[39m (value, \u001b[39mcls\u001b[39m\u001b[39m.\u001b[39m\u001b[39m__qualname__\u001b[39m))\n\u001b[1;32m    709\u001b[0m \u001b[39mif\u001b[39;00m result \u001b[39mis\u001b[39;00m \u001b[39mNone\u001b[39;00m \u001b[39mand\u001b[39;00m exc \u001b[39mis\u001b[39;00m \u001b[39mNone\u001b[39;00m:\n\u001b[0;32m--> 710\u001b[0m     \u001b[39mraise\u001b[39;00m ve_exc\n\u001b[1;32m    711\u001b[0m \u001b[39melif\u001b[39;00m exc \u001b[39mis\u001b[39;00m \u001b[39mNone\u001b[39;00m:\n\u001b[1;32m    712\u001b[0m     exc \u001b[39m=\u001b[39m \u001b[39mTypeError\u001b[39;00m(\n\u001b[1;32m    713\u001b[0m             \u001b[39m'\u001b[39m\u001b[39merror in \u001b[39m\u001b[39m%s\u001b[39;00m\u001b[39m._missing_: returned \u001b[39m\u001b[39m%r\u001b[39;00m\u001b[39m instead of None or a valid member\u001b[39m\u001b[39m'\u001b[39m\n\u001b[1;32m    714\u001b[0m             \u001b[39m%\u001b[39m (\u001b[39mcls\u001b[39m\u001b[39m.\u001b[39m\u001b[39m__name__\u001b[39m, result)\n\u001b[1;32m    715\u001b[0m             )\n",
      "\u001b[0;31mValueError\u001b[0m: 3 is not a valid Phase"
     ]
    }
   ],
   "source": [
    "next(gen)"
   ]
  },
  {
   "cell_type": "code",
   "execution_count": 2,
   "metadata": {},
   "outputs": [],
   "source": [
    "from tianshou.data import Collector\n",
    "from tianshou.env import DummyVectorEnv, PettingZooEnv\n",
    "from tianshou.policy import MultiAgentPolicyManager, RandomPolicy"
   ]
  },
  {
   "cell_type": "code",
   "execution_count": 6,
   "metadata": {},
   "outputs": [],
   "source": [
    "# env = raw_env(num_agents=10, werewolves=2)\n",
    "env = raw_env(num_agents=5, werewolves=1)\n",
    "env.reset()"
   ]
  },
  {
   "cell_type": "code",
   "execution_count": 7,
   "metadata": {},
   "outputs": [],
   "source": [
    "def flat_obs(observation):\n",
    "    return  [observation['day']] + \\\n",
    "            [observation['phase']] + \\\n",
    "            [int(status) for status in observation['player_status']] + \\\n",
    "            [role for role in observation['roles']] + \\\n",
    "            [vote for vote in observation['votes']]"
   ]
  },
  {
   "cell_type": "code",
   "execution_count": 8,
   "metadata": {},
   "outputs": [],
   "source": [
    "env = PettingZooEnv(env)"
   ]
  },
  {
   "cell_type": "code",
   "execution_count": 9,
   "metadata": {},
   "outputs": [],
   "source": [
    "policies = MultiAgentPolicyManager([RandomPolicy(), RandomPolicy(), RandomPolicy(), RandomPolicy(), RandomPolicy()], env)"
   ]
  },
  {
   "cell_type": "code",
   "execution_count": 10,
   "metadata": {},
   "outputs": [],
   "source": [
    "env = DummyVectorEnv([lambda: env])"
   ]
  },
  {
   "cell_type": "code",
   "execution_count": 11,
   "metadata": {},
   "outputs": [],
   "source": [
    "collector = Collector(policies, env)"
   ]
  },
  {
   "cell_type": "code",
   "execution_count": 14,
   "metadata": {},
   "outputs": [],
   "source": [
    "result = collector.collect(n_episode=20)"
   ]
  },
  {
   "cell_type": "code",
   "execution_count": 15,
   "metadata": {},
   "outputs": [
    {
     "data": {
      "text/plain": [
       "{'n/ep': 20,\n",
       " 'n/st': 352,\n",
       " 'rews': array([[ 24., -31.,  23.,  23.,  23.],\n",
       "        [ 22., -33.,  17.,  18.,  20.],\n",
       "        [-29., -32.,  21., -33., -32.],\n",
       "        [-32., -33.,  20., -32., -29.],\n",
       "        [ 24.,  23.,  24.,  23., -31.],\n",
       "        [ 18.,  22.,  21.,  17., -33.],\n",
       "        [ 17.,  21., -33.,  18.,  20.],\n",
       "        [-33.,  21., -32., -34., -29.],\n",
       "        [-31.,  24.,  24.,  23.,  24.],\n",
       "        [-31.,  19.,  24.,  23.,  23.],\n",
       "        [-33., -32.,  21., -29., -33.],\n",
       "        [ 24., -32.,  23.,  19.,  23.],\n",
       "        [ 21.,  21.,  18.,  17., -33.],\n",
       "        [ 19., -32.,  23.,  23.,  23.],\n",
       "        [ 17.,  22.,  21., -33.,  18.],\n",
       "        [ 21., -28., -33., -33., -32.],\n",
       "        [ 18.,  18.,  21.,  20., -34.],\n",
       "        [-33.,  21., -28., -33., -32.],\n",
       "        [-32.,  20., -32., -28., -34.],\n",
       "        [ 21., -33.,  17.,  18.,  20.]]),\n",
       " 'lens': array([10, 20, 20, 20, 10, 20, 20, 20, 10, 14, 20, 14, 20, 14, 20, 20, 20,\n",
       "        20, 20, 20]),\n",
       " 'idxs': array([0, 0, 0, 0, 0, 0, 0, 0, 0, 0, 0, 0, 0, 0, 0, 0, 0, 0, 0, 0]),\n",
       " 'rew': -0.73,\n",
       " 'len': 17.6,\n",
       " 'rew_std': 26.00686640101033,\n",
       " 'len_std': 3.826225293941798}"
      ]
     },
     "execution_count": 15,
     "metadata": {},
     "output_type": "execute_result"
    }
   ],
   "source": [
    "result"
   ]
  }
 ],
 "metadata": {
  "kernelspec": {
   "display_name": "Python 3",
   "language": "python",
   "name": "python3"
  },
  "language_info": {
   "codemirror_mode": {
    "name": "ipython",
    "version": 3
   },
   "file_extension": ".py",
   "mimetype": "text/x-python",
   "name": "python",
   "nbconvert_exporter": "python",
   "pygments_lexer": "ipython3",
   "version": "3.10.9"
  },
  "orig_nbformat": 4,
  "vscode": {
   "interpreter": {
    "hash": "949777d72b0d2535278d3dc13498b2535136f6dfe0678499012e853ee9abcab1"
   }
  }
 },
 "nbformat": 4,
 "nbformat_minor": 2
}
