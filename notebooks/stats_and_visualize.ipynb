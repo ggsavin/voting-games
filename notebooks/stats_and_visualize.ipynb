{
 "cells": [
  {
   "cell_type": "code",
   "execution_count": 195,
   "metadata": {},
   "outputs": [],
   "source": [
    "import numpy as np\n",
    "import torch\n",
    "import sys\n",
    "sys.path.append('../')\n",
    "from voting_games.werewolf_env_v0 import plurality_env, Phase, Roles\n",
    "import random\n",
    "import copy\n",
    "from tqdm import tqdm\n",
    "from collections import Counter\n",
    "import matplotlib.pyplot as plt\n",
    "from learning_agents.actor_critic_model import ActorCriticAgent"
   ]
  },
  {
   "attachments": {},
   "cell_type": "markdown",
   "metadata": {},
   "source": [
    "# Identifying villager voting behavior patterns and stats\n",
    "\n",
    "This notebook details the code used to look for certain identifiers in the voting patterns of villagers\n",
    "\n",
    "## Behavioral Indicators and Stats\n",
    "\n",
    "Other than training stats, possible in-game statistics may indicate different behavior and voting patterns amongst the agents\n",
    "\n",
    "We want to \n",
    " - Look at unique votes from villagers throughout accusation and voting. Do these go down?\n",
    "    - Is there a difference between wins/losses?\n",
    "\n",
    " - When are wolves voted out? Earlier or later?\n",
    "    - If so, when is the second wolf found? How many voting rounds after the first wolf killed\n",
    "\n",
    "\n",
    "\n",
    "Here are some things we might care about finding out:\n",
    "- [ ] How many execution votes led to ties? \n",
    "    - Did these favor the wolves or the villagers?\n",
    "- [ ] Villagers who have the same votes as others between accusations (is there accord between villagers)\n",
    "- [ ] What id's do wolves have in games with villager wins\n",
    "- [ ] How many distinct votes do we have? (per accusation round, per voting round)\n",
    "\n",
    "\n",
    "Some stuff might be specific to approval, plurality or ranked voting\n",
    "Approval \n",
    "- [ ] How many villagers vote the exact same way (with approvals and neutrals )\n",
    "- [ ] How many negative votes do villagers give on average. Does this change with training ? *Stat to track while training\n",
    "\n",
    "\n",
    "In terms of gathering up the stats, does it make more sense to look at the history, or does it make sense to just gather them while we train? it might be better to do it post game?"
   ]
  },
  {
   "attachments": {},
   "cell_type": "markdown",
   "metadata": {},
   "source": [
    "## Setup for "
   ]
  },
  {
   "cell_type": "code",
   "execution_count": 194,
   "metadata": {},
   "outputs": [],
   "source": [
    "@torch.no_grad()\n",
    "def play_recurrent_game_w_replays(env, wolf_policy, villager_agent, num_times=10, hidden_state_size=None, voting_type=None):\n",
    "    wins = 0\n",
    "    # loop = tqdm(range(num_times))\n",
    "    game_replays = []\n",
    "\n",
    "    for _ in range(num_times):\n",
    "        ## Play the game \n",
    "        next_observations, _, _, _, _ = env.reset()\n",
    "        # init recurrent stuff for actor and critic to 0 as well\n",
    "        magent_obs = {agent: {'obs': [], \n",
    "                              # obs size, and 1,1,64 as we pass batch first\n",
    "                              'hcxs': [(torch.zeros((1,1,hidden_state_size), dtype=torch.float32), torch.zeros((1,1,hidden_state_size), dtype=torch.float32))],\n",
    "                    } for agent in env.agents if not env.agent_roles[agent]}\n",
    "\n",
    "        wolf_action = None\n",
    "        while env.agents:\n",
    "            observations = copy.deepcopy(next_observations)\n",
    "            actions = {}\n",
    "\n",
    "            villagers = set(env.agents) & set(env.world_state[\"villagers\"])\n",
    "            wolves = set(env.agents) & set(env.world_state[\"werewolves\"])\n",
    "\n",
    "            # villagers actions\n",
    "            for villager in villagers:\n",
    "                #torch.tensor(env.convert_obs(observations['player_0']['observation']), dtype=torch.float)\n",
    "                torch_obs = torch.tensor(env.convert_obs(observations[villager]['observation']), dtype=torch.float)\n",
    "                obs = torch.unsqueeze(torch_obs, 0)\n",
    "\n",
    "                # TODO: Testing this, we may need a better way to pass in villagers\n",
    "                recurrent_cell = magent_obs[villager][\"hcxs\"][-1]\n",
    "                \n",
    "                # ensure that the obs is of size (batch,seq,inputs)\n",
    "                policies, _, recurrent_cell = villager_agent(obs, recurrent_cell)\n",
    "                _, game_action = villager_agent.get_action_from_policies(policies, voting_type=voting_type)\n",
    "\n",
    "                if voting_type == \"plurality\":\n",
    "                    actions[villager] = game_action.item()\n",
    "                elif voting_type == \"approval\":\n",
    "                    actions[villager] = game_action.tolist()\n",
    "\n",
    "                #store the next recurrent cells\n",
    "                magent_obs[villager][\"hcxs\"].append(recurrent_cell)\n",
    "\n",
    "            phase = env.world_state['phase']\n",
    "            for wolf in wolves:\n",
    "                wolf_action = wolf_policy(env, wolf, action=wolf_action)\n",
    "                actions[wolf] = wolf_action\n",
    "\n",
    "            next_observations, _, _, _, _ = env.step(actions)\n",
    "\n",
    "            # clear the wolf action if needed\n",
    "            if env.world_state['phase'] == Phase.NIGHT:\n",
    "                wolf_action = None\n",
    "            \n",
    "            if env.world_state['phase'] == Phase.ACCUSATION and phase == Phase.NIGHT:\n",
    "                wolf_action = None\n",
    "            \n",
    "        ## Fill bigger buffer, keeping in mind sequence\n",
    "        winner = env.world_state['winners']\n",
    "        if winner == Roles.VILLAGER:\n",
    "            wins += 1\n",
    "\n",
    "        game_replays.append(copy.deepcopy(env.history))\n",
    "\n",
    "        # loop.set_description(f\"Villagers won {wins} out of a total of {num_times} games\")\n",
    "    \n",
    "    return wins, game_replays"
   ]
  },
  {
   "cell_type": "code",
   "execution_count": 190,
   "metadata": {},
   "outputs": [],
   "source": [
    "def random_coordinated_single_wolf(env, agent, action=None):\n",
    "    villagers_remaining = set(env.world_state[\"villagers\"]) & set(env.world_state['alive'])\n",
    "    return action if action != None else int(random.choice(list(villagers_remaining)).split(\"_\")[-1])"
   ]
  },
  {
   "attachments": {},
   "cell_type": "markdown",
   "metadata": {},
   "source": [
    "## Data collection\n",
    "\n",
    "We are going to use a trained agent, an untrained agent, and a random agent.\n",
    "This way we can maybe identify patterns that would seperate each one"
   ]
  },
  {
   "cell_type": "code",
   "execution_count": 191,
   "metadata": {},
   "outputs": [
    {
     "name": "stdout",
     "output_type": "stream",
     "text": [
      "33\n"
     ]
    }
   ],
   "source": [
    "env = plurality_env(num_agents=10, werewolves=2, num_accusations=2)\n",
    "observations, _, _, _, _ = env.reset()\n",
    "\n",
    "obs_size= env.convert_obs(observations['player_0']['observation']).shape[-1]\n",
    "print(obs_size)\n",
    "observations['player_0']['observation']\n",
    "\n",
    "untrained_agent = ActorCriticAgent({\"rec_hidden_size\": 128, \n",
    "                                        \"rec_layers\": 1, \n",
    "                                        \"hidden_mlp_size\": 128,\n",
    "                                        \"num_votes\": 1,\n",
    "                                        \"approval_states\": 10},\n",
    "                                        num_players=10,\n",
    "                                        obs_size=obs_size)\n",
    "\n",
    "trained_agent = ActorCriticAgent({\"rec_hidden_size\": 128,\n",
    "                                        \"rec_layers\": 1, \n",
    "                                        \"hidden_mlp_size\": 128,\n",
    "                                        \"num_votes\": 1,\n",
    "                                        \"approval_states\": 10},\n",
    "                                        num_players=10,\n",
    "                                        obs_size=obs_size)\n",
    "trained_agent.load_state_dict(torch.load(\"stored_agents/lstm_first_no_one_hot/plurality_agent_10_score_50\"))\n",
    "\n",
    "# random_agent = None\n",
    "\n",
    "trained_wins, trained_replays = play_recurrent_game_w_replays(env, random_coordinated_single_wolf, trained_agent, num_times=1000, hidden_state_size=128, voting_type=\"plurality\")\n",
    "untrained_wins, untrained_replays = play_recurrent_game_w_replays(env, random_coordinated_single_wolf, untrained_agent, num_times=1000, hidden_state_size=128, voting_type=\"plurality\")\n",
    "# random_wins, random_replays = play_recurrent_game_w_replays(env, random_coordinated_single_wolf, random_agent, num_times=1000, hidden_state_size=128, voting_type=\"plurality\")\n"
   ]
  },
  {
   "cell_type": "code",
   "execution_count": 192,
   "metadata": {},
   "outputs": [
    {
     "name": "stdout",
     "output_type": "stream",
     "text": [
      "316\n",
      "48\n"
     ]
    }
   ],
   "source": [
    "trained_villager_wins = [r for r in trained_replays if r[-1][\"winners\"] == Roles.VILLAGER]\n",
    "print(f'Trained villagers won {len(trained_villager_wins)} games')\n",
    "untrained_villager_wins = [r for r in untrained_replays if r[-1][\"winners\"] == Roles.VILLAGER]\n",
    "print(f'Untrained villagers won {len(untrained_villager_wins)} games')"
   ]
  },
  {
   "attachments": {},
   "cell_type": "markdown",
   "metadata": {},
   "source": [
    "The way the environment stores history is slightly different than observations. Whereas the latter stores the prior votes, env.history steps have the votes and the outcomes that occured at that particular day/phase/round.\n",
    "This makes analysis slightly easier, but we still need to track a few things\n"
   ]
  },
  {
   "cell_type": "code",
   "execution_count": 193,
   "metadata": {},
   "outputs": [
    {
     "name": "stdout",
     "output_type": "stream",
     "text": [
      "{<Phase.VOTING: 1>: 316}\n"
     ]
    }
   ],
   "source": [
    "# TODO: SANITY CHECK THAT NO VILLAGER WINS HAPPENED OTHER THAN AFTER THE VOTING ROUND"
   ]
  },
  {
   "cell_type": "code",
   "execution_count": 205,
   "metadata": {},
   "outputs": [
    {
     "name": "stdout",
     "output_type": "stream",
     "text": [
      "Average amount of days until a win is achieved by villagers\n",
      "\t Trained villagers : 2.949367\n",
      "\t Untrained villagers : 3.125000\n"
     ]
    }
   ],
   "source": [
    "print(\"Average amount of days until a win is achieved by villagers\")\n",
    "print(f'\\t Trained villagers : {np.mean([villager_win[-1][\"day\"] for villager_win in trained_villager_wins]):2f}')\n",
    "print(f'\\t Untrained villagers : {np.mean([villager_win[-1][\"day\"] for villager_win in untrained_villager_wins]):2f}')"
   ]
  },
  {
   "attachments": {},
   "cell_type": "markdown",
   "metadata": {},
   "source": [
    "We may want to increase the number of players to 15, keeping 2 werewolves, to see if the mean day stretches further"
   ]
  },
  {
   "attachments": {},
   "cell_type": "markdown",
   "metadata": {},
   "source": [
    "Lets look at unique votes accusation -> voting\n",
    "How many unique votes are there from accusation to voting?\n",
    "If they switch, does a bigger count switch down to a little one? or does a smaller count lose a number to the bigger one?\n",
    "\n",
    "Did a villager switch to a werewolf vote?\n",
    "wolf to wolf?\n",
    "\n",
    "What proportion of votes are for werewolves?\n",
    "\n",
    "How often is the vote against a dead player?\n",
    "\n",
    "In situations where we have a wolf who died, do players still vote against them?\n",
    "\n",
    "Do we have 3 way ties between both werewolves and the werewolf target?\n",
    "Is it possible that we actually lose because there is less consensus between agents on who they want to target?\n",
    "\n",
    "do villagers win more given a first wolf vote?\n",
    "is there a vote they key on quicker?\n",
    "\n",
    "On voting rounds:\n",
    "    - Does a wolf get lucky, and agents split their votes between the wolves, and the wolf target actually gets killed?\n",
    "\n",
    "General game questions:\n",
    "    - Does the first target a wolf pick impact their chance of winning? Alternatively, do villagers key better on certain first wolf votes?\n",
    "    - Do certain wolf id combinations lead to more villager wins? \n",
    "\n"
   ]
  },
  {
   "cell_type": "code",
   "execution_count": 272,
   "metadata": {},
   "outputs": [
    {
     "name": "stdout",
     "output_type": "stream",
     "text": [
      "Days between wolf kills for trained agents : 1.627\n",
      "Days between wolf kills for untrained agents : 1.562\n"
     ]
    }
   ],
   "source": [
    "# first wolf kill\n",
    "def when_did_wolves_get_killed(game):\n",
    "    wolves = game[0]['werewolves']\n",
    "\n",
    "    days_wolves_executed = []\n",
    "    just_votes = []\n",
    "    for step in game:\n",
    "        if step[\"phase\"] == Phase.VOTING:\n",
    "            # first eecution\n",
    "            if len(step[\"executed\"]) == 1:\n",
    "                if step['executed'][0] in wolves:\n",
    "                    days_wolves_executed.append(step['day'])\n",
    "            else:\n",
    "                who_was_killed = list(set(step['executed']) - set(just_votes[-1]['executed']))[0]\n",
    "                if who_was_killed  in wolves:\n",
    "                    days_wolves_executed.append(step['day'])\n",
    "\n",
    "            just_votes.append(step)\n",
    "    \n",
    "    if len(days_wolves_executed) < len(wolves):\n",
    "        print(\"Not every wolf was killed!\")\n",
    "    \n",
    "    return days_wolves_executed\n",
    "\n",
    "wolf_execution_days = [when_did_wolves_get_killed(trained_villager_win) for trained_villager_win in trained_villager_wins]\n",
    "wolf_execution_duration_between = [b-a for a,b in wolf_execution_days]\n",
    "print(f'Days between wolf kills for trained agents : {np.mean(wolf_execution_duration_between):.3f}')\n",
    "\n",
    "wolf_execution_days = [when_did_wolves_get_killed(untrained_villager_win) for untrained_villager_win in untrained_villager_wins]\n",
    "wolf_execution_duration_between = [b-a for a,b in wolf_execution_days]\n",
    "print(f'Days between wolf kills for untrained agents : {np.mean(wolf_execution_duration_between):.3f}')"
   ]
  },
  {
   "attachments": {},
   "cell_type": "markdown",
   "metadata": {},
   "source": [
    "I wonder if this statistic would be different in a game with 15 villagers and 2 wolves..."
   ]
  },
  {
   "cell_type": "code",
   "execution_count": 276,
   "metadata": {},
   "outputs": [
    {
     "name": "stdout",
     "output_type": "stream",
     "text": [
      "Wolves : ['player_4', 'player_6']\n",
      "\n",
      "Day : 1 | Phase : 0 | Round : 0\n",
      "Villager votes : [10, 10, 10, 10, 10, 10, 10, 10]\n",
      "\t | - 1 players targetted, with 0.000 of the votes targetting wolves\n",
      "\t | - 0.000 share of the votes targetting dead players\n",
      "\n",
      "Day : 1 | Phase : 0 | Round : 0\n",
      "Villager votes : [5, 1, 9, 9, 4, 9, 9, 9]\n",
      "\t | - 4 players targetted, with 0.125 of the votes targetting wolves\n",
      "\t | - 0.000 share of the votes targetting dead players\n",
      "\n",
      "Day : 1 | Phase : 0 | Round : 0\n",
      "Villager votes : [9, 6, 6, 6, 5, 6, 9, 4]\n",
      "\t | - 4 players targetted, with 0.625 of the votes targetting wolves\n",
      "\t | - 0.000 share of the votes targetting dead players\n",
      "\n",
      "Day : 1 | Phase : 0 | Round : 1\n",
      "Villager votes : [3, 4, 6, 4, 9, 6, 4, 4]\n",
      "\t | - 4 players targetted, with 0.750 of the votes targetting wolves\n",
      "\t | - 0.000 share of the votes targetting dead players\n",
      "\n",
      "Day : 1 | Phase : 1 | Round : 0\n",
      "Villager votes : [6, 4, 8, 4, 4, 6, 4, 4]\n",
      "\t | - 3 players targetted, with 0.875 of the votes targetting wolves\n",
      "\t | - 0.000 share of the votes targetting dead players\n",
      "\n",
      "Day : 2 | Phase : 0 | Round : 0\n",
      "Villager votes : [7, 9, 6, 9, 7, 6, 6]\n",
      "\t | - 3 players targetted, with 0.429 of the votes targetting wolves\n",
      "\t | - 0.000 share of the votes targetting dead players\n",
      "\n",
      "Day : 2 | Phase : 0 | Round : 1\n",
      "Villager votes : [6, 6, 6, 6, 6, 6, 6]\n",
      "\t | - 1 players targetted, with 1.000 of the votes targetting wolves\n",
      "\t | - 0.000 share of the votes targetting dead players\n",
      "\n",
      "Day : 2 | Phase : 1 | Round : 0\n",
      "Villager votes : [6, 6, 6, 6, 6, 6, 6]\n",
      "\t | - 1 players targetted, with 1.000 of the votes targetting wolves\n",
      "\t | - 0.000 share of the votes targetting dead players\n",
      "\n"
     ]
    }
   ],
   "source": [
    "wolves = trained_villager_wins[0][0]['werewolves']\n",
    "print(f'Wolves : {wolves}\\n')\n",
    "\n",
    "just_votes = []\n",
    "for step in trained_villager_wins[0]:\n",
    "    if step[\"phase\"] == Phase.NIGHT:\n",
    "        continue\n",
    "    if step[\"phase\"] == Phase.VOTING:\n",
    "        just_votes.append(step)\n",
    "\n",
    "    villager_votes = [vote for player, vote in step['votes'].items() if player not in wolves]\n",
    "    all_votes = list(step['votes'].values())\n",
    "\n",
    "    unique_villager_votes = len(Counter(villager_votes))\n",
    "    percent_of_villagers_targetting_wolves = sum([Counter(villager_votes)[int(wolf.split(\"_\")[-1])] for wolf in wolves]) / float(len(villager_votes))\n",
    "\n",
    "    # want to be careful, because on voting rounds, there is also the executed player in this set. so we need to remove them first\n",
    "    if step[\"phase\"] == Phase.VOTING:\n",
    "        just_votes.append(step)\n",
    "    \n",
    "        if len(just_votes) == 1:\n",
    "            percent_of_villagers_targetting_dead_players = 0 / float(len(villager_votes))\n",
    "        else:\n",
    "            percent_of_villagers_targetting_dead_players = sum([Counter(villager_votes)[dead_player] for dead_player in list((set(step['executed']) & set(just_votes[-2]['executed'])) | set(step['killed']))]) / float(len(villager_votes))\n",
    "    else:\n",
    "        percent_of_villagers_targetting_dead_players = sum([Counter(villager_votes)[dead_player] for dead_player in list(set(step['executed']) & set(step['killed']))]) / float(len(villager_votes))\n",
    "\n",
    "    # percent_of_villagers_targetting_a_dead_wolf = None\n",
    "    \n",
    "    print(f'Day : {step[\"day\"]} | Phase : {step[\"phase\"]} | Round : {step[\"round\"]}')\n",
    "    print(f'Villager votes : {villager_votes}')\n",
    "    print(f'\\t | - {unique_villager_votes} players targetted, with {percent_of_villagers_targetting_wolves:.3f} of the votes targetting wolves')\n",
    "    print(f'\\t | - {percent_of_villagers_targetting_dead_players:.3f} share of the votes targetting dead players\\n')\n",
    "\n",
    "\n",
    "    #print(f'Villager counters : {Counter(villager_votes)}')\n",
    "\n",
    "    #print(f'All votes : {all_votes}')\n",
    "    #print(f'All votes counters : {Counter(all_votes)}')"
   ]
  },
  {
   "cell_type": "code",
   "execution_count": null,
   "metadata": {},
   "outputs": [],
   "source": [
    "villager_games"
   ]
  },
  {
   "cell_type": "code",
   "execution_count": 15,
   "metadata": {},
   "outputs": [],
   "source": [
    "from collections import Counter\n",
    "import matplotlib.pyplot as plt"
   ]
  },
  {
   "cell_type": "code",
   "execution_count": 20,
   "metadata": {},
   "outputs": [
    {
     "data": {
      "image/png": "[encoded data removed]",
      "text/plain": [
       "<Figure size 640x480 with 1 Axes>"
      ]
     },
     "metadata": {},
     "output_type": "display_data"
    }
   ],
   "source": [
    "labels, values = zip(*Counter([item for sublist in [villager_win[-1][\"werewolves\"] for villager_win in untrained_villager_wins] for item in sublist]).items())\n",
    "indexes = np.arange(len(labels))\n",
    "width = 10\n",
    "\n",
    "plt.bar(indexes, values, width)\n",
    "plt.xticks(indexes + width * 0.5, labels)\n",
    "plt.tight_layout()\n",
    "plt.xticks(rotation=60)\n",
    "plt.show()"
   ]
  },
  {
   "cell_type": "code",
   "execution_count": null,
   "metadata": {},
   "outputs": [],
   "source": [
    "# load up trained agent\n",
    "# load up fresh agent for comparisons\n",
    "\n",
    "# play recurrent game_w_replays with both agents\n",
    "\n",
    "# try to answer the questions below\n",
    "\n",
    "\n",
    "# play_recurrent_game_w_replays()"
   ]
  },
  {
   "attachments": {},
   "cell_type": "markdown",
   "metadata": {},
   "source": [
    "\n"
   ]
  },
  {
   "cell_type": "code",
   "execution_count": null,
   "metadata": {},
   "outputs": [],
   "source": [
    "def collect_and_report_stats(env, information, ignore_wolf=True, mlflow_uri=None):\n",
    "    total_self_votes = len([vals for player, vals in information.items() if vals[\"self_vote\"] and (ignore_wolf and env.agent_roles[player] != Roles.WEREWOLF)])\n",
    "    total_dead_votes = sum([vals[\"dead_vote\"] for player, vals in information.items() if ignore_wolf and env.agent_roles[player] != Roles.WEREWOLF])\n",
    "    total_viable_votes = sum([vals[\"viable_vote\"] for player, vals in information.items() if ignore_wolf and env.agent_roles[player] != Roles.WEREWOLF])\n",
    "\n",
    "    avg_self_votes = total_self_votes/len(information)\n",
    "    avg_dead_votes = total_dead_votes/len(information)\n",
    "    avg_viable_votes = total_viable_votes/len(information)\n",
    "\n",
    "    return {\n",
    "        \"total_self_votes\": total_self_votes,\n",
    "        \"total_dead_votes\": total_dead_votes,\n",
    "        \"total_viable_votes\": total_viable_votes,\n",
    "        \"avg_self_votes\": avg_self_votes,\n",
    "        \"avg_dead_votes\": avg_dead_votes,\n",
    "        \"avg_viable_votes\": avg_viable_votes,\n",
    "        \"players_with_viable_votes\": len([vals[\"viable_vote\"] for player, vals in information.items() if ignore_wolf and env.agent_roles[player] != pare_Role.WEREWOLF])\n",
    "    }"
   ]
  },
  {
   "attachments": {},
   "cell_type": "markdown",
   "metadata": {},
   "source": [
    "## Replay visualization\n",
    "\n",
    "Need good ways to visualize the gameplay"
   ]
  },
  {
   "cell_type": "code",
   "execution_count": null,
   "metadata": {},
   "outputs": [],
   "source": [
    "def print_replay(replay):\n",
    "    #[wolf for wolf in stage[\"werewolves\"]]\n",
    "    #print(\"Werewolves \\tVillagers\")\n",
    "    for stage in replay:\n",
    "        wolf_votes = [(f'p_{wolf.split(\"_\")[-1]}', stage[\"votes\"][wolf]) for wolf in stage[\"werewolves\"] if wolf in stage[\"votes\"]]\n",
    "        villager_votes = [(f'p{villager.split(\"_\")[-1]}', stage[\"votes\"][villager]) for villager in stage[\"villagers\"] if villager in stage[\"votes\"]]\n",
    "        print(f'Wolves \\t : {wolf_votes} \\t\\t Villagers : {villager_votes}')\n",
    "        #print([f'{wolf.split(\"_\")[-1]} : {stage[\"votes\"][\"player\"_{wolf.split(\"_\")[-1]}]}]' for wolf in stage[\"werewolves\"]])\n",
    "        # for wolf in stage['werewolves']:\n",
    "        #     wid = wolf.split(\"_\")[-1]\n",
    "        #     pid = f\"player_{wid}\"\n",
    "        #     stage[\"votes\"][pid]\n",
    "        #     print(f'p_{wid} : {stage[\"votes\"][pid]}')\n",
    "        # print(stage['votes'])\n",
    "\n",
    "print_replay(replay[4])"
   ]
  }
 ],
 "metadata": {
  "kernelspec": {
   "display_name": "Python 3",
   "language": "python",
   "name": "python3"
  },
  "language_info": {
   "codemirror_mode": {
    "name": "ipython",
    "version": 3
   },
   "file_extension": ".py",
   "mimetype": "text/x-python",
   "name": "python",
   "nbconvert_exporter": "python",
   "pygments_lexer": "ipython3",
   "version": "3.10.9"
  },
  "orig_nbformat": 4
 },
 "nbformat": 4,
 "nbformat_minor": 2
}
