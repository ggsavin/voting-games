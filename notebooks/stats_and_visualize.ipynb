{
 "cells": [
  {
   "cell_type": "code",
   "execution_count": 1,
   "metadata": {},
   "outputs": [
    {
     "name": "stderr",
     "output_type": "stream",
     "text": [
      "/root/.local/lib/python3.10/site-packages/tqdm/auto.py:22: TqdmWarning: IProgress not found. Please update jupyter and ipywidgets. See https://ipywidgets.readthedocs.io/en/stable/user_install.html\n",
      "  from .autonotebook import tqdm as notebook_tqdm\n"
     ]
    }
   ],
   "source": [
    "import numpy as np\n",
    "import torch\n",
    "import sys\n",
    "sys.path.append('../')\n",
    "from voting_games.werewolf_env_v0 import plurality_env, pare, Phase, Roles\n",
    "import random\n",
    "import copy\n",
    "from tqdm import tqdm\n",
    "from collections import Counter\n",
    "import matplotlib.pyplot as plt\n",
    "from notebooks.learning_agents.models import ActorCriticAgent\n",
    "from notebooks.learning_agents.utils import play_recurrent_game\n"
   ]
  },
  {
   "attachments": {},
   "cell_type": "markdown",
   "metadata": {},
   "source": [
    "# Identifying villager voting behavior patterns and stats\n",
    "\n",
    "This notebook details the code used to look for certain identifiers in the voting patterns of villagers\n",
    "\n",
    "## Behavioral Indicators and Stats\n",
    "\n",
    "Other than training stats, possible in-game statistics may indicate different behavior and voting patterns amongst the agents\n",
    "\n",
    "We want to \n",
    " - Look at unique votes from villagers throughout accusation and voting. Do these go down?\n",
    "    - Is there a difference between wins/losses?\n",
    "\n",
    " - When are wolves voted out? Earlier or later?\n",
    "    - If so, when is the second wolf found? How many voting rounds after the first wolf killed\n",
    "\n",
    "\n",
    "\n",
    "Here are some things we might care about finding out:\n",
    "- [ ] How many execution votes led to ties? \n",
    "    - Did these favor the wolves or the villagers?\n",
    "- [ ] Villagers who have the same votes as others between accusations (is there accord between villagers)\n",
    "- [ ] What id's do wolves have in games with villager wins\n",
    "- [ ] How many distinct votes do we have? (per accusation round, per voting round)\n",
    "\n",
    "\n",
    "Some stuff might be specific to approval, plurality or ranked voting\n",
    "Approval \n",
    "- [ ] How many villagers vote the exact same way (with approvals and neutrals )\n",
    "- [ ] How many negative votes do villagers give on average. Does this change with training ? *Stat to track while training\n",
    "\n",
    "\n",
    "In terms of gathering up the stats, does it make more sense to look at the history, or does it make sense to just gather them while we train? it might be better to do it post game?"
   ]
  },
  {
   "cell_type": "markdown",
   "metadata": {},
   "source": [
    "Lets look at unique votes accusation -> voting\n",
    "How many unique votes are there from accusation to voting?\n",
    "If they switch, does a bigger count switch down to a little one? or does a smaller count lose a number to the bigger one?\n",
    "\n",
    "Did a villager switch to a werewolf vote?\n",
    "wolf to wolf?\n",
    "\n",
    "What proportion of votes are for werewolves?\n",
    "\n",
    "How often is the vote against a dead player?\n",
    "\n",
    "- [ ] In situations where we have a wolf who died, do players still vote against them?\n",
    "\n",
    "- [ ] Do we have 3 way ties between both werewolves and the werewolf target?\n",
    "        Is it possible that we actually lose because there is less consensus between agents on who they want to target?\n",
    "\n",
    "do villagers win more given a first wolf vote?\n",
    "is there a vote they key on quicker?\n",
    "\n",
    "On voting rounds:\n",
    "    - [ ] Does a wolf get lucky, and agents split their votes between the wolves, and the wolf target actually gets killed?\n",
    "\n",
    "General game questions:\n",
    "    - Does the first target a wolf pick impact their chance of winning? Alternatively, do villagers key better on certain first wolf votes?\n",
    "    - Do certain wolf id combinations lead to more villager wins? "
   ]
  },
  {
   "attachments": {},
   "cell_type": "markdown",
   "metadata": {},
   "source": [
    "## Static Wolf Policies"
   ]
  },
  {
   "cell_type": "code",
   "execution_count": 2,
   "metadata": {},
   "outputs": [],
   "source": [
    "def random_plurality_wolf(env, agent, action=None):\n",
    "    villagers_remaining = set(env.world_state[\"villagers\"]) & set(env.world_state['alive'])\n",
    "    return action if action != None else int(random.choice(list(villagers_remaining)).split(\"_\")[-1])\n",
    "\n",
    "def random_approval_wolf(env, agent, action=None):\n",
    "    if action != None:\n",
    "        return action\n",
    "\n",
    "    villagers_remaining = set(env.world_state[\"villagers\"]) & set(env.world_state['alive'])\n",
    "    wolves_remaining = set(env.world_state[\"werewolves\"]) & set(env.world_state['alive'])\n",
    "\n",
    "    # pick a living target\n",
    "    target = random.choice(list(villagers_remaining))\n",
    "\n",
    "    action = [0] * len(env.possible_agents)\n",
    "    action[int(target.split(\"_\")[-1])] = -1\n",
    "    for curr_wolf in wolves_remaining:\n",
    "        action[int(curr_wolf.split(\"_\")[-1])] = 1\n",
    "\n",
    "    return action"
   ]
  },
  {
   "attachments": {},
   "cell_type": "markdown",
   "metadata": {},
   "source": [
    "## Data collection\n",
    "\n",
    "We are going to use a trained agent, an untrained agent, and a random agent.\n",
    "This way we can maybe identify patterns that would seperate each one"
   ]
  },
  {
   "cell_type": "markdown",
   "metadata": {},
   "source": [
    "### Plurality Agent"
   ]
  },
  {
   "cell_type": "code",
   "execution_count": 5,
   "metadata": {},
   "outputs": [
    {
     "name": "stdout",
     "output_type": "stream",
     "text": [
      "Trained villagers won 469 games\n",
      "Untrained villagers won 37 games\n"
     ]
    }
   ],
   "source": [
    "env = plurality_env(num_agents=10, werewolves=2, num_accusations=2)\n",
    "observations, _, _, _, _ = env.reset()\n",
    "\n",
    "obs_size= env.convert_obs(observations['player_0']['observation']).shape[-1]\n",
    "\n",
    "untrained_plurality_agent = ActorCriticAgent({\"rec_hidden_size\": 128, \n",
    "                                        \"rec_layers\": 1,\n",
    "                                        \"joint_mlp_size\": 128,\n",
    "                                        \"split_mlp_size\": 128,\n",
    "                                        \"num_votes\": 1,\n",
    "                                        \"approval_states\": 10},\n",
    "                                        num_players=10,\n",
    "                                        obs_size=obs_size)\n",
    "\n",
    "trained_plurality_agent = ActorCriticAgent({\"rec_hidden_size\": 128,\n",
    "                                        \"rec_layers\": 1, \n",
    "                                        \"joint_mlp_size\": 128,\n",
    "                                        \"split_mlp_size\": 128,\n",
    "                                        \"num_votes\": 1,\n",
    "                                        \"approval_states\": 10},\n",
    "                                        num_players=10,\n",
    "                                        obs_size=obs_size)\n",
    "trained_plurality_agent.load_state_dict(torch.load(\"stored_agents/lstm_first_no_one_hot_128_128/plurality_agent_10_score_46\"))\n",
    "\n",
    "# random_agent = None\n",
    "\n",
    "trained_plurality_wins, trained_plurality_replays = play_recurrent_game(env, random_plurality_wolf, trained_plurality_agent, num_times=1000, hidden_state_size=128, voting_type=\"plurality\")\n",
    "untrained_plurality_wins, untrained_plurality_replays = play_recurrent_game(env, random_plurality_wolf, untrained_plurality_agent, num_times=1000, hidden_state_size=128, voting_type=\"plurality\")\n",
    "# random_wins, random_replays = play_recurrent_game_w_replays(env, random_coordinated_single_wolf, random_agent, num_times=1000, hidden_state_size=128, voting_type=\"plurality\")\n",
    "\n",
    "trained_plurality_villager_wins = [r for r in trained_plurality_replays if r[-1][\"winners\"] == Roles.VILLAGER]\n",
    "print(f'Trained villagers won {trained_plurality_wins} games')\n",
    "untrained_plurality_villager_wins = [r for r in untrained_plurality_replays if r[-1][\"winners\"] == Roles.VILLAGER]\n",
    "print(f'Untrained villagers won {untrained_plurality_wins} games')"
   ]
  },
  {
   "cell_type": "markdown",
   "metadata": {},
   "source": [
    "### Approval Agent"
   ]
  },
  {
   "cell_type": "code",
   "execution_count": 6,
   "metadata": {},
   "outputs": [
    {
     "name": "stdout",
     "output_type": "stream",
     "text": [
      "Trained villagers won 525 games\n",
      "Untrained villagers won 72 games\n"
     ]
    }
   ],
   "source": [
    "env = pare(num_agents=10, werewolves=2, num_accusations=2)\n",
    "observations, _, _, _, _ = env.reset()\n",
    "\n",
    "obs_size= env.convert_obs(observations['player_0']['observation']).shape[-1]\n",
    "observations['player_0']['observation']\n",
    "\n",
    "untrained_approval_agent = ActorCriticAgent({\"rec_hidden_size\": 256, \n",
    "                                        \"rec_layers\": 1,\n",
    "                                        \"joint_mlp_size\": 128,\n",
    "                                        \"split_mlp_size\": 128,\n",
    "                                        \"num_votes\": 10,\n",
    "                                        \"approval_states\": 3},\n",
    "                                        num_players=10,\n",
    "                                        obs_size=obs_size)\n",
    "\n",
    "trained_approval_agent = ActorCriticAgent({\"rec_hidden_size\": 256,\n",
    "                                        \"rec_layers\": 1, \n",
    "                                        \"joint_mlp_size\": 128,\n",
    "                                        \"split_mlp_size\": 128,\n",
    "                                        \"num_votes\": 10,\n",
    "                                        \"approval_states\": 3},\n",
    "                                        num_players=10,\n",
    "                                        obs_size=obs_size)\n",
    "trained_approval_agent.load_state_dict(torch.load(\"stored_agents/lstm_first_no_one_hot_256_128/approval_agent_10_score_49\"))\n",
    "\n",
    "# random_agent = None\n",
    "\n",
    "trained_approval_wins, trained_approval_replays = play_recurrent_game(env, random_approval_wolf, trained_approval_agent, num_times=1000, hidden_state_size=256, voting_type=\"approval\")\n",
    "untrained_approval_wins, untrained_approval_replays = play_recurrent_game(env, random_approval_wolf, untrained_approval_agent, num_times=1000, hidden_state_size=256, voting_type=\"approval\")\n",
    "# random_wins, random_replays = play_recurrent_game_w_replays(env, random_coordinated_single_wolf, random_agent, num_times=1000, hidden_state_size=128, voting_type=\"plurality\")\n",
    "\n",
    "trained_approval_villager_wins = [r for r in trained_approval_replays if r[-1][\"winners\"] == Roles.VILLAGER]\n",
    "print(f'Trained villagers won {trained_approval_wins} games')\n",
    "untrained_approval_villager_wins = [r for r in untrained_approval_replays if r[-1][\"winners\"] == Roles.VILLAGER]\n",
    "print(f'Untrained villagers won {untrained_approval_wins} games')\n"
   ]
  },
  {
   "cell_type": "markdown",
   "metadata": {},
   "source": [
    "#### Days to win \n",
    "\n",
    "One metric that highlights improvement is the number of days taken to win a game\n",
    "\n",
    "Note : \n",
    "The way the environment stores history is slightly different than observations. Whereas the latter stores the prior votes, env.history steps have the votes and the outcomes that occured at that particular day/phase/round.\n",
    "This makes analysis slightly easier, but we still need to track a few things"
   ]
  },
  {
   "cell_type": "code",
   "execution_count": 8,
   "metadata": {},
   "outputs": [
    {
     "name": "stdout",
     "output_type": "stream",
     "text": [
      "Average amount of days until a win is achieved by villagers in plurality games\n",
      "\t Trained villagers : 2.912580\n",
      "\t Untrained villagers : 3.405405\n",
      "\n",
      "\n",
      "Average amount of days until a win is achieved by villagers in approval games\n",
      "\t Trained villagers : 2.954286\n",
      "\t Untrained villagers : 3.444444\n"
     ]
    }
   ],
   "source": [
    "print(\"Average amount of days until a win is achieved by villagers in plurality games\")\n",
    "print(f'\\t Trained villagers : {np.mean([villager_win[-1][\"day\"] for villager_win in trained_plurality_villager_wins]):2f}')\n",
    "print(f'\\t Untrained villagers : {np.mean([villager_win[-1][\"day\"] for villager_win in untrained_plurality_villager_wins]):2f}')\n",
    "\n",
    "print(\"\\n\")\n",
    "\n",
    "print(\"Average amount of days until a win is achieved by villagers in approval games\")\n",
    "print(f'\\t Trained villagers : {np.mean([villager_win[-1][\"day\"] for villager_win in trained_approval_villager_wins]):2f}')\n",
    "print(f'\\t Untrained villagers : {np.mean([villager_win[-1][\"day\"] for villager_win in untrained_approval_villager_wins]):2f}')"
   ]
  },
  {
   "cell_type": "markdown",
   "metadata": {},
   "source": [
    "#### Days between wolf kills\n",
    "\n",
    "This is a slight variation to days it took to win, as we instead focus on how likely it was for agents to vote out another wolf after executing the first one"
   ]
  },
  {
   "cell_type": "code",
   "execution_count": 9,
   "metadata": {},
   "outputs": [],
   "source": [
    "def when_did_wolves_get_killed(game):\n",
    "    wolves = game[0]['werewolves']\n",
    "\n",
    "    days_wolves_executed = []\n",
    "    just_votes = []\n",
    "    for step in game:\n",
    "        if step[\"phase\"] == Phase.VOTING:\n",
    "            # first eecution\n",
    "            if len(step[\"executed\"]) == 1:\n",
    "                if step['executed'][0] in wolves:\n",
    "                    days_wolves_executed.append(step['day'])\n",
    "            else:\n",
    "                who_was_killed = list(set(step['executed']) - set(just_votes[-1]['executed']))[0]\n",
    "                if who_was_killed  in wolves:\n",
    "                    days_wolves_executed.append(step['day'])\n",
    "\n",
    "            just_votes.append(step)\n",
    "    \n",
    "    if len(days_wolves_executed) < len(wolves):\n",
    "        print(\"Not every wolf was killed!\")\n",
    "    \n",
    "    return days_wolves_executed"
   ]
  },
  {
   "cell_type": "code",
   "execution_count": 10,
   "metadata": {},
   "outputs": [
    {
     "name": "stdout",
     "output_type": "stream",
     "text": [
      "Average amount of days until the next wolf was killed in plurality games for 2 wolf environments\n",
      "\tDays between wolf kills for trained agents : 1.557\n",
      "\tDays between wolf kills for untrained agents : 1.946\n",
      "\n",
      "\n",
      "Average amount of days until the next wolf was killed in approval games for 2 wolf environments\n",
      "\tDays between wolf kills for trained agents : 1.461\n",
      "\tDays between wolf kills for untrained agents : 1.847\n"
     ]
    }
   ],
   "source": [
    "print(\"Average amount of days until the next wolf was killed in plurality games for 2 wolf environments\")\n",
    "wolf_execution_days = [when_did_wolves_get_killed(trained_villager_win) for trained_villager_win in trained_plurality_villager_wins]\n",
    "wolf_execution_duration_between = [b-a for a,b in wolf_execution_days]\n",
    "print(f'\\tDays between wolf kills for trained agents : {np.mean(wolf_execution_duration_between):.3f}')\n",
    "\n",
    "wolf_execution_days = [when_did_wolves_get_killed(untrained_villager_win) for untrained_villager_win in untrained_plurality_villager_wins]\n",
    "wolf_execution_duration_between = [b-a for a,b in wolf_execution_days]\n",
    "print(f'\\tDays between wolf kills for untrained agents : {np.mean(wolf_execution_duration_between):.3f}')\n",
    "\n",
    "print(\"\\n\")\n",
    "\n",
    "print(\"Average amount of days until the next wolf was killed in approval games for 2 wolf environments\")\n",
    "wolf_execution_days = [when_did_wolves_get_killed(trained_villager_win) for trained_villager_win in trained_approval_villager_wins]\n",
    "wolf_execution_duration_between = [b-a for a,b in wolf_execution_days]\n",
    "print(f'\\tDays between wolf kills for trained agents : {np.mean(wolf_execution_duration_between):.3f}')\n",
    "\n",
    "wolf_execution_days = [when_did_wolves_get_killed(untrained_villager_win) for untrained_villager_win in untrained_approval_villager_wins]\n",
    "wolf_execution_duration_between = [b-a for a,b in wolf_execution_days]\n",
    "print(f'\\tDays between wolf kills for untrained agents : {np.mean(wolf_execution_duration_between):.3f}')"
   ]
  },
  {
   "cell_type": "markdown",
   "metadata": {},
   "source": [
    "#### Tie games\n",
    "\n",
    "Other interesting data points involve tie voting rounds, and answering questins regarding how often they occur, do they occur less if a tie was incurred in the prior accusation round, do they include wolf targets, how often do wolves get lucky and if a wolf got lucky, are they targetted again the next round?"
   ]
  },
  {
   "cell_type": "code",
   "execution_count": 87,
   "metadata": {},
   "outputs": [],
   "source": [
    "def game_tie_info(game, voting_type=None):\n",
    "\twolves = game[0]['werewolves']\n",
    "\n",
    "\tjust_votes = []\n",
    "\ttie_days = []\n",
    "\n",
    "\t# wolf won the tie flip\n",
    "\tlucky_wolf_day = []\n",
    "\twolf_tie_day = []\n",
    "\n",
    "\tfor step in game:\n",
    "\n",
    "\t\tif voting_type == \"plurality\":\n",
    "\t\t\tvillager_votes = [vote for player, vote in step['votes'].items() if player not in wolves]\n",
    "\t\t\twolf_votes = [vote for player, vote in step['votes'].items() if player in wolves]\n",
    "\t\t\tall_votes = list(step['votes'].values())\n",
    "\t\telif voting_type == \"approval\":\n",
    "\t\t\tvillager_votes = np.concatenate([np.where(np.array(vote) == -1)[0] for player, vote in step['votes'].items() if player not in wolves]).tolist()\n",
    "\t\t\twolf_votes = np.concatenate([np.where(np.array(vote) == -1)[0] for player, vote in step['votes'].items() if player in wolves]).tolist()\n",
    "\t\t\tall_votes = np.concatenate([np.where(np.array(vote) == -1)[0] for player, vote in step['votes'].items()]).tolist()\n",
    "\n",
    "\t\tvillager_vote_counter = Counter(villager_votes)\n",
    "\t\tall_vote_counter = Counter(all_votes)\n",
    "\n",
    "\t\tif step[\"phase\"] == Phase.VOTING:\n",
    "\t\t\tjust_votes.append(step)\n",
    "\n",
    "    \t\t# was the vote a tie? did it lead to \n",
    "\t\t\tmax_votes_on_target = max(all_vote_counter.values())\n",
    "\t\t\ttargets = [k for k in all_vote_counter if all_vote_counter[k] == max_votes_on_target]\n",
    "\n",
    "\t\t\t# we have a tie\n",
    "\t\t\tif len(targets) > 1:\n",
    "\t\t\t\ttie_days.append(step[\"day\"])\n",
    "\t\t\t\t# are one of the targets a wolf target?\n",
    "\t\t\t\tis_a_target_a_wolf_target = sum([target in wolf_votes for target in targets])\n",
    "\t\t\t\t\n",
    "\t\t\t\t# is the tie between a dead player and a live player?\n",
    "\t\t\t\t# this won't  trigger a tie trigger though\n",
    "\t\t\t\tif len(step['executed']) == 1:\n",
    "\t\t\t\t\tdead_players = list(set(step['executed']) | set(step['killed']))\n",
    "\t\t\t\t\tkilled_this_turn = step['executed'][0]\n",
    "\t\t\t\telse:\n",
    "\t\t\t\t\tdead_players =  list((set(step['executed']) & set(just_votes[-2]['executed'])) | set(step['killed']))\n",
    "\t\t\t\t\tkilled_this_turn = list(set(step['executed']) - set(just_votes[-2]['executed']))[0]\n",
    "\n",
    "\t\t\t\t# is the tie only between dead players?\n",
    "\t\t\t\tis_a_target_a_living_wolf = sum([f'player_{target}' in wolves for target in targets if target not in dead_players])\n",
    "\n",
    "\t\t\t\t# so now, we want to know if we have at tie between a wolf target and a living wolf\n",
    "\t\t\t\tif is_a_target_a_living_wolf and is_a_target_a_wolf_target:\n",
    "\t\t\t\t\tif killed_this_turn not in wolves:\n",
    "\t\t\t\t\t\t# wolves got lucky\n",
    "\t\t\t\t\t\tlucky_wolf_day.append(step[\"day\"])\n",
    "\n",
    "\t\t\t\tif is_a_target_a_living_wolf:\n",
    "\t\t\t\t\twolf_tie_day.append(step[\"day\"])\n",
    "\n",
    "\treturn tie_days, lucky_wolf_day, wolf_tie_day"
   ]
  },
  {
   "cell_type": "code",
   "execution_count": 88,
   "metadata": {},
   "outputs": [],
   "source": [
    "tie_game_plurality_stats = [game_tie_info(trained_villager_win, voting_type=\"plurality\") for trained_villager_win in trained_plurality_villager_wins]\n",
    "tie_game_approval_stats = [game_tie_info(trained_villager_win, voting_type=\"approval\") for trained_villager_win in trained_approval_villager_wins]"
   ]
  },
  {
   "cell_type": "code",
   "execution_count": null,
   "metadata": {},
   "outputs": [],
   "source": []
  },
  {
   "cell_type": "code",
   "execution_count": 89,
   "metadata": {},
   "outputs": [
    {
     "name": "stdout",
     "output_type": "stream",
     "text": [
      "Plurality\n",
      " 0.47 share of games had a tie voting round\n",
      " 0.38 share of games had a wolf targetted as part of this tie vote, and 0.07 of times they got lucky\n",
      "Approval\n",
      " 0.68 share of games had a tie voting round\n",
      " 0.61 share of games had a wolf targetted as part of this tie vote, and 0.09 of times they got lucky\n"
     ]
    }
   ],
   "source": [
    "print(\"Plurality\")\n",
    "tie_games = [tie_game for tie_game in tie_game_plurality_stats if len(tie_game[0]) >= 1]\n",
    "wolf_ties = [tie_game for tie_game in tie_game_plurality_stats if len(tie_game[2]) >= 1]\n",
    "lucky_wolf = [tie_game for tie_game in tie_game_plurality_stats if len(tie_game[1]) >= 1]\n",
    "print(f' {len(tie_games)/len(trained_plurality_villager_wins):.2f} share of games had a tie voting round')\n",
    "print(f' {len(wolf_ties)/len(trained_plurality_villager_wins):.2f} share of games had a wolf targetted as part of this tie vote, and {len(lucky_wolf)/len(trained_plurality_villager_wins):.2f} of times they got lucky')\n",
    "\n",
    "\n",
    "print(\"Approval\")\n",
    "tie_games = [tie_game for tie_game in tie_game_approval_stats if len(tie_game[0]) >= 1]\n",
    "wolf_ties = [tie_game for tie_game in tie_game_approval_stats if len(tie_game[2]) >= 1]\n",
    "lucky_wolf = [tie_game for tie_game in tie_game_approval_stats if len(tie_game[1]) >= 1]\n",
    "print(f' {len(tie_games)/len(trained_approval_villager_wins):.2f} share of games had a tie voting round')\n",
    "print(f' {len(wolf_ties)/len(trained_approval_villager_wins):.2f} share of games had a wolf targetted as part of this tie vote, and {len(lucky_wolf)/len(trained_approval_villager_wins):.2f} of times they got lucky')\n"
   ]
  },
  {
   "cell_type": "markdown",
   "metadata": {},
   "source": [
    "Very interesting. Almost as if approval voting learn to split votes early, to see what happens. Their games are shorter than plurality games"
   ]
  },
  {
   "cell_type": "markdown",
   "metadata": {},
   "source": [
    "#### Villager target selection\n",
    "\n",
    "With this analytic point, we track target percentages throughout accusation rounds to the final voting round per day."
   ]
  },
  {
   "cell_type": "code",
   "execution_count": 66,
   "metadata": {},
   "outputs": [],
   "source": [
    "def game_per_day_target_indicators(game_replay, verbose=False):\n",
    "    wolves = game_replay[0]['werewolves']\n",
    "    if verbose:\n",
    "        print(f'Wolves : {wolves}\\n')\n",
    "    \n",
    "    # this will be an object of lists with each list containing the accusation and voting stats for the day\n",
    "    target_record = {}\n",
    "\n",
    "    vote_rounds = []\n",
    "    for i, step in enumerate(game_replay):\n",
    "        if step[\"phase\"] == Phase.NIGHT or i == 0:\n",
    "            continue\n",
    "        if step[\"phase\"] == Phase.VOTING:\n",
    "            vote_rounds.append(step)\n",
    "        \n",
    "        if step['day'] not in target_record.keys():\n",
    "            target_record[step['day']] = []\n",
    "        \n",
    "        villager_votes = [vote for player, vote in step['votes'].items() if player not in wolves]\n",
    "        all_votes = list(step['votes'].values())\n",
    "\n",
    "        villager_vote_counter = Counter(villager_votes)\n",
    "        all_vote_counter = Counter(all_votes)\n",
    "\n",
    "        unique_villager_votes = len(villager_vote_counter)\n",
    "        avg_self_vote = sum([1 for k,v in step['votes'].items() if int(k.split(\"_\")[-1]) == v and k not in wolves]) / float(len(villager_votes))\n",
    "        percent_of_villagers_targetting_wolves = sum([villager_vote_counter[int(wolf.split(\"_\")[-1])] for wolf in wolves]) / float(len(villager_votes))\n",
    "\n",
    "\n",
    "        # Who is dead?\n",
    "        if step[\"phase\"] == Phase.VOTING:\n",
    "            if len(vote_rounds) == 1:\n",
    "                dead_players = []\n",
    "                dead_wolves = []\n",
    "            else:\n",
    "                dead_players = list((set(step['executed']) & set(vote_rounds[-2]['executed'])) | set(step['killed']))\n",
    "                dead_wolves = list(set(wolves) & set(dead_players))\n",
    "        else:\n",
    "            dead_players = list(set(step['executed']) | set(step['killed']))\n",
    "            dead_wolves = list(set(wolves) & set(dead_players))\n",
    "\n",
    "        percent_of_villagers_targetting_dead_players = sum([villager_vote_counter[int(dead_player.split(\"_\")[-1])] for dead_player in dead_players]) / float(len(villager_votes))\n",
    "        percent_of_villagers_targetting_a_dead_wolf = sum([villager_vote_counter[int(dead_wolf.split(\"_\")[-1])] for dead_wolf in dead_wolves]) / float(len(villager_votes))\n",
    "\n",
    "        # add information to the record \n",
    "        target_record[step['day']].append([unique_villager_votes,\n",
    "                                           avg_self_vote,\n",
    "                                           percent_of_villagers_targetting_wolves, \n",
    "                                           percent_of_villagers_targetting_dead_players, \n",
    "                                           percent_of_villagers_targetting_a_dead_wolf])\n",
    "\n",
    "        # percent_of_villagers_targetting_a_dead_wolf = None\n",
    "        if verbose:\n",
    "            print(f'Day : {step[\"day\"]} | Phase : {step[\"phase\"]} | Round : {step[\"round\"]}')\n",
    "            print(f'Villager votes : {villager_votes}')\n",
    "            print(f'\\t | - {unique_villager_votes} players targetted, with {percent_of_villagers_targetting_wolves:.3f} of the votes targetting wolves and around  {avg_self_vote} of villagers targetting themselves')\n",
    "            print(f'\\t | - {percent_of_villagers_targetting_dead_players:.3f} share of the votes targetting dead players')\n",
    "            print(f'\\t | - {percent_of_villagers_targetting_a_dead_wolf:.3f} share of the votes targetting dead wolves\\n')\n",
    "\n",
    "    return target_record\n"
   ]
  },
  {
   "cell_type": "code",
   "execution_count": 67,
   "metadata": {},
   "outputs": [
    {
     "name": "stdout",
     "output_type": "stream",
     "text": [
      "Wolves : ['player_4', 'player_8']\n",
      "\n",
      "Day : 1 | Phase : 0 | Round : 0\n",
      "Villager votes : [2, 6, 9, 8, 9, 6, 6, 2]\n",
      "\t | - 4 players targetted, with 0.125 of the votes targetting wolves and around  0.0 of villagers targetting themselves\n",
      "\t | - 0.000 share of the votes targetting dead players\n",
      "\t | - 0.000 share of the votes targetting dead wolves\n",
      "\n",
      "Day : 1 | Phase : 0 | Round : 1\n",
      "Villager votes : [8, 8, 8, 9, 8, 4, 8, 3]\n",
      "\t | - 4 players targetted, with 0.750 of the votes targetting wolves and around  0.0 of villagers targetting themselves\n",
      "\t | - 0.000 share of the votes targetting dead players\n",
      "\t | - 0.000 share of the votes targetting dead wolves\n",
      "\n",
      "Day : 1 | Phase : 1 | Round : 0\n",
      "Villager votes : [4, 8, 8, 8, 9, 4, 8, 4]\n",
      "\t | - 3 players targetted, with 0.875 of the votes targetting wolves and around  0.0 of villagers targetting themselves\n",
      "\t | - 0.000 share of the votes targetting dead players\n",
      "\t | - 0.000 share of the votes targetting dead wolves\n",
      "\n",
      "Day : 2 | Phase : 0 | Round : 0\n",
      "Villager votes : [8, 8, 8, 8, 6, 7, 4]\n",
      "\t | - 4 players targetted, with 0.714 of the votes targetting wolves and around  0.0 of villagers targetting themselves\n",
      "\t | - 0.714 share of the votes targetting dead players\n",
      "\t | - 0.571 share of the votes targetting dead wolves\n",
      "\n",
      "Day : 2 | Phase : 0 | Round : 1\n",
      "Villager votes : [8, 7, 7, 9, 4, 9, 4]\n",
      "\t | - 4 players targetted, with 0.429 of the votes targetting wolves and around  0.0 of villagers targetting themselves\n",
      "\t | - 0.143 share of the votes targetting dead players\n",
      "\t | - 0.143 share of the votes targetting dead wolves\n",
      "\n",
      "Day : 2 | Phase : 1 | Round : 0\n",
      "Villager votes : [4, 8, 9, 7, 4, 9, 4]\n",
      "\t | - 4 players targetted, with 0.571 of the votes targetting wolves and around  0.0 of villagers targetting themselves\n",
      "\t | - 0.143 share of the votes targetting dead players\n",
      "\t | - 0.143 share of the votes targetting dead wolves\n",
      "\n"
     ]
    }
   ],
   "source": [
    "record = game_per_day_target_indicators(trained_plurality_villager_wins[0], verbose=True)"
   ]
  },
  {
   "cell_type": "code",
   "execution_count": 58,
   "metadata": {},
   "outputs": [],
   "source": [
    "def game_avg_records(game_replays, indicator_func):\n",
    "    records = [indicator_func(game_replay, verbose=False) for game_replay in game_replays]\n",
    "    max_days = max([max(record.keys()) for record in records])\n",
    "    avg_records = {i: None for i in range(1, max_days+1)}\n",
    "    for day in range(1, max_days+1):\n",
    "        avg_records[day] = np.mean(np.stack([record[day] for record in records if day in record.keys()]), axis=0)\n",
    "\n",
    "    return avg_records\n"
   ]
  },
  {
   "cell_type": "code",
   "execution_count": 61,
   "metadata": {},
   "outputs": [
    {
     "data": {
      "text/plain": [
       "{1: array([[4.50959488, 0.24466951, 0.        , 0.        ],\n",
       "        [4.36034115, 0.40351812, 0.        , 0.        ],\n",
       "        [3.85927505, 0.56583156, 0.        , 0.        ]]),\n",
       " 2: array([[3.87633262, 0.35429993, 0.21636714, 0.08559245],\n",
       "        [3.49466951, 0.40151284, 0.0716824 , 0.02741395],\n",
       "        [3.27292111, 0.46349883, 0.04406539, 0.01583917]]),\n",
       " 3: array([[3.13758389, 0.32416107, 0.37969799, 0.07449664],\n",
       "        [2.93624161, 0.40536913, 0.21610738, 0.02281879],\n",
       "        [2.80872483, 0.475     , 0.15503356, 0.01946309]]),\n",
       " 4: array([[2.27692308, 0.32820513, 0.55641026, 0.04871795],\n",
       "        [2.19230769, 0.49487179, 0.37692308, 0.04615385],\n",
       "        [1.94615385, 0.67179487, 0.25384615, 0.02564103]])}"
      ]
     },
     "execution_count": 61,
     "metadata": {},
     "output_type": "execute_result"
    }
   ],
   "source": [
    "game_avg_records(trained_plurality_villager_wins, game_per_day_target_indicators)"
   ]
  },
  {
   "cell_type": "markdown",
   "metadata": {},
   "source": [
    "We now do something similar for approval games"
   ]
  },
  {
   "cell_type": "code",
   "execution_count": 71,
   "metadata": {},
   "outputs": [],
   "source": [
    "def approval_target_indicators(game, verbose=False):\n",
    "    wolves = game[0]['werewolves']\n",
    "    villagers = game[0]['villagers']\n",
    "\n",
    "    # this will be an object of lists with each list containing the accusation and voting stats for the day\n",
    "    target_record = {}\n",
    "    \n",
    "    vote_rounds = []\n",
    "    for i, step in enumerate(game):\n",
    "\n",
    "        if step['phase'] == Phase.NIGHT or i == 0:\n",
    "            continue\n",
    "        if step[\"phase\"] == Phase.VOTING:\n",
    "            vote_rounds.append(step)\n",
    "        if step['day'] not in target_record.keys():\n",
    "            target_record[step['day']] = []\n",
    "\n",
    "        villager_votes = [vote for player, vote in step['votes'].items() if player not in wolves]\n",
    "        all_votes = list(step['votes'].values())\n",
    "\n",
    "        villager_targets = [np.where(np.array(villager_vote) == -1)[0] for villager_vote in villager_votes]\n",
    "        villager_likes = [np.where(np.array(villager_vote) == 1)[0] for villager_vote in villager_votes]\n",
    "        villager_neutrals = [np.where(np.array(villager_vote) == 0)[0] for villager_vote in villager_votes]\n",
    "\n",
    "        v_target_counter = Counter(np.concatenate(villager_targets))\n",
    "        v_like_counter = Counter(np.concatenate(villager_likes))\n",
    "        v_neutral_counter = Counter(np.concatenate(villager_neutrals))\n",
    "\n",
    "        ## AVERAGE UNIQUE TARGETS, LIKES, NEUTRALS ## \n",
    "        v_avg_target_count = np.mean([len(targets) for targets in villager_targets])\n",
    "        v_avg_like_count = np.mean([len(targets) for targets in villager_likes])\n",
    "        v_avg_neutral_count = np.mean([len(targets) for targets in villager_neutrals])\n",
    "\n",
    "        # do villagers target themselves and or like themselves\n",
    "        avg_vself_target = sum([1 for k,v in step['votes'].items() if v[int(k.split(\"_\")[-1])] == -1 and k not in wolves]) / float(len(villager_votes))\n",
    "        avg_vself_like = sum([1 for k,v in step['votes'].items() if v[int(k.split(\"_\")[-1])] == 1 and k not in wolves]) / float(len(villager_votes))\n",
    "\n",
    "        most_common_n_targets = int(len(v_target_counter)*0.3)\n",
    "        most_common_n_likes = int(len(v_like_counter)*0.3)\n",
    "\n",
    "        wolves_in_most_common_targets =\\\n",
    "            [int(wolf.split(\"_\")[-1]) for wolf in wolves if int(wolf.split(\"_\")[-1]) in [idx for idx, _ in v_target_counter.most_common(max(1,most_common_n_targets))]]\n",
    "\n",
    "        wolves_in_most_common_likes =\\\n",
    "            [int(wolf.split(\"_\")[-1]) for wolf in wolves if int(wolf.split(\"_\")[-1]) in [idx for idx, _ in v_like_counter.most_common(max(1,most_common_n_likes))]]\n",
    "\n",
    "        if step[\"phase\"] == Phase.VOTING:\n",
    "            if len(vote_rounds) == 1:\n",
    "                dead_players = []\n",
    "                dead_wolves = []\n",
    "                dead_villagers = []\n",
    "            else:\n",
    "                dead_players = list((set(step['executed']) & set(vote_rounds[-2]['executed'])) | set(step['killed']))\n",
    "                dead_wolves = list(set(wolves) & set(dead_players))\n",
    "                dead_villagers = list(set(villagers) & set(dead_players))\n",
    "        else:\n",
    "            dead_players = list(set(step['executed']) | set(step['killed']))\n",
    "            dead_wolves = list(set(wolves) & set(dead_players))\n",
    "            dead_villagers = list(set(villagers) & set(dead_players))\n",
    "        \n",
    "        # do the most liked individuals also get the least amount of votes?\n",
    "        total_target_votes = sum(v_target_counter.values())\n",
    "        total_like_votes = sum(v_like_counter.values())\n",
    "\n",
    "        # target percentages\n",
    "        percent_of_vtargets_toward_dead_players = sum([v_target_counter[int(dead_player.split(\"_\")[-1])] for dead_player in dead_players]) / float(total_target_votes)\n",
    "        percent_of_vtargets_toward_wolves = sum([v_target_counter[int(wolf.split(\"_\")[-1])] for wolf in wolves]) / float(total_target_votes)\n",
    "        percent_of_vtargets_toward_dead_wolves = sum([v_target_counter[int(dead_wolf.split(\"_\")[-1])] for dead_wolf in dead_wolves]) / float(total_target_votes)\n",
    "        percent_of_vtargets_toward_alive_wolves = sum([v_target_counter[int(wolf.split(\"_\")[-1])] for wolf in wolves if wolf not in dead_wolves]) / float(total_target_votes)\n",
    "\n",
    "        # how many likes are for other trusted villagers?\n",
    "        percentage_of_vlikes_for_alive_villagers = sum([v_like_counter[int(villager.split(\"_\")[-1])] for villager in villagers if villager not in dead_villagers]) / float(total_like_votes)\n",
    "        percentage_of_vlikes_for_dead_villagers = sum([v_like_counter[int(dead_villager.split(\"_\")[-1])] for dead_villager in dead_villagers]) / float(total_like_votes)\n",
    "\n",
    "        percentage_of_vlikes_for_dead_wolves = sum([v_like_counter[int(dead_wolf.split(\"_\")[-1])] for dead_wolf in dead_wolves]) / float(total_like_votes)\n",
    "        percentage_of_vlikes_for_alive_wolves = sum([v_like_counter[int(wolf.split(\"_\")[-1])] for wolf in wolves if wolf not in dead_wolves]) / float(total_like_votes)\n",
    "\n",
    "\n",
    "        # TODO: DO I repeat the above for numbers in the top n votes?\n",
    "        target_record[step['day']].append([v_avg_target_count,\n",
    "                                           v_avg_like_count,\n",
    "                                           v_avg_neutral_count,\n",
    "                                           avg_vself_target,\n",
    "                                           avg_vself_like,\n",
    "                                           most_common_n_targets,\n",
    "                                           len(wolves_in_most_common_targets),\n",
    "                                           most_common_n_likes,\n",
    "                                           len(wolves_in_most_common_likes),\n",
    "                                           percent_of_vtargets_toward_dead_players,\n",
    "                                           percent_of_vtargets_toward_wolves,\n",
    "                                           percent_of_vtargets_toward_dead_wolves,\n",
    "                                           percent_of_vtargets_toward_alive_wolves,\n",
    "                                           percentage_of_vlikes_for_alive_villagers,\n",
    "                                           percentage_of_vlikes_for_dead_villagers,\n",
    "                                           percentage_of_vlikes_for_dead_wolves,\n",
    "                                           percentage_of_vlikes_for_alive_wolves,\n",
    "                                           ])\n",
    "        \n",
    "\n",
    "        if verbose:\n",
    "            phase_name = \"Voting Phase\" if step['phase'] == Phase.VOTING else \"Accusation Phase\"\n",
    "            print(f'Day : {step[\"day\"]} | Phase : {step[\"phase\"]} - {phase_name} | Round : {step[\"round\"]}')\n",
    "            print(f'\\t | - avg targetted {v_avg_target_count:.2f}, liked {v_avg_like_count:.2f}, neutral {v_avg_neutral_count:.2f}, with {avg_vself_target:.2f} share of villagers targetting themselves, and {avg_vself_like:.2f} liking themselves')\n",
    "            print(f'\\t | -{len(wolves_in_most_common_targets)} wolves targetted in top {most_common_n_targets} votes')\n",
    "            print(f'\\t | -{len(wolves_in_most_common_likes)} wolves liked in top {most_common_n_likes} likes')\n",
    "            print(f'\\t | - % of votes towards dead players ({percent_of_vtargets_toward_dead_players:.2f}), towards dead wolves ({percent_of_vtargets_toward_dead_wolves:.2f}), towards wolves ({percent_of_vtargets_toward_wolves:.2f}), towards living wolves ({percent_of_vtargets_toward_alive_wolves:.2f})')\n",
    "            print(f'\\t | - % of likes towards dead wolves ({percentage_of_vlikes_for_dead_wolves:.2f}), towards alive wolves ({percentage_of_vlikes_for_alive_wolves:.2f})')\n",
    "            print(f'\\t | - % of likes towards dead villagers ({percentage_of_vlikes_for_dead_villagers:.2f}), towards alive villagers ({percentage_of_vlikes_for_alive_villagers:.2f})')\n",
    "            print(\"\\n\")\n",
    "\n",
    "    return target_record"
   ]
  },
  {
   "cell_type": "code",
   "execution_count": 72,
   "metadata": {},
   "outputs": [
    {
     "name": "stdout",
     "output_type": "stream",
     "text": [
      "Day : 1 | Phase : 0 - Accusation Phase | Round : 0\n",
      "\t | - avg targetted 3.75, liked 3.75, neutral 2.50, with 0.25 share of villagers targetting themselves, and 0.125 liking themselves\n",
      "\t | -2 wolves targetted in top 3 votes\n",
      "\t | -0 wolves liked in top 3 likes\n",
      "\t | - % of votes towards dead players (0.00), towards dead wolves (0.00), towards wolves (0.30), towards living wolves (0.30)\n",
      "\t | - % of likes towards dead wolves (0.00), towards alive wolves (0.13)\n",
      "\t | - % of likes towards dead villagers (0.00), towards alive villagers (0.87)\n",
      "\n",
      "\n",
      "Day : 1 | Phase : 0 - Accusation Phase | Round : 1\n",
      "\t | - avg targetted 3.38, liked 3.50, neutral 3.12, with 0.375 share of villagers targetting themselves, and 0.375 liking themselves\n",
      "\t | -1 wolves targetted in top 3 votes\n",
      "\t | -0 wolves liked in top 2 likes\n",
      "\t | - % of votes towards dead players (0.00), towards dead wolves (0.00), towards wolves (0.19), towards living wolves (0.19)\n",
      "\t | - % of likes towards dead wolves (0.00), towards alive wolves (0.18)\n",
      "\t | - % of likes towards dead villagers (0.00), towards alive villagers (0.82)\n",
      "\n",
      "\n",
      "Day : 1 | Phase : 1 - Voting Phase | Round : 0\n",
      "\t | - avg targetted 2.75, liked 3.50, neutral 3.75, with 0.125 share of villagers targetting themselves, and 0.625 liking themselves\n",
      "\t | -1 wolves targetted in top 2 votes\n",
      "\t | -0 wolves liked in top 3 likes\n",
      "\t | - % of votes towards dead players (0.00), towards dead wolves (0.00), towards wolves (0.36), towards living wolves (0.36)\n",
      "\t | - % of likes towards dead wolves (0.00), towards alive wolves (0.11)\n",
      "\t | - % of likes towards dead villagers (0.00), towards alive villagers (0.89)\n",
      "\n",
      "\n",
      "Day : 2 | Phase : 0 - Accusation Phase | Round : 0\n",
      "\t | - avg targetted 3.86, liked 2.86, neutral 3.29, with 0.14285714285714285 share of villagers targetting themselves, and 0.42857142857142855 liking themselves\n",
      "\t | -1 wolves targetted in top 3 votes\n",
      "\t | -1 wolves liked in top 2 likes\n",
      "\t | - % of votes towards dead players (0.19), towards dead wolves (0.11), towards wolves (0.22), towards living wolves (0.11)\n",
      "\t | - % of likes towards dead wolves (0.15), towards alive wolves (0.05)\n",
      "\t | - % of likes towards dead villagers (0.00), towards alive villagers (0.80)\n",
      "\n",
      "\n",
      "Day : 2 | Phase : 0 - Accusation Phase | Round : 1\n",
      "\t | - avg targetted 3.00, liked 3.86, neutral 3.14, with 0.42857142857142855 share of villagers targetting themselves, and 0.14285714285714285 liking themselves\n",
      "\t | -1 wolves targetted in top 3 votes\n",
      "\t | -1 wolves liked in top 3 likes\n",
      "\t | - % of votes towards dead players (0.10), towards dead wolves (0.05), towards wolves (0.24), towards living wolves (0.19)\n",
      "\t | - % of likes towards dead wolves (0.19), towards alive wolves (0.11)\n",
      "\t | - % of likes towards dead villagers (0.07), towards alive villagers (0.63)\n",
      "\n",
      "\n",
      "Day : 2 | Phase : 1 - Voting Phase | Round : 0\n",
      "\t | - avg targetted 3.71, liked 3.71, neutral 2.57, with 0.42857142857142855 share of villagers targetting themselves, and 0.5714285714285714 liking themselves\n",
      "\t | -1 wolves targetted in top 3 votes\n",
      "\t | -1 wolves liked in top 3 likes\n",
      "\t | - % of votes towards dead players (0.31), towards dead wolves (0.19), towards wolves (0.27), towards living wolves (0.08)\n",
      "\t | - % of likes towards dead wolves (0.04), towards alive wolves (0.12)\n",
      "\t | - % of likes towards dead villagers (0.08), towards alive villagers (0.77)\n",
      "\n",
      "\n",
      "Day : 3 | Phase : 0 - Accusation Phase | Round : 0\n",
      "\t | - avg targetted 4.60, liked 2.60, neutral 2.80, with 0.6 share of villagers targetting themselves, and 0.2 liking themselves\n",
      "\t | -0 wolves targetted in top 2 votes\n",
      "\t | -1 wolves liked in top 2 likes\n",
      "\t | - % of votes towards dead players (0.48), towards dead wolves (0.00), towards wolves (0.13), towards living wolves (0.13)\n",
      "\t | - % of likes towards dead wolves (0.23), towards alive wolves (0.00)\n",
      "\t | - % of likes towards dead villagers (0.23), towards alive villagers (0.54)\n",
      "\n",
      "\n",
      "Day : 3 | Phase : 0 - Accusation Phase | Round : 1\n",
      "\t | - avg targetted 3.00, liked 3.20, neutral 3.80, with 0.0 share of villagers targetting themselves, and 0.4 liking themselves\n",
      "\t | -1 wolves targetted in top 2 votes\n",
      "\t | -1 wolves liked in top 2 likes\n",
      "\t | - % of votes towards dead players (0.40), towards dead wolves (0.07), towards wolves (0.27), towards living wolves (0.20)\n",
      "\t | - % of likes towards dead wolves (0.19), towards alive wolves (0.06)\n",
      "\t | - % of likes towards dead villagers (0.19), towards alive villagers (0.56)\n",
      "\n",
      "\n",
      "Day : 3 | Phase : 1 - Voting Phase | Round : 0\n",
      "\t | - avg targetted 4.80, liked 2.80, neutral 2.40, with 0.6 share of villagers targetting themselves, and 0.2 liking themselves\n",
      "\t | -1 wolves targetted in top 2 votes\n",
      "\t | -0 wolves liked in top 2 likes\n",
      "\t | - % of votes towards dead players (0.29), towards dead wolves (0.04), towards wolves (0.25), towards living wolves (0.21)\n",
      "\t | - % of likes towards dead wolves (0.07), towards alive wolves (0.00)\n",
      "\t | - % of likes towards dead villagers (0.43), towards alive villagers (0.50)\n",
      "\n",
      "\n"
     ]
    }
   ],
   "source": [
    "_ = approval_target_indicators(trained_approval_villager_wins[0], verbose=True)"
   ]
  },
  {
   "cell_type": "code",
   "execution_count": 73,
   "metadata": {},
   "outputs": [
    {
     "data": {
      "text/plain": [
       "{1: array([[3.42190476, 3.2797619 , 3.29833333, 0.35666667, 0.32095238,\n",
       "         2.64952381, 0.45904762, 2.61142857, 0.5847619 , 0.        ,\n",
       "         0.19448546, 0.        , 0.19448546, 0.79212616, 0.        ,\n",
       "         0.        , 0.20787384],\n",
       "        [3.33142857, 3.28238095, 3.38619048, 0.3502381 , 0.31071429,\n",
       "         2.60952381, 0.60190476, 2.57904762, 0.53714286, 0.        ,\n",
       "         0.20916051, 0.        , 0.20916051, 0.80057958, 0.        ,\n",
       "         0.        , 0.19942042],\n",
       "        [3.19690476, 3.38238095, 3.42071429, 0.29452381, 0.34547619,\n",
       "         2.45142857, 1.03238095, 2.55809524, 0.35428571, 0.        ,\n",
       "         0.29445294, 0.        , 0.29445294, 0.8392938 , 0.        ,\n",
       "         0.        , 0.1607062 ]]),\n",
       " 2: array([[3.44163265, 3.24108844, 3.31727891, 0.37043084, 0.3046712 ,\n",
       "         2.48190476, 0.47809524, 2.41142857, 0.55238095, 0.2078003 ,\n",
       "         0.18770592, 0.05850358, 0.12920234, 0.64596733, 0.13925759,\n",
       "         0.05483049, 0.15994458],\n",
       "        [3.32884354, 3.29655329, 3.37460317, 0.34190476, 0.31718821,\n",
       "         2.41333333, 0.60761905, 2.4152381 , 0.47238095, 0.20376202,\n",
       "         0.21925453, 0.06286385, 0.15639068, 0.65972014, 0.14263696,\n",
       "         0.05163881, 0.14600408],\n",
       "        [3.18027211, 3.40975057, 3.40997732, 0.28870748, 0.34566893,\n",
       "         2.28190476, 1.02285714, 2.39047619, 0.29714286, 0.17730954,\n",
       "         0.31810982, 0.05467531, 0.2634345 , 0.69481209, 0.15312031,\n",
       "         0.05893649, 0.0931311 ]]),\n",
       " 3: array([[3.36270492, 3.30027322, 3.33702186, 0.35901639, 0.31434426,\n",
       "         2.17213115, 0.42076503, 2.17213115, 0.45628415, 0.40098704,\n",
       "         0.1943495 , 0.09191064, 0.10243886, 0.48033149, 0.31232658,\n",
       "         0.0931367 , 0.11420523],\n",
       "        [3.34057377, 3.26721311, 3.39221311, 0.33647541, 0.29644809,\n",
       "         2.14480874, 0.4863388 , 2.17759563, 0.43715847, 0.39376108,\n",
       "         0.2207387 , 0.09547484, 0.12526386, 0.49021929, 0.31243258,\n",
       "         0.08887203, 0.10847611],\n",
       "        [3.23019126, 3.27513661, 3.49467213, 0.27868852, 0.34289617,\n",
       "         2.04644809, 0.92622951, 2.1147541 , 0.2295082 , 0.37026199,\n",
       "         0.30396858, 0.0877304 , 0.21623817, 0.52207285, 0.32996885,\n",
       "         0.08481419, 0.06314411]]),\n",
       " 4: array([[3.4691358 , 3.17777778, 3.35308642, 0.37283951, 0.29876543,\n",
       "         1.66666667, 0.37037037, 1.60740741, 0.39259259, 0.58164659,\n",
       "         0.20197708, 0.10010939, 0.10186769, 0.29735093, 0.50507409,\n",
       "         0.1010116 , 0.09656338],\n",
       "        [3.36049383, 3.25185185, 3.38765432, 0.34567901, 0.3308642 ,\n",
       "         1.67407407, 0.38518519, 1.62962963, 0.2962963 , 0.57335501,\n",
       "         0.22322089, 0.09942031, 0.12380058, 0.30780372, 0.49854555,\n",
       "         0.08933026, 0.10432047],\n",
       "        [3.26666667, 3.3382716 , 3.39506173, 0.24691358, 0.37777778,\n",
       "         1.57777778, 0.82222222, 1.61481481, 0.22962963, 0.52576841,\n",
       "         0.3288928 , 0.08224113, 0.24665167, 0.31060531, 0.54392267,\n",
       "         0.10988302, 0.035589  ]])}"
      ]
     },
     "execution_count": 73,
     "metadata": {},
     "output_type": "execute_result"
    }
   ],
   "source": [
    "game_avg_records(trained_approval_villager_wins, approval_target_indicators)"
   ]
  },
  {
   "cell_type": "markdown",
   "metadata": {},
   "source": [
    "### Quantifying losing games"
   ]
  },
  {
   "cell_type": "markdown",
   "metadata": {},
   "source": [
    "### Graphs\n"
   ]
  },
  {
   "cell_type": "markdown",
   "metadata": {},
   "source": [
    "Should we give a penalty to players that target dead wolves? More than just targetting dead players in general?"
   ]
  },
  {
   "cell_type": "code",
   "execution_count": 18,
   "metadata": {},
   "outputs": [],
   "source": [
    "from collections import Counter\n",
    "import matplotlib.pyplot as plt"
   ]
  },
  {
   "cell_type": "code",
   "execution_count": 21,
   "metadata": {},
   "outputs": [],
   "source": [
    "labels, values = zip(*Counter([item for sublist in [villager_win[-1][\"werewolves\"] for villager_win in approval_trained_villager_wins] for item in sublist]).items())\n",
    "indexes = np.arange(len(labels))\n",
    "width = 10\n",
    "\n",
    "# plt.bar(indexes, values, width)\n",
    "# plt.xticks(indexes + width * 0.5, labels)\n",
    "# plt.tight_layout()\n",
    "# plt.xticks(rotation=60)\n",
    "# plt.show()npa"
   ]
  },
  {
   "cell_type": "code",
   "execution_count": null,
   "metadata": {},
   "outputs": [],
   "source": [
    "# load up trained agent\n",
    "# load up fresh agent for comparisons\n",
    "\n",
    "# play recurrent game_w_replays with both agents\n",
    "\n",
    "# try to answer the questions below\n",
    "\n",
    "\n",
    "# play_recurrent_game_w_replays()"
   ]
  },
  {
   "attachments": {},
   "cell_type": "markdown",
   "metadata": {},
   "source": [
    "## Replay visualization\n",
    "\n",
    "Need good ways to visualize the gameplay"
   ]
  },
  {
   "cell_type": "code",
   "execution_count": null,
   "metadata": {},
   "outputs": [],
   "source": [
    "# https://towardsdatascience.com/building-interactive-network-graphs-using-pyvis-5b8e6e25cf64"
   ]
  },
  {
   "cell_type": "code",
   "execution_count": null,
   "metadata": {},
   "outputs": [],
   "source": [
    "def print_replay(replay):\n",
    "    #[wolf for wolf in stage[\"werewolves\"]]\n",
    "    #print(\"Werewolves \\tVillagers\")\n",
    "    for stage in replay:\n",
    "        wolf_votes = [(f'p_{wolf.split(\"_\")[-1]}', stage[\"votes\"][wolf]) for wolf in stage[\"werewolves\"] if wolf in stage[\"votes\"]]\n",
    "        villager_votes = [(f'p{villager.split(\"_\")[-1]}', stage[\"votes\"][villager]) for villager in stage[\"villagers\"] if villager in stage[\"votes\"]]\n",
    "        print(f'Wolves \\t : {wolf_votes} \\t\\t Villagers : {villager_votes}')\n",
    "        #print([f'{wolf.split(\"_\")[-1]} : {stage[\"votes\"][\"player\"_{wolf.split(\"_\")[-1]}]}]' for wolf in stage[\"werewolves\"]])\n",
    "        # for wolf in stage['werewolves']:\n",
    "        #     wid = wolf.split(\"_\")[-1]\n",
    "        #     pid = f\"player_{wid}\"\n",
    "        #     stage[\"votes\"][pid]\n",
    "        #     print(f'p_{wid} : {stage[\"votes\"][pid]}')\n",
    "        # print(stage['votes'])\n",
    "\n",
    "print_replay(replay[4])"
   ]
  }
 ],
 "metadata": {
  "kernelspec": {
   "display_name": "Python 3",
   "language": "python",
   "name": "python3"
  },
  "language_info": {
   "codemirror_mode": {
    "name": "ipython",
    "version": 3
   },
   "file_extension": ".py",
   "mimetype": "text/x-python",
   "name": "python",
   "nbconvert_exporter": "python",
   "pygments_lexer": "ipython3",
   "version": "3.10.9"
  },
  "orig_nbformat": 4
 },
 "nbformat": 4,
 "nbformat_minor": 2
}
