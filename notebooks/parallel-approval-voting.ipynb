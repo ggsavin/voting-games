{
 "cells": [
  {
   "cell_type": "code",
   "execution_count": 3,
   "metadata": {},
   "outputs": [],
   "source": [
    "import numpy as np\n",
    "import torch\n",
    "import sys\n",
    "sys.path.append('../')\n",
    "from voting_games.werewolf_env_v0 import pare, pare_Role, pare_Phase\n",
    "import random\n",
    "from tqdm import tqdm"
   ]
  },
  {
   "cell_type": "code",
   "execution_count": 25,
   "metadata": {},
   "outputs": [
    {
     "name": "stdout",
     "output_type": "stream",
     "text": [
      "Average game length = 4.40\n",
      "Villager wins: 5\n"
     ]
    }
   ],
   "source": [
    "env = pare(num_agents=10, werewolves=2)\n",
    "env.reset()\n",
    "num_games = 10\n",
    "\n",
    "villager_wins = 0\n",
    "avg_game_length = 0\n",
    "\n",
    "for _ in range(num_games):\n",
    "    env.reset()\n",
    "\n",
    "    while env.agents:\n",
    "        actions = {}\n",
    "        for agent in env.agents:\n",
    "            if env.agent_roles[agent] == pare_Role.VILLAGER and env.world_state[\"phase\"] != pare_Phase.NIGHT:\n",
    "                actions[agent] = env.action_space(agent).sample().tolist()\n",
    "            elif env.agent_roles[agent] == pare_Role.WEREWOLF:\n",
    "                actions[agent] = env.action_space(agent).sample().tolist()\n",
    "\n",
    "        observations, rewards, terminations, truncations, infos = env.step(actions)\n",
    "    \n",
    "    winner = env.world_state['winners']\n",
    "    day = env.world_state['day']\n",
    "\n",
    "    if winner == pare_Role.VILLAGER:\n",
    "        villager_wins += 1\n",
    "    \n",
    "    avg_game_length += (day * 1.0)/num_games     \n",
    "\n",
    "print(f'Average game length = {avg_game_length:.2f}')\n",
    "print(f'Villager wins: {villager_wins}')"
   ]
  }
 ],
 "metadata": {
  "kernelspec": {
   "display_name": "Python 3",
   "language": "python",
   "name": "python3"
  },
  "language_info": {
   "codemirror_mode": {
    "name": "ipython",
    "version": 3
   },
   "file_extension": ".py",
   "mimetype": "text/x-python",
   "name": "python",
   "nbconvert_exporter": "python",
   "pygments_lexer": "ipython3",
   "version": "3.10.9"
  },
  "orig_nbformat": 4
 },
 "nbformat": 4,
 "nbformat_minor": 2
}
