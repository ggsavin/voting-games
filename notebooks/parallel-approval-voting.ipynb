{
 "cells": [
  {
   "cell_type": "code",
   "execution_count": 1,
   "metadata": {},
   "outputs": [
    {
     "name": "stderr",
     "output_type": "stream",
     "text": [
      "/root/.local/lib/python3.10/site-packages/tqdm/auto.py:22: TqdmWarning: IProgress not found. Please update jupyter and ipywidgets. See https://ipywidgets.readthedocs.io/en/stable/user_install.html\n",
      "  from .autonotebook import tqdm as notebook_tqdm\n"
     ]
    },
    {
     "name": "stdout",
     "output_type": "stream",
     "text": [
      "Done\n"
     ]
    }
   ],
   "source": [
    "import numpy as np\n",
    "import torch\n",
    "import sys\n",
    "sys.path.append('../')\n",
    "from voting_games.werewolf_env_v0 import pare, pare_Role, pare_Phase\n",
    "import random\n",
    "from tqdm import tqdm"
   ]
  },
  {
   "cell_type": "code",
   "execution_count": 2,
   "metadata": {},
   "outputs": [],
   "source": [
    "env = pare(num_agents=10, werewolves=2)\n",
    "env.reset()\n",
    "\n",
    "def random_coordinated_wolf(env):\n",
    "    actions = {}\n",
    "\n",
    "    villagers_remaining = set(env.world_state[\"villagers\"]) & set(env.world_state['alive'])\n",
    "    wolves_remaining = set(env.world_state[\"werewolves\"]) & set(env.world_state['alive'])\n",
    "\n",
    "    target = random.choice(list(villagers_remaining))\n",
    "    # pick \n",
    "    for wolf in wolves_remaining:\n",
    "        actions[wolf] = [0] * len(env.possible_agents)\n",
    "        actions[wolf][int(target.split(\"_\")[-1])] = -1\n",
    "        for curr_wolf in wolves_remaining:\n",
    "            actions[wolf][int(curr_wolf.split(\"_\")[-1])] = 1\n",
    "\n",
    "    return actions\n",
    "\n",
    "def aggressive_wolf(env):\n",
    "    actions = {}\n",
    "\n",
    "    wolves_remaining = set(env.world_state[\"werewolves\"]) & set(env.world_state['alive'])\n",
    "\n",
    "    for wolf in wolves_remaining:\n",
    "        actions[wolf] = [-1] * len(env.possible_agents)\n",
    "        for curr_wolf in wolves_remaining:\n",
    "            actions[wolf][int(curr_wolf.split(\"_\")[-1])] = 1\n",
    "\n",
    "    return actions\n",
    "\n",
    "def random_wolfs(env):\n",
    "    return {wolf: env.action_space(wolf).sample().tolist() for\n",
    "            wolf in set(env.world_state[\"werewolves\"]) & set(env.world_state['alive'])}\n",
    "\n",
    "\n",
    "def revenge_coordinated_wolf(env, actions = None):\n",
    "    villagers_remaining = set(env.world_state[\"villagers\"]) & set(env.world_state['alive'])\n",
    "    wolves_remaining = set(env.world_state[\"werewolves\"]) & set(env.world_state['alive'])\n",
    "\n",
    "    # who tried to vote out a wolf last time?\n",
    "    \n",
    "    target = random.choice(list(villagers_remaining))\n",
    "    # pick \n",
    "    for wolf in wolves_remaining:\n",
    "        actions[wolf] = [0] * len(env.possible_agents)\n",
    "        actions[wolf][int(target.split(\"_\")[-1])] = -1\n",
    "        for curr_wolf in wolves_remaining:\n",
    "            actions[wolf][int(curr_wolf.split(\"_\")[-1])] = 1\n",
    "    # for wolf in env.werewolves_remaining:\n",
    "\n",
    "def random_single_target_villager(env, agent):\n",
    "    targets = set(env.world_state[\"alive\"]) - set([agent])\n",
    "    action = [0] * len(env.possible_agents)\n",
    "    action[int(agent.split(\"_\")[-1])] = 1\n",
    "    action[int(random.choice(list(targets)).split(\"_\")[-1])] = -1\n",
    "\n",
    "    return action\n",
    "    # for villager in env.villagers_remaining:\n",
    "\n",
    "# random_coordinated_wolf(env)\n",
    "def random_agent_action(env, agent):\n",
    "   return env.action_space(agent).sample().tolist()\n",
    "\n",
    "# def random_wolf(env, action=None):\n"
   ]
  },
  {
   "attachments": {},
   "cell_type": "markdown",
   "metadata": {},
   "source": []
  },
  {
   "cell_type": "code",
   "execution_count": 85,
   "metadata": {},
   "outputs": [
    {
     "name": "stdout",
     "output_type": "stream",
     "text": [
      "Random Coordinated Wolves\n",
      "\t vs. Single Target Random Villagers\n"
     ]
    },
    {
     "name": "stderr",
     "output_type": "stream",
     "text": [
      "Villagers won 136 out of a total of 1000 games: 100%|██████████| 1000/1000 [21:27<00:00,  1.29s/it] \n"
     ]
    },
    {
     "name": "stdout",
     "output_type": "stream",
     "text": [
      "\t vs. Random Villagers\n"
     ]
    },
    {
     "name": "stderr",
     "output_type": "stream",
     "text": [
      "Villagers won 75 out of a total of 1000 games: 100%|██████████| 1000/1000 [00:11<00:00, 86.84it/s]\n"
     ]
    },
    {
     "name": "stdout",
     "output_type": "stream",
     "text": [
      "------------------------------------\n",
      "\n",
      "Aggresive Wolves\n",
      "\t vs. Single Target Random Villagers\n"
     ]
    },
    {
     "name": "stderr",
     "output_type": "stream",
     "text": [
      "Villagers won 20 out of a total of 1000 games: 100%|██████████| 1000/1000 [00:08<00:00, 121.51it/s]\n"
     ]
    },
    {
     "name": "stdout",
     "output_type": "stream",
     "text": [
      "\t vs. Random Villagers\n"
     ]
    },
    {
     "name": "stderr",
     "output_type": "stream",
     "text": [
      "Villagers won 7 out of a total of 1000 games: 100%|██████████| 1000/1000 [00:10<00:00, 94.28it/s]\n"
     ]
    },
    {
     "name": "stdout",
     "output_type": "stream",
     "text": [
      "------------------------------------\n",
      "\n",
      "Random Wolves\n",
      "\t vs. Single Target Random Villagers\n"
     ]
    },
    {
     "name": "stderr",
     "output_type": "stream",
     "text": [
      "Villagers won 655 out of a total of 1000 games: 100%|██████████| 1000/1000 [00:09<00:00, 102.46it/s]\n"
     ]
    },
    {
     "name": "stdout",
     "output_type": "stream",
     "text": [
      "\t vs. Random Villagers\n"
     ]
    },
    {
     "name": "stderr",
     "output_type": "stream",
     "text": [
      "Villagers won 591 out of a total of 1000 games: 100%|██████████| 1000/1000 [00:12<00:00, 82.59it/s]"
     ]
    },
    {
     "name": "stdout",
     "output_type": "stream",
     "text": [
      "------------------------------------\n",
      "\n"
     ]
    },
    {
     "name": "stderr",
     "output_type": "stream",
     "text": [
      "\n"
     ]
    }
   ],
   "source": [
    "def play_static_wolf_game(env, wolf_policy, villager_agent, num_times=100) -> tuple(pare_Role):\n",
    "\n",
    "    villager_wins = 0\n",
    "    loop = tqdm(range(num_times))\n",
    "\n",
    "    for _ in loop:\n",
    "        observations, rewards, terminations, truncations, infos = env.reset()\n",
    "        while env.agents:\n",
    "            actions = {}\n",
    "\n",
    "            villagers = set(env.agents) & set(env.world_state[\"villagers\"])\n",
    "            wolves = set(env.agents) & set(env.world_state[\"werewolves\"])\n",
    "\n",
    "            # villager steps\n",
    "            if env.world_state[\"phase\"] != pare_Phase.NIGHT:\n",
    "                # villagers actions\n",
    "                for villager in villagers:\n",
    "                    actions[villager] = villager_agent(env, villager)\n",
    "\n",
    "            # wolf steps\n",
    "            actions = actions | wolf_policy(env)\n",
    "        \n",
    "            observations, rewards, terminations, truncations, infos = env.step(actions)\n",
    "\n",
    "        winner = env.world_state['winners']\n",
    "        if winner == pare_Role.VILLAGER:\n",
    "            villager_wins += 1\n",
    "\n",
    "        loop.set_description(f\"Villagers won {villager_wins} out of a total of {num_times} games\")\n",
    "\n",
    "env = pare(num_agents=10, werewolves=2)\n",
    "env.reset()\n",
    "\n",
    "print(\"Random Coordinated Wolves\")\n",
    "print(\"\\t vs. Single Target Random Villagers\")\n",
    "play_static_wolf_game(env, random_coordinated_wolf, random_single_target_villager, num_times=1000)\n",
    "print(\"\\t vs. Random Villagers\")\n",
    "play_static_wolf_game(env, random_coordinated_wolf, random_agent_action, num_times=1000)\n",
    "print(\"------------------------------------\\n\")\n",
    "print(\"Aggresive Wolves\")\n",
    "print(\"\\t vs. Single Target Random Villagers\")\n",
    "play_static_wolf_game(env, aggressive_wolf, random_single_target_villager, num_times=1000)\n",
    "print(\"\\t vs. Random Villagers\")\n",
    "play_static_wolf_game(env, aggressive_wolf, random_agent_action, num_times=1000)\n",
    "print(\"------------------------------------\\n\")\n",
    "print(\"Random Wolves\")\n",
    "print(\"\\t vs. Single Target Random Villagers\")\n",
    "play_static_wolf_game(env, random_wolfs, random_single_target_villager, num_times=1000)\n",
    "print(\"\\t vs. Random Villagers\")\n",
    "play_static_wolf_game(env, random_wolfs, random_agent_action, num_times=1000)\n",
    "print(\"------------------------------------\\n\")\n"
   ]
  },
  {
   "attachments": {},
   "cell_type": "markdown",
   "metadata": {},
   "source": [
    "## Training Agents"
   ]
  },
  {
   "attachments": {},
   "cell_type": "markdown",
   "metadata": {},
   "source": [
    "The agent structure will be much the same as the agent structure in"
   ]
  },
  {
   "cell_type": "code",
   "execution_count": 4,
   "metadata": {},
   "outputs": [],
   "source": [
    "from learning_agents.approval_agents import SequentialAgent\n",
    "import mlflow"
   ]
  },
  {
   "cell_type": "code",
   "execution_count": 16,
   "metadata": {},
   "outputs": [
    {
     "name": "stderr",
     "output_type": "stream",
     "text": [
      "  0%|          | 38/10000 [00:08<37:07,  4.47it/s]"
     ]
    }
   ],
   "source": [
    "ent_coef = 0.1 #\n",
    "vf_coef = 0.1 #\n",
    "clip_coef = 0.1 #\n",
    "gamma = 0.99 #\n",
    "gae_lambda = 0.95\n",
    "batch_size = 32 #\n",
    "max_cycles = 125 #\n",
    "total_episodes = 10000 #\n",
    "update_epochs = 3 #\n",
    "\n",
    "# stats to keep track of for custom metrics\n",
    "self_voting = []\n",
    "dead_voting = []\n",
    "\n",
    "avg_game_length = 0\n",
    "wolf_wins = 0\n",
    "villager_wins = 0\n",
    "\n",
    "num_agents = 10\n",
    "env = pare(num_agents=num_agents, werewolves=2)\n",
    "env.reset()\n",
    "observation_size = env.convert_obs(env.observation_spaces['player_1'].sample()['observation']).shape[-1]\n",
    "\n",
    "# Learner Setup\n",
    "training_agent = SequentialAgent(num_players=num_agents, approval_states= 3, obs_size=observation_size)\n",
    "optimizer = torch.optim.Adam(training_agent.parameters(), lr=0.001, eps=1e-5)\n",
    "\n",
    "\n",
    "with mlflow.start_run(run_name='Training our agents'):\n",
    "    \n",
    "    for episode in tqdm(range(total_episodes)):\n",
    "        observations, rewards, terminations, truncations, infos = env.reset()\n",
    "        magent_obs = {agent: {'obs': [], 'rewards': [], 'actions': [], 'logprobs': [], 'values': [], 'terms': []} for agent in env.agents if not env.agent_roles[agent]}\n",
    "\n",
    "        with torch.no_grad():\n",
    "            while env.agents:\n",
    "                actions = {}\n",
    "                villagers = set(env.agents) & set(env.world_state[\"villagers\"])\n",
    "                wolves = set(env.agents) & set(env.world_state[\"werewolves\"])\n",
    "\n",
    "                if env.world_state[\"phase\"] != pare_Phase.NIGHT:\n",
    "                    # villagers actions\n",
    "                    for villager in villagers:\n",
    "                        # only cares about observations\n",
    "                        obs = torch.Tensor(env.convert_obs(observations[villager]['observation']))\n",
    "                        ml_action, logprobs, _, value = training_agent.get_action_and_value(obs)\n",
    "                        \n",
    "                        actions[villager] = training_agent.convert_actions_to_approvals(ml_action)\n",
    "\n",
    "                        # missing rewards, term\n",
    "                        magent_obs[villager][\"obs\"].append(obs)\n",
    "                        magent_obs[villager][\"actions\"].append(ml_action)\n",
    "                        magent_obs[villager][\"logprobs\"].append(logprobs)\n",
    "                        magent_obs[villager][\"values\"].append(value)\n",
    "\n",
    "                # TODO : pass in a wolf policy possibly\n",
    "                actions = actions | random_coordinated_wolf(env)\n",
    "            \n",
    "                observations, rewards, terminations, truncations, infos = env.step(actions)\n",
    "\n",
    "                # lets add the post step information now\n",
    "                # TODO: Should we not care about villagers losing here? What if they die at night, we want them to get a death reward\n",
    "                # TODO: What if the game ends on a night kill? We want the villagers to still get their rewards\n",
    "                if env.history[-1][\"phase\"] != pare_Phase.NIGHT:\n",
    "                    for villager in villagers:\n",
    "                        magent_obs[villager][\"rewards\"].append(rewards[villager])\n",
    "                        magent_obs[villager][\"terms\"].append(terminations[villager])\n",
    "\n",
    "            # POST GAME STATS #\n",
    "            winner = env.world_state['winners']\n",
    "\n",
    "            if winner == pare_Role.VILLAGER:\n",
    "                villager_wins += 1\n",
    "        \n",
    "            # END OF POST GAME STATS #\n",
    "            mlflow.log_metric(\"villager wins\", villager_wins)\n",
    "            if episode % 50 == 0:\n",
    "                #wwins, vwins = play_and_return_stats(env, random_wolf_policy, ppo_agent, num_games=100)\n",
    "                #mlflow.log_metric(\"wwins\", wwins)\n",
    "                #mlflow.log_metric(\"vwins\", vwins)\n",
    "                continue\n",
    "        \n",
    "        \n",
    "        \n",
    "        # We will do this for each agent in the episode\n",
    "        # essentially we are calculating advantages and returns\n",
    "            with torch.no_grad():\n",
    "                for player, records in magent_obs.items():\n",
    "                    # print(f'{records}')\n",
    "                    advantages = torch.zeros_like(torch.tensor(records['rewards']))\n",
    "\n",
    "                    for t in reversed(range(len(records['obs']))):\n",
    "                        # print(f'T: {t+1} - Rewards : {torch.tensor(records[\"rewards\"])[t+1]} ')\n",
    "                        # not using terms, as these are episodic\n",
    "\n",
    "                        ## this was the last one. We are not using any terminal states in a good way\n",
    "\n",
    "                        if t == len(records['obs']) - 1:\n",
    "                            #print(f'T: {t} - Rewards at end : {torch.tensor(records[\"rewards\"])[t]} ')\n",
    "                            #print(f'T: {t} - Actions at end : {torch.tensor(records[\"actions\"])[t]} ')\n",
    "                            delta = records[\"rewards\"][t] - records[\"values\"][t]\n",
    "                            advantages[t]  = delta\n",
    "                        else:\n",
    "                            #print(f'T: {t} - Rewards : {torch.tensor(records[\"rewards\"])[t]} ')\n",
    "                            #print(f'T: {t} - Actions : {torch.tensor(records[\"actions\"])[t]} ')                    \n",
    "                            delta = records[\"rewards\"][t] + gamma * records[\"values\"][t+1] - records[\"values\"][t]\n",
    "                            advantages[t]  = delta + gamma * gamma * advantages[t+1]\n",
    "\n",
    "                        #delta = records['rewards'][t] + gamma * records['values'][t+1] - records['values'][t]\n",
    "                    magent_obs[player][\"advantages\"] = advantages\n",
    "                    magent_obs[player][\"returns\"] = advantages + torch.tensor(records[\"values\"])\n",
    "                        #advantages[t] = delta + gamma * gamma * advantages[t+1]\n",
    "        \n",
    "            # new logic, maybe we do this after a couple of games, so we get more data overall?\n",
    "\n",
    "            # optimize the policy and the value network now\n",
    "            # we can take all our observations now and flatten them into one bigger list of individual transitions\n",
    "            # TODO: could make this setting into a single loop, but maybe this is clearer. ALso could make all these tensors earlier\n",
    "            b_observations = torch.cat([torch.stack(item['obs']) for item in magent_obs.values()])\n",
    "            b_logprobs = torch.cat([torch.stack(item['logprobs']) for item in magent_obs.values()])\n",
    "            b_actions = torch.cat([torch.stack(item['actions']) for item in magent_obs.values()])\n",
    "            b_returns = torch.cat([item['returns'] for item in magent_obs.values()])\n",
    "            b_values = torch.cat([torch.stack(item['values']) for item in magent_obs.values()])\n",
    "            b_advantages =  torch.cat([item['advantages'] for item in magent_obs.values()])\n",
    "\n",
    "\n",
    "\n",
    "            # b_index stands for batch index\n",
    "            b_index = np.arange(len(b_observations))\n",
    "            clip_fracs = []\n",
    "            for epoch in range(update_epochs):\n",
    "                np.random.shuffle(b_index)\n",
    "                for start in range(0, len(b_observations), batch_size):\n",
    "                    end = start + batch_size\n",
    "                    batch_index = b_index[start:end]\n",
    "\n",
    "                    # TODO: batched actions, How to handle batched observations and acctions properly in the agent\n",
    "                    #       Maybe a different \n",
    "\n",
    "                    # newlogprob needs to return a list of logprobs\n",
    "                    _, newlogprob, entropy, value = training_agent.get_batched_action_and_value(\n",
    "                        b_observations[batch_index], b_actions[batch_index])\n",
    "                    \n",
    "                    logratio = newlogprob - b_logprobs[batch_index]\n",
    "                    ratio = logratio.exp()\n",
    "\n",
    "                    with torch.no_grad():\n",
    "                        # calculate approx_kl http://joschu.net/blog/kl-approx.html\n",
    "                        old_approx_kl = (-logratio).mean()\n",
    "                        approx_kl = ((ratio - 1) - logratio).mean()\n",
    "                        clip_fracs += [\n",
    "                            ((ratio - 1.0).abs() > clip_coef).float().mean().item()\n",
    "                        ]\n",
    "                    \n",
    "                    # normalizing advantages\n",
    "                    advantages = b_advantages[batch_index]\n",
    "                    advantages = advantages.float()\n",
    "                    advantages = (advantages - advantages.mean()) / (advantages.std() + 1e-8)\n",
    "\n",
    "                    # policy loss\n",
    "                    pg_loss1 = -advantages * ratio\n",
    "                    pg_loss2 = -advantages * torch.clamp(ratio, 1 - clip_coef, 1 + clip_coef)\n",
    "                    pg_loss = torch.max(pg_loss1, pg_loss2).mean()\n",
    "\n",
    "                    # value loss\n",
    "                    value = value.flatten()\n",
    "                    v_loss_unclipped = (value - b_returns[batch_index]) ** 2\n",
    "                    v_clipped = b_values[batch_index] + torch.clamp(\n",
    "                        value - b_values[batch_index],\n",
    "                        -clip_coef,\n",
    "                        clip_coef,\n",
    "                    )\n",
    "                    v_loss_clipped = (v_clipped - b_returns[batch_index]) ** 2\n",
    "                    v_loss_max = torch.max(v_loss_unclipped, v_loss_clipped)\n",
    "                    v_loss = 0.5 * v_loss_max.mean()\n",
    "\n",
    "                    entropy_loss = entropy.mean()\n",
    "                    loss = pg_loss - ent_coef * entropy_loss + v_loss * vf_coef\n",
    "\n",
    "                    optimizer.zero_grad()\n",
    "                    # loss = torch.Variable(loss, requires_grad = True)\n",
    "                    loss.requires_grad = True\n",
    "                    loss.backward()\n",
    "                    optimizer.step()\n",
    "            \n",
    "            # could move them from GPU here\n",
    "            y_pred, y_true = b_values.numpy(), b_returns.numpy()\n",
    "            var_y = np.var(y_true)\n",
    "            explained_var = np.nan if var_y == 0 else 1 - np.var(y_true - y_pred) / var_y\n",
    "\n",
    "        # At the end, print some stuff here for overall stats\n",
    "\n",
    "        # print(f'Average game length = {avg_game_length:.2f}')\n",
    "        # print(f'Wolf wins : {wolf_wins}')\n",
    "        # print(f'Villager wins: {villager_wins}')\n",
    "        # print(f'Avg amount of self votes a game across villagers: {sum(self_voting)/len(self_voting)}')\n",
    "\n",
    "torch.save(training_agent, \"pare_training_agent\")"
   ]
  },
  {
   "cell_type": "code",
   "execution_count": null,
   "metadata": {},
   "outputs": [],
   "source": []
  }
 ],
 "metadata": {
  "kernelspec": {
   "display_name": "Python 3",
   "language": "python",
   "name": "python3"
  },
  "language_info": {
   "codemirror_mode": {
    "name": "ipython",
    "version": 3
   },
   "file_extension": ".py",
   "mimetype": "text/x-python",
   "name": "python",
   "nbconvert_exporter": "python",
   "pygments_lexer": "ipython3",
   "version": "3.10.9"
  },
  "orig_nbformat": 4
 },
 "nbformat": 4,
 "nbformat_minor": 2
}
