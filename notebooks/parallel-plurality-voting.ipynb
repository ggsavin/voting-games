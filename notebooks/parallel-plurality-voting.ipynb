{
 "cells": [
  {
   "cell_type": "code",
   "execution_count": 10,
   "metadata": {},
   "outputs": [],
   "source": [
    "import numpy as np\n",
    "import torch\n",
    "import sys\n",
    "sys.path.append('../')\n",
    "from voting_games.werewolf_env_v0 import plurality_env, plurality_Phase, plurality_Role\n",
    "import random\n",
    "import copy\n",
    "from typing import Any, Generator, Optional, Tuple\n",
    "from tqdm import tqdm"
   ]
  },
  {
   "cell_type": "code",
   "execution_count": 8,
   "metadata": {},
   "outputs": [],
   "source": [
    "env = plurality_env(num_agents=10, werewolves=2)\n",
    "env.reset()\n",
    "\n",
    "def random_coordinated_wolf(env):\n",
    "    villagers_remaining = set(env.world_state[\"villagers\"]) & set(env.world_state['alive'])\n",
    "    wolves_remaining = set(env.world_state[\"werewolves\"]) & set(env.world_state['alive'])\n",
    "\n",
    "    target = random.choice(list(villagers_remaining))\n",
    "    return {wolf: int(target.split(\"_\")[-1]) for wolf in wolves_remaining}\n",
    "\n",
    "def random_wolfs(env):\n",
    "    return {wolf: env.action_space(wolf).sample() for\n",
    "            wolf in set(env.world_state[\"werewolves\"]) & set(env.world_state['alive'])}\n",
    "\n",
    "def revenge_coordinated_wolf(env, actions = None):\n",
    "    villagers_remaining = set(env.world_state[\"villagers\"]) & set(env.world_state['alive'])\n",
    "    wolves_remaining = set(env.world_state[\"werewolves\"]) & set(env.world_state['alive'])\n",
    "\n",
    "    # who tried to vote out a wolf last time?\n",
    "    \n",
    "    target = random.choice(list(villagers_remaining))\n",
    "    # pick \n",
    "    for wolf in wolves_remaining:\n",
    "        actions[wolf] = [0] * len(env.possible_agents)\n",
    "        actions[wolf][int(target.split(\"_\")[-1])] = -1\n",
    "        for curr_wolf in wolves_remaining:\n",
    "            actions[wolf][int(curr_wolf.split(\"_\")[-1])] = 1\n",
    "    # for wolf in env.werewolves_remaining:\n",
    "\n",
    "def random_single_target_villager(env, agent):\n",
    "    targets = set(env.world_state[\"alive\"]) - set([agent])\n",
    "    return int(random.choice(list(targets)).split(\"_\")[-1])\n",
    "\n",
    "# random_coordinated_wolf(env)\n",
    "def random_agent_action(env, agent):\n",
    "   return env.action_space(agent).sample()\n"
   ]
  },
  {
   "cell_type": "code",
   "execution_count": 9,
   "metadata": {},
   "outputs": [
    {
     "name": "stdout",
     "output_type": "stream",
     "text": [
      "Random Coordinated Wolves\n",
      "\t vs. Single Target Random Villagers\n"
     ]
    },
    {
     "name": "stderr",
     "output_type": "stream",
     "text": [
      "Villagers won 105 out of a total of 1000 games: 100%|██████████| 1000/1000 [00:05<00:00, 176.66it/s]\n"
     ]
    },
    {
     "name": "stdout",
     "output_type": "stream",
     "text": [
      "\t vs. Random Villagers\n"
     ]
    },
    {
     "name": "stderr",
     "output_type": "stream",
     "text": [
      "Villagers won 51 out of a total of 1000 games: 100%|██████████| 1000/1000 [00:04<00:00, 200.31it/s]\n"
     ]
    },
    {
     "name": "stdout",
     "output_type": "stream",
     "text": [
      "------------------------------------\n",
      "\n",
      "Random Wolves\n",
      "\t vs. Single Target Random Villagers\n"
     ]
    },
    {
     "name": "stderr",
     "output_type": "stream",
     "text": [
      "Villagers won 689 out of a total of 1000 games: 100%|██████████| 1000/1000 [00:04<00:00, 200.93it/s]\n"
     ]
    },
    {
     "name": "stdout",
     "output_type": "stream",
     "text": [
      "\t vs. Random Villagers\n"
     ]
    },
    {
     "name": "stderr",
     "output_type": "stream",
     "text": [
      "Villagers won 589 out of a total of 1000 games: 100%|██████████| 1000/1000 [00:05<00:00, 175.50it/s]"
     ]
    },
    {
     "name": "stdout",
     "output_type": "stream",
     "text": [
      "------------------------------------\n",
      "\n"
     ]
    },
    {
     "name": "stderr",
     "output_type": "stream",
     "text": [
      "\n"
     ]
    }
   ],
   "source": [
    "def play_static_wolf_game(env, wolf_policy, villager_agent, num_times=100) -> tuple(plurality_Role):\n",
    "\n",
    "    villager_wins = 0\n",
    "    loop = tqdm(range(num_times))\n",
    "\n",
    "    for _ in loop:\n",
    "        next_observations, rewards, terminations, truncations, infos = env.reset()\n",
    "        while env.agents:\n",
    "            observations = copy.deepcopy(next_observations)\n",
    "            actions = {}\n",
    "\n",
    "            villagers = set(env.agents) & set(env.world_state[\"villagers\"])\n",
    "            wolves = set(env.agents) & set(env.world_state[\"werewolves\"])\n",
    "\n",
    "            # villager steps\n",
    "            if env.world_state[\"phase\"] != plurality_Phase.NIGHT:\n",
    "                # villagers actions\n",
    "                for villager in villagers:\n",
    "                    actions[villager] = villager_agent(env, villager)\n",
    "\n",
    "            # wolf steps\n",
    "            actions = actions | wolf_policy(env)\n",
    "        \n",
    "            next_observations, rewards, terminations, truncations, infos = env.step(actions)\n",
    "\n",
    "        winner = env.world_state['winners']\n",
    "        if winner == plurality_Role.VILLAGER:\n",
    "            villager_wins += 1\n",
    "\n",
    "        loop.set_description(f\"Villagers won {villager_wins} out of a total of {num_times} games\")\n",
    "\n",
    "env = plurality_env(num_agents=10, werewolves=2)\n",
    "env.reset()\n",
    "\n",
    "print(\"Random Coordinated Wolves\")\n",
    "print(\"\\t vs. Single Target Random Villagers\")\n",
    "play_static_wolf_game(env, random_coordinated_wolf, random_single_target_villager, num_times=1000)\n",
    "print(\"\\t vs. Random Villagers\")\n",
    "play_static_wolf_game(env, random_coordinated_wolf, random_agent_action, num_times=1000)\n",
    "print(\"------------------------------------\\n\")\n",
    "print(\"Random Wolves\")\n",
    "print(\"\\t vs. Single Target Random Villagers\")\n",
    "play_static_wolf_game(env, random_wolfs, random_single_target_villager, num_times=1000)\n",
    "print(\"\\t vs. Random Villagers\")\n",
    "play_static_wolf_game(env, random_wolfs, random_agent_action, num_times=1000)\n",
    "print(\"------------------------------------\\n\")"
   ]
  },
  {
   "cell_type": "code",
   "execution_count": null,
   "metadata": {},
   "outputs": [],
   "source": [
    "class PluralityAgent(torch.nn.Module):\n",
    "\n",
    "    def __init__():\n",
    "        pass\n",
    "\n",
    "    def forward(self, x):\n",
    "        h_0\n",
    "        c_0"
   ]
  },
  {
   "cell_type": "code",
   "execution_count": 11,
   "metadata": {},
   "outputs": [
    {
     "ename": "SyntaxError",
     "evalue": "incomplete input (1809460814.py, line 32)",
     "output_type": "error",
     "traceback": [
      "\u001b[0;36m  Cell \u001b[0;32mIn[11], line 32\u001b[0;36m\u001b[0m\n\u001b[0;31m    def end_trajectory(self, last_value: np.ndarray, last_done: int):\u001b[0m\n\u001b[0m                                                                     ^\u001b[0m\n\u001b[0;31mSyntaxError\u001b[0m\u001b[0;31m:\u001b[0m incomplete input\n"
     ]
    }
   ],
   "source": [
    "class PluralityRolloutBuffer():\n",
    "    \n",
    "    def __init__(self, \n",
    "                 buffer_size: int, \n",
    "                 state_dim: Tuple[int],\n",
    "                 action_space: gym.Space,\n",
    "                 gamma: float, \n",
    "                 gae_lambda: float,\n",
    "                 device: str,\n",
    "                 is_recurrent: bool,\n",
    "                 recurrent_size: int = None,\n",
    "                 ):\n",
    "        self.buffer_size = buffer_size\n",
    "        self.state_dim = state_dim\n",
    "        self.action_space = action_space\n",
    "        self.action_dim = (action_space.n,) if isinstance(action_space, gym.spaces.Discrete) else action_space.shape\n",
    "        self.gamma = gamma \n",
    "        self.gae_lambda = gae_lambda\n",
    "        self.device = device\n",
    "        self.is_recurrent = is_recurrent\n",
    "        if self.is_recurrent:\n",
    "            self.recurrent_size = recurrent_size\n",
    "        \n",
    "        self.reset()\n",
    "\n",
    "    def reset(self):\n",
    "\n",
    "        self.rewards = None\n",
    "        self.actions = None\n",
    "        self.dones = None\n",
    "        self.observations = None\n",
    "\n",
    "        # do we want these for both actor and critic?\n",
    "        self.hxs = None \n",
    "        self.cxs = None\n",
    "\n",
    "        self.log_probs = None\n",
    "        self.values = None\n",
    "        self.advantages = None\n",
    "\n",
    "        pass\n",
    "\n",
    "    def add_sample(self, sample: Tuple[Any]) -> bool:\n",
    "        pass\n",
    "\n",
    "    def end_trajectory(self, last_value: np.ndarray, last_done: int):\n",
    "\n",
    "\n",
    "    def sample_batch(self, recurrent_seq_len: int, whole_episodes: bool = False, batch_size: Optional[int] = 256)"
   ]
  },
  {
   "cell_type": "code",
   "execution_count": null,
   "metadata": {},
   "outputs": [],
   "source": [
    "def fill_buffer(env, wolf_policy, training_agent, num_times=100) -> tuple(plurality_Role):\n",
    "\n",
    "    villager_wins = 0\n",
    "    loop = tqdm(range(num_times))\n",
    "\n",
    "    \n",
    "\n",
    "    for _ in loop:\n",
    "\n",
    "        ## Play the game \n",
    "        next_observations, rewards, terminations, truncations, infos = env.reset()\n",
    "        magent_obs = {agent: {'obs': [], \n",
    "                              'rewards': [], \n",
    "                              'actions': [], \n",
    "                              'logprobs': [], \n",
    "                              'values': [], \n",
    "                              'terms': []} for agent in env.agents if not env.agent_roles[agent]}\n",
    "        while env.agents:\n",
    "            observations = copy.deepcopy(next_observations)\n",
    "            actions = {}\n",
    "\n",
    "            villagers = set(env.agents) & set(env.world_state[\"villagers\"])\n",
    "            wolves = set(env.agents) & set(env.world_state[\"werewolves\"])\n",
    "\n",
    "            # villager steps\n",
    "            if env.world_state[\"phase\"] != plurality_Phase.NIGHT:\n",
    "                # villagers actions\n",
    "                for villager in villagers:\n",
    "                    obs = torch.Tensor(env.convert_obs(observations[villager]['observation']))\n",
    "                    ml_action, logprobs, _, value = training_agent.get_action_and_value(obs)\n",
    "\n",
    "                    actions[villager] = training_agent.get_action_and_value(obs)\n",
    "\n",
    "                    # can store some stuff \n",
    "                    magent_obs[villager][\"obs\"].append(obs)\n",
    "                    magent_obs[villager][\"actions\"].append(ml_action)\n",
    "                    magent_obs[villager][\"logprobs\"].append(logprobs)\n",
    "                    magent_obs[villager][\"values\"].append(value)\n",
    "\n",
    "            # wolf steps\n",
    "            actions = actions | wolf_policy(env)\n",
    "        \n",
    "            next_observations, rewards, terminations, truncations, infos = env.step(actions)\n",
    "\n",
    "            for villager in villagers:\n",
    "                    if env.history[-1][\"phase\"] == plurality_Phase.NIGHT:\n",
    "                        magent_obs[villager][\"rewards\"][-1] += rewards[villager]\n",
    "                        magent_obs[villager][\"terms\"][-1] += terminations[villager]\n",
    "                    else:\n",
    "                        magent_obs[villager][\"rewards\"].append(rewards[villager])\n",
    "                        magent_obs[villager][\"terms\"].append(terminations[villager])\n",
    "\n",
    "\n",
    "        winner = env.world_state['winners']\n",
    "        if winner == plurality_Role.VILLAGER:\n",
    "            villager_wins += 1\n",
    "\n",
    "        ## Update the advantages\n",
    "\n",
    "        ## Fill bigger buffer, keeping in mind sequence\n",
    "\n",
    "\n",
    "        loop.set_description(f\"Villagers won {villager_wins} out of a total of {num_times} games\")\n",
    "\n",
    "env = plurality_env(num_agents=10, werewolves=2)\n",
    "env.reset()\n"
   ]
  }
 ],
 "metadata": {
  "kernelspec": {
   "display_name": "Python 3",
   "language": "python",
   "name": "python3"
  },
  "language_info": {
   "codemirror_mode": {
    "name": "ipython",
    "version": 3
   },
   "file_extension": ".py",
   "mimetype": "text/x-python",
   "name": "python",
   "nbconvert_exporter": "python",
   "pygments_lexer": "ipython3",
   "version": "3.10.9"
  },
  "orig_nbformat": 4
 },
 "nbformat": 4,
 "nbformat_minor": 2
}
